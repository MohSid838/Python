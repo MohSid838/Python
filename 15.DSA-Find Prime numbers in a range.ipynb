{
 "cells": [
  {
   "cell_type": "markdown",
   "id": "afd3bd37",
   "metadata": {},
   "source": [
    "Problem Statement :\n",
    "\n",
    "Given two integers M and N, generate all primes between M and N including M and N.."
   ]
  },
  {
   "cell_type": "markdown",
   "id": "a0a47d7c",
   "metadata": {},
   "source": [
    "Example :\n",
    "Input:\n",
    "M=2, N=5\n",
    "Output:\n",
    "2,3,5\n",
    "Explanation:\n",
    "The prime numbers between 2 and 5 are \n",
    "2,3 and 5."
   ]
  },
  {
   "cell_type": "code",
   "execution_count": 15,
   "id": "959440a1",
   "metadata": {},
   "outputs": [
    {
     "name": "stdout",
     "output_type": "stream",
     "text": [
      "[2, 3, 5]\n"
     ]
    }
   ],
   "source": [
    "class Solution:\n",
    "    def primerange(self,M,N):\n",
    "        ar=[]\n",
    "        for i in range(M,N+1):\n",
    "            if self.isPrime(i):\n",
    "                ar.append(i)\n",
    "        return ar\n",
    "    def isPrime(self,N):\n",
    "        if N<2:\n",
    "            return False\n",
    "        for i in range(2,int(N**0.5)+1):\n",
    "            if N%i==0:\n",
    "                return False\n",
    "        return True\n",
    "print(Solution().primerange(2,5))"
   ]
  }
 ],
 "metadata": {
  "kernelspec": {
   "display_name": "Python 3",
   "language": "python",
   "name": "python3"
  },
  "language_info": {
   "codemirror_mode": {
    "name": "ipython",
    "version": 3
   },
   "file_extension": ".py",
   "mimetype": "text/x-python",
   "name": "python",
   "nbconvert_exporter": "python",
   "pygments_lexer": "ipython3",
   "version": "3.11.8"
  }
 },
 "nbformat": 4,
 "nbformat_minor": 5
}
