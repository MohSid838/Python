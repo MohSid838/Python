{
 "cells": [
  {
   "cell_type": "code",
   "execution_count": 1,
   "id": "2c6db187",
   "metadata": {},
   "outputs": [
    {
     "data": {
      "text/plain": [
       "31"
      ]
     },
     "execution_count": 1,
     "metadata": {},
     "output_type": "execute_result"
    }
   ],
   "source": [
    "class Person:\n",
    "    def __init__(self,name,age):\n",
    "        self.name=name\n",
    "        self.age=age\n",
    "#name and age are attributes\n",
    "#Create an instance of Person\n",
    "sarah = Person(\"Sarah\",31)\n",
    "sarah.age"
   ]
  },
  {
   "cell_type": "code",
   "execution_count": 2,
   "id": "a9f5d2c1",
   "metadata": {},
   "outputs": [
    {
     "name": "stdout",
     "output_type": "stream",
     "text": [
      "Planet Earth\n"
     ]
    }
   ],
   "source": [
    "class Person:\n",
    "    residence=\"Planet Earth\"\n",
    "#Accessed without an instance\n",
    "print(Person.residence)"
   ]
  },
  {
   "cell_type": "code",
   "execution_count": 6,
   "id": "87c393a2",
   "metadata": {},
   "outputs": [
    {
     "name": "stdout",
     "output_type": "stream",
     "text": [
      "Hello, my name is Chuck\n"
     ]
    }
   ],
   "source": [
    "#instance methods\n",
    "class Person:\n",
    "    def __init__(self, name, age):\n",
    "        self.name = name\n",
    "        self.age = age\n",
    "    def introduce(self):\n",
    "        print(f\"Hello, my name is {self.name}\")\n",
    "# create an instance\n",
    "chuck = Person(\"Chuck\", 32)\n",
    "chuck.introduce()"
   ]
  },
  {
   "cell_type": "code",
   "execution_count": 8,
   "id": "8cee8951",
   "metadata": {},
   "outputs": [
    {
     "name": "stdout",
     "output_type": "stream",
     "text": [
      "Time to start your day!\n"
     ]
    }
   ],
   "source": [
    "#class methods\n",
    "class Person:\n",
    "    @classmethod\n",
    "    def wake_up(cls):\n",
    "        print(\"Time to start your day!\")\n",
    "#calling a class method\n",
    "Person.wake_up()"
   ]
  },
  {
   "cell_type": "code",
   "execution_count": 9,
   "id": "249ae974",
   "metadata": {},
   "outputs": [],
   "source": [
    "#Inheritence\n",
    "class Person:\n",
    "    def __init__(self,name,age):\n",
    "        self.name\n",
    "        self.age=age\n",
    "    def introduce(self):\n",
    "        print(f\"Hello, my name is {self.name}\")"
   ]
  },
  {
   "cell_type": "code",
   "execution_count": 22,
   "id": "e24db949",
   "metadata": {},
   "outputs": [
    {
     "name": "stdout",
     "output_type": "stream",
     "text": [
      "Hello, my name is Lester\n",
      "Technician\n",
      "Cashier\n",
      "[<class '__main__.Employee'>, <class '__main__.Person'>, <class 'object'>]\n"
     ]
    }
   ],
   "source": [
    "#Inheritence\n",
    "class Person:\n",
    "    def __init__(self,name,age):\n",
    "        self.name=name\n",
    "        self.age=age\n",
    "    def introduce(self):\n",
    "        print(f\"Hello, my name is {self.name}\")\n",
    "class Employee(Person):\n",
    "    def __init__(self,name,age,title):\n",
    "        Person.__init__(self,name,age)\n",
    "        self.title=title\n",
    "    def change_position(self,new_title):\n",
    "        self.title=new_title\n",
    "lester=Employee(\"Lester\",26,\"Technician\")\n",
    "lester.introduce() #inherited from Person\n",
    "print(lester.title)\n",
    "lester.change_position(\"Cashier\")\n",
    "print(lester.title)\n",
    "print(Employee.mro())"
   ]
  },
  {
   "cell_type": "code",
   "execution_count": null,
   "id": "ceb65659",
   "metadata": {},
   "outputs": [
    {
     "name": "stdout",
     "output_type": "stream",
     "text": [
      "True\n"
     ]
    }
   ],
   "source": [
    "\n",
    "class Person:\n",
    "    def __init__(self,name):\n",
    "        self.name=name\n",
    "    def __eq__(self,other):\n",
    "        return self.name==other.name\n",
    "#compare two person objects\n",
    "chuck=Person(\"Charles Car\")\n",
    "charles=Person(\"Charles Car\")\n",
    "print(chuck==charles)"
   ]
  },
  {
   "cell_type": "code",
   "execution_count": 18,
   "id": "3166365a",
   "metadata": {},
   "outputs": [
    {
     "ename": "NameError",
     "evalue": "name 'Other' is not defined",
     "output_type": "error",
     "traceback": [
      "\u001b[1;31m---------------------------------------------------------------------------\u001b[0m",
      "\u001b[1;31mNameError\u001b[0m                                 Traceback (most recent call last)",
      "Cell \u001b[1;32mIn[18], line 10\u001b[0m\n\u001b[0;32m      8\u001b[0m rookies\u001b[38;5;241m=\u001b[39mTeam([\u001b[38;5;124m\"\u001b[39m\u001b[38;5;124mCasey\u001b[39m\u001b[38;5;124m\"\u001b[39m,\u001b[38;5;124m\"\u001b[39m\u001b[38;5;124mEmmitt\u001b[39m\u001b[38;5;124m\"\u001b[39m])\n\u001b[0;32m      9\u001b[0m veterans\u001b[38;5;241m=\u001b[39mTeam([\u001b[38;5;124m\"\u001b[39m\u001b[38;5;124mMike\u001b[39m\u001b[38;5;124m\"\u001b[39m,\u001b[38;5;124m\"\u001b[39m\u001b[38;5;124mChuck\u001b[39m\u001b[38;5;124m\"\u001b[39m])\n\u001b[1;32m---> 10\u001b[0m dream_team\u001b[38;5;241m=\u001b[39m\u001b[43mrookies\u001b[49m\u001b[38;5;241;43m+\u001b[39;49m\u001b[43mveterans\u001b[49m\n\u001b[0;32m     11\u001b[0m \u001b[38;5;28mprint\u001b[39m(\u001b[38;5;28mtype\u001b[39m(dream_team))\n\u001b[0;32m     12\u001b[0m \u001b[38;5;28mprint\u001b[39m(dream_team\u001b[38;5;241m.\u001b[39mteam_members)\n",
      "Cell \u001b[1;32mIn[18], line 6\u001b[0m, in \u001b[0;36mTeam.__add__\u001b[1;34m(self, other)\u001b[0m\n\u001b[0;32m      5\u001b[0m \u001b[38;5;28;01mdef\u001b[39;00m \u001b[38;5;21m__add__\u001b[39m(\u001b[38;5;28mself\u001b[39m,other):\n\u001b[1;32m----> 6\u001b[0m     \u001b[38;5;28;01mreturn\u001b[39;00m Team(\u001b[38;5;28mself\u001b[39m\u001b[38;5;241m.\u001b[39mteam_members \u001b[38;5;241m+\u001b[39m \u001b[43mOther\u001b[49m\u001b[38;5;241m.\u001b[39mteam_members)\n",
      "\u001b[1;31mNameError\u001b[0m: name 'Other' is not defined"
     ]
    }
   ],
   "source": [
    "#OVerloading with + operator\n",
    "class Team:\n",
    "    def __init__(self,team_members):\n",
    "        self.team_members=team_members\n",
    "    def __add__(self,other):\n",
    "        return Team(self.team_members + Other.team_members)\n",
    "#create two teams\n",
    "rookies=Team([\"Casey\",\"Emmitt\"])\n",
    "veterans=Team([\"Mike\",\"Chuck\"])\n",
    "dream_team=rookies+veterans\n",
    "print(type(dream_team))\n",
    "print(dream_team.team_members)"
   ]
  },
  {
   "cell_type": "code",
   "execution_count": 21,
   "id": "8aa0c503",
   "metadata": {},
   "outputs": [
    {
     "ename": "IndentationError",
     "evalue": "expected an indented block after function definition on line 18 (2101943509.py, line 19)",
     "output_type": "error",
     "traceback": [
      "\u001b[1;36m  Cell \u001b[1;32mIn[21], line 19\u001b[1;36m\u001b[0m\n\u001b[1;33m    stephen = Intern(\"Software development\",\"Echo\", 10)\u001b[0m\n\u001b[1;37m                                                       ^\u001b[0m\n\u001b[1;31mIndentationError\u001b[0m\u001b[1;31m:\u001b[0m expected an indented block after function definition on line 18\n"
     ]
    }
   ],
   "source": [
    "#multiple inheritance\n",
    "class Employee:\n",
    "    def __init__(self,department):\n",
    "        self.department=department\n",
    "    def begin_job(self):\n",
    "        print(f\"Welcome to {self.department}!\")\n",
    "\n",
    "class Student:\n",
    "    def __init__(self,school):\n",
    "        self.school=school\n",
    "        self.courses=[]\n",
    "    def add_course(self,course_name):\n",
    "        self.courses.append(course_name)\n",
    "class Intern(Employee, Student):\n",
    "    def __init__(self,department,school,duration):\n",
    "        Employee.__init__(self,department)\n",
    "        Student.duration=duration\n",
    "    def onboard(self,mentor):\n",
    "stephen = Intern(\"Software development\",\"Echo\", 10)\n",
    "stephen.begin_job()\n",
    "stephen.add_course(\"Intermediate in OOP\")\n",
    "print(stephen.courses)"
   ]
  },
  {
   "cell_type": "code",
   "execution_count": null,
   "id": "dd94412e",
   "metadata": {},
   "outputs": [
    {
     "name": "stdout",
     "output_type": "stream",
     "text": [
      "XXX-XX-9876\n"
     ]
    }
   ],
   "source": [
    "#descriptors -Masking\n",
    "class Student:\n",
    "    def __init__(self,name,ssn):\n",
    "        self.name=name\n",
    "        self.ssn=ssn\n",
    "    @property\n",
    "    def ssn(self):\n",
    "        return \"XXX-XX-\" +self._ssn[-4:]\n",
    "    @ssn.setter\n",
    "    def ssn(self,new_ssn):\n",
    "        self._ssn=new_ssn\n",
    "    @ssn.deleter\n",
    "    def ssn(self):\n",
    "        raise AttributeError(\"Can't delete SSN\")\n",
    "SSSNUMB=Student(\"RAvi\",\"123-23-9876\")\n",
    "print(SSSNUMB.ssn)"
   ]
  }
 ],
 "metadata": {
  "kernelspec": {
   "display_name": "Python 3",
   "language": "python",
   "name": "python3"
  },
  "language_info": {
   "codemirror_mode": {
    "name": "ipython",
    "version": 3
   },
   "file_extension": ".py",
   "mimetype": "text/x-python",
   "name": "python",
   "nbconvert_exporter": "python",
   "pygments_lexer": "ipython3",
   "version": "3.11.8"
  }
 },
 "nbformat": 4,
 "nbformat_minor": 5
}
