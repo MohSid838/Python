{
 "cells": [
  {
   "cell_type": "code",
   "execution_count": 8,
   "id": "4cf6e854-3bf2-4f48-a56a-f66209746ed4",
   "metadata": {},
   "outputs": [
    {
     "name": "stdout",
     "output_type": "stream",
     "text": [
      "20202\n",
      "Naive Time Taken: 0.000000 seconds\n"
     ]
    }
   ],
   "source": [
    "import time\n",
    "class Solution:\n",
    "    def gcd(self,a:int,b:int):\n",
    "        if b==0:\n",
    "            return a\n",
    "        return self.gcd(b,a%b)\n",
    "    def repeatedgcd(self,N:int,x:int,y:int):\n",
    "        a=int(str(x)*N)\n",
    "        b=int(str(y)*N)\n",
    "        return self.gcd(a,b)\n",
    "start = time.time()\n",
    "sol = Solution()\n",
    "print(sol.repeatedgcd(3, 12, 34))\n",
    "end = time.time()\n",
    "print(\"Naive Time Taken: {:.6f} seconds\".format(end - start))"
   ]
  },
  {
   "cell_type": "markdown",
   "id": "12e1bf27-5a24-435d-954c-276b718b39ca",
   "metadata": {},
   "source": [
    "#Explanation:\n",
    "#a = int(\"12\" * 3) = 121212\n",
    "#b = int(\"34\" * 3) = 343434\n",
    "#Compute gcd(121212, 343434) = 20202"
   ]
  },
  {
   "cell_type": "code",
   "execution_count": 15,
   "id": "804e76f0-e7c6-4074-b943-5373717cfdd5",
   "metadata": {},
   "outputs": [
    {
     "name": "stdout",
     "output_type": "stream",
     "text": [
      "12\n",
      "Naive Time Taken: 0.001000 seconds\n"
     ]
    }
   ],
   "source": [
    "#Optimal Approach\n",
    "import time\n",
    "class Solution:\n",
    "    def gcd(self,a:int,b:int):\n",
    "        if b==0:\n",
    "            return a\n",
    "        return self.gcd(a,a%b)\n",
    "    def repeatedgcd(self,N:int,x:int,y:int):\n",
    "        return self.gcd(x,y)\n",
    "start = time.time()\n",
    "sol = Solution()\n",
    "print(sol.repeatedgcd(3,12, 34))\n",
    "end = time.time()\n",
    "print(\"Naive Time Taken: {:.6f} seconds\".format(end - start))"
   ]
  },
  {
   "cell_type": "code",
   "execution_count": null,
   "id": "de4ae63b-5e1b-4618-9bd3-a1fea98bf609",
   "metadata": {},
   "outputs": [],
   "source": []
  }
 ],
 "metadata": {
  "kernelspec": {
   "display_name": "Python 3 (ipykernel)",
   "language": "python",
   "name": "python3"
  },
  "language_info": {
   "codemirror_mode": {
    "name": "ipython",
    "version": 3
   },
   "file_extension": ".py",
   "mimetype": "text/x-python",
   "name": "python",
   "nbconvert_exporter": "python",
   "pygments_lexer": "ipython3",
   "version": "3.11.8"
  }
 },
 "nbformat": 4,
 "nbformat_minor": 5
}
