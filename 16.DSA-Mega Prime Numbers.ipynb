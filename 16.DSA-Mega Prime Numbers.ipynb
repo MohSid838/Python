{
 "cells": [
  {
   "cell_type": "code",
   "execution_count": null,
   "id": "4f716fef",
   "metadata": {},
   "outputs": [],
   "source": []
  },
  {
   "cell_type": "code",
   "execution_count": null,
   "id": "5e6d92fb",
   "metadata": {},
   "outputs": [
    {
     "name": "stdout",
     "output_type": "stream",
     "text": [
      "23 -> True\n",
      "29 -> False\n",
      "37 -> True\n",
      "53 -> True\n",
      "41 -> False\n",
      "97 -> False\n"
     ]
    }
   ],
   "source": [
    "#✅Check Mega Prime\n",
    "def is_prime(n):\n",
    "    if n < 2:\n",
    "        return False\n",
    "    for i in range(2, int(n**0.5) + 1):\n",
    "        if n % i == 0:\n",
    "            return False\n",
    "    return True\n",
    "\n",
    "def is_mega_prime(n):\n",
    "    if not is_prime(n):\n",
    "        return False\n",
    "    for digit in str(n):\n",
    "        if not is_prime(int(digit)):\n",
    "            return False\n",
    "    return True\n",
    "\n",
    "# Example usage\n",
    "nums = [23, 29, 37, 53, 41, 97]\n",
    "for num in nums:\n",
    "    print(num, \"->\", is_mega_prime(num))\n"
   ]
  },
  {
   "cell_type": "code",
   "execution_count": 6,
   "id": "d0329026",
   "metadata": {},
   "outputs": [],
   "source": [
    "#using line_profiler package\n",
    "%load_ext line_profiler"
   ]
  },
  {
   "cell_type": "code",
   "execution_count": 7,
   "id": "0dfeb2a1",
   "metadata": {},
   "outputs": [
    {
     "name": "stdout",
     "output_type": "stream",
     "text": [
      "Timer unit: 1e-07 s\n",
      "\n",
      "Total time: 4.41e-05 s\n",
      "File: C:\\Users\\lenovo\\AppData\\Local\\Temp\\ipykernel_13748\\2276818508.py\n",
      "Function: is_mega_prime at line 9\n",
      "\n",
      "Line #      Hits         Time  Per Hit   % Time  Line Contents\n",
      "==============================================================\n",
      "     9                                           def is_mega_prime(n):\n",
      "    10         1        227.0    227.0     51.5      if not is_prime(n):\n",
      "    11                                                   return False\n",
      "    12         3         65.0     21.7     14.7      for digit in str(n):\n",
      "    13         2        142.0     71.0     32.2          if not is_prime(int(digit)):\n",
      "    14                                                       return False\n",
      "    15         1          7.0      7.0      1.6      return True"
     ]
    }
   ],
   "source": [
    "%lprun -f is_mega_prime is_mega_prime(23) "
   ]
  },
  {
   "cell_type": "code",
   "execution_count": 3,
   "id": "bf6657b7",
   "metadata": {},
   "outputs": [
    {
     "name": "stdout",
     "output_type": "stream",
     "text": [
      "[23, 37, 53, 73]\n"
     ]
    }
   ],
   "source": [
    "#✅ Generate Mega Primes in a Range\n",
    "def mega_primes_in_range(M, N):\n",
    "    mega_primes = []\n",
    "    for num in range(M, N + 1):\n",
    "        if is_mega_prime(num):\n",
    "            mega_primes.append(num)\n",
    "    return mega_primes\n",
    "\n",
    "print(mega_primes_in_range(10, 100))\n"
   ]
  },
  {
   "cell_type": "code",
   "execution_count": 4,
   "id": "982ed90a",
   "metadata": {},
   "outputs": [
    {
     "name": "stdout",
     "output_type": "stream",
     "text": [
      "[23, 37, 53, 73]\n",
      "[223, 227, 233, 257, 277, 337, 353, 373, 523, 557, 577, 727, 733, 757, 773]\n"
     ]
    }
   ],
   "source": [
    "#✅ Optimized Solution (Sieve + Mega Prime Check)\n",
    "def sieve_of_eratosthenes(limit):\n",
    "    \"\"\"Generate all primes up to limit using sieve.\"\"\"\n",
    "    sieve = [True] * (limit + 1)\n",
    "    sieve[0] = sieve[1] = False\n",
    "    for i in range(2, int(limit**0.5) + 1):\n",
    "        if sieve[i]:\n",
    "            for j in range(i * i, limit + 1, i):\n",
    "                sieve[j] = False\n",
    "    return sieve\n",
    "\n",
    "def is_digit_prime(num):\n",
    "    \"\"\"Check if all digits are prime digits (2, 3, 5, 7).\"\"\"\n",
    "    prime_digits = {'2', '3', '5', '7'}\n",
    "    return all(d in prime_digits for d in str(num))\n",
    "\n",
    "def mega_primes_in_range(M, N):\n",
    "    sieve = sieve_of_eratosthenes(N)\n",
    "    mega_primes = []\n",
    "    for num in range(M, N + 1):\n",
    "        if sieve[num] and is_digit_prime(num):\n",
    "            mega_primes.append(num)\n",
    "    return mega_primes\n",
    "\n",
    "\n",
    "# Example\n",
    "print(mega_primes_in_range(10, 100))\n",
    "print(mega_primes_in_range(100, 1000))\n",
    "\n"
   ]
  },
  {
   "cell_type": "code",
   "execution_count": 8,
   "id": "cee78bd6",
   "metadata": {},
   "outputs": [
    {
     "name": "stdout",
     "output_type": "stream",
     "text": [
      "Timer unit: 1e-07 s\n",
      "\n",
      "Total time: 2.33e-05 s\n",
      "File: C:\\Users\\lenovo\\AppData\\Local\\Temp\\ipykernel_13748\\1628042896.py\n",
      "Function: is_digit_prime at line 12\n",
      "\n",
      "Line #      Hits         Time  Per Hit   % Time  Line Contents\n",
      "==============================================================\n",
      "    12                                           def is_digit_prime(num):\n",
      "    13                                               \"\"\"Check if all digits are prime digits (2, 3, 5, 7).\"\"\"\n",
      "    14         1         37.0     37.0     15.9      prime_digits = {'2', '3', '5', '7'}\n",
      "    15         1        196.0    196.0     84.1      return all(d in prime_digits for d in str(num))"
     ]
    }
   ],
   "source": [
    "%lprun -f is_digit_prime is_digit_prime(23)"
   ]
  },
  {
   "cell_type": "code",
   "execution_count": null,
   "id": "0e4ec245",
   "metadata": {},
   "outputs": [
    {
     "name": "stdout",
     "output_type": "stream",
     "text": [
      "DataFrame:\n",
      "      Name  Age  Score\n",
      "row1    A   25     85\n",
      "row2    B   30     90\n",
      "row3    C   35     95\n",
      "row4    D   40    100 \n",
      "\n",
      "Name      B\n",
      "Age      30\n",
      "Score    90\n",
      "Name: row2, dtype: object\n",
      "     Name  Age  Score\n",
      "row2    B   30     90\n",
      "row3    C   35     95\n",
      "row4    D   40    100\n",
      "     Name  Score\n",
      "row1    A     85\n",
      "row3    C     95\n",
      "row3    C\n",
      "row4    D\n",
      "Name: Name, dtype: object\n"
     ]
    }
   ],
   "source": [
    "import pandas as pd\n",
    "data = {\n",
    "    \"Name\": [\"A\", \"B\", \"C\", \"D\"],\n",
    "    \"Age\": [25, 30, 35, 40],\n",
    "    \"Score\": [85, 90, 95, 100]\n",
    "}\n",
    "df = pd.DataFrame(data, index=[\"row1\", \"row2\", \"row3\", \"row4\"])\n",
    "print(\"DataFrame:\\n\", df, \"\\n\")\n",
    "\n",
    "# Select row by label\n",
    "print(df.loc[\"row2\"])  \n",
    "\n",
    "# Select rows by label range (inclusive)\n",
    "print(df.loc[\"row2\":\"row4\"])\n",
    "\n",
    "# Select specific rows and columns by label\n",
    "print(df.loc[[\"row1\", \"row3\"], [\"Name\", \"Score\"]])\n",
    "\n",
    "# Conditional selection\n",
    "print(df.loc[df[\"Age\"] > 30, \"Name\"])\n",
    "\n",
    "# Select row by index position\n",
    "print(df.iloc[1])  \n",
    "\n",
    "# Select rows by index range (exclusive end)\n",
    "print(df.iloc[1:3])  \n",
    "\n",
    "# Select specific rows and columns by index\n",
    "print(df.iloc[[0, 2], [0, 2]])  \n",
    "\n",
    "# First 2 rows, all columns\n",
    "print(df.iloc[:2, :])\n"
   ]
  }
 ],
 "metadata": {
  "kernelspec": {
   "display_name": "Python 3",
   "language": "python",
   "name": "python3"
  },
  "language_info": {
   "codemirror_mode": {
    "name": "ipython",
    "version": 3
   },
   "file_extension": ".py",
   "mimetype": "text/x-python",
   "name": "python",
   "nbconvert_exporter": "python",
   "pygments_lexer": "ipython3",
   "version": "3.11.8"
  }
 },
 "nbformat": 4,
 "nbformat_minor": 5
}
