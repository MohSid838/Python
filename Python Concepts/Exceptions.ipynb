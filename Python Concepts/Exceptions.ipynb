{
 "cells": [
  {
   "cell_type": "code",
   "execution_count": 1,
   "id": "e9bb1ffb",
   "metadata": {},
   "outputs": [
    {
     "name": "stdout",
     "output_type": "stream",
     "text": [
      "1\n",
      "3\n",
      "4\n"
     ]
    }
   ],
   "source": [
    "try:\n",
    "  print(1)\n",
    "  print(20 / 0)\n",
    "  print(2)\n",
    "except ZeroDivisionError:\n",
    "  print(3)\n",
    "finally:\n",
    "  print(4)"
   ]
  },
  {
   "cell_type": "code",
   "execution_count": null,
   "id": "3926e257",
   "metadata": {},
   "outputs": [],
   "source": [
    "if __name__ == \"__main__\":\n",
    "    x = input(\"Enter number 1: \")\n",
    "    y = input(\"Enter number 2: \")\n",
    "    try:\n",
    "        z = x / int(y)\n",
    "\n",
    "    except Exception as e:\n",
    "        print(\"Exception type: \", type(e).__name__)\n",
    "        print(\"Exception occurred:\", e)\n",
    "        z = None\n",
    "\n",
    "    finally:\n",
    "        print(z)"
   ]
  }
 ],
 "metadata": {
  "kernelspec": {
   "display_name": "Python 3",
   "language": "python",
   "name": "python3"
  },
  "language_info": {
   "codemirror_mode": {
    "name": "ipython",
    "version": 3
   },
   "file_extension": ".py",
   "mimetype": "text/x-python",
   "name": "python",
   "nbconvert_exporter": "python",
   "pygments_lexer": "ipython3",
   "version": "3.11.8"
  }
 },
 "nbformat": 4,
 "nbformat_minor": 5
}
