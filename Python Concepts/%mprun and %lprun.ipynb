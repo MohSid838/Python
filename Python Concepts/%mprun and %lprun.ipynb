{
 "cells": [
  {
   "cell_type": "code",
   "execution_count": 4,
   "id": "c8e43c8b",
   "metadata": {},
   "outputs": [
    {
     "name": "stdout",
     "output_type": "stream",
     "text": [
      "ERROR: Could not find file C:\\Users\\lenovo\\AppData\\Local\\Temp\\ipykernel_15336\\487805463.py\n",
      "\n"
     ]
    },
    {
     "name": "stdout",
     "output_type": "stream",
     "text": [
      "Filename: c:\\Users\\lenovo\\AppData\\Local\\Programs\\Python\\Python311\\Lib\\site-packages\\memory_profiler.py\n",
      "\n",
      "Line #    Mem usage    Increment  Occurrences   Line Contents\n",
      "=============================================================\n",
      "  1185     82.7 MiB     82.7 MiB           1               @wraps(wrapped=func)\n",
      "  1186                                                     def wrapper(*args, **kwargs):\n",
      "  1187     82.7 MiB      0.0 MiB           1                   prof = get_prof()\n",
      "  1188    123.7 MiB     41.0 MiB           1                   val = prof(func)(*args, **kwargs)\n",
      "  1189    123.7 MiB      0.0 MiB           1                   show_results_bound(prof)\n",
      "  1190    123.7 MiB      0.0 MiB           1                   return val"
     ]
    }
   ],
   "source": [
    "#%mprun\n",
    "from memory_profiler import profile\n",
    "%load_ext memory_profiler\n",
    "@profile\n",
    "def create_list():\n",
    "    a = [i for i in range(1000000)]\n",
    "    b = [i*2 for i in range(1000000)]\n",
    "    return b\n",
    "%mprun -f create_list create_list()"
   ]
  },
  {
   "cell_type": "code",
   "execution_count": 2,
   "id": "2db73a4d",
   "metadata": {},
   "outputs": [
    {
     "name": "stdout",
     "output_type": "stream",
     "text": [
      "The line_profiler extension is already loaded. To reload it, use:\n",
      "  %reload_ext line_profiler\n"
     ]
    },
    {
     "name": "stdout",
     "output_type": "stream",
     "text": [
      "Timer unit: 1e-07 s\n",
      "\n",
      "Total time: 2.00631 s\n",
      "File: C:\\Users\\lenovo\\AppData\\Local\\Temp\\ipykernel_1804\\703911868.py\n",
      "Function: slow_function at line 5\n",
      "\n",
      "Line #      Hits         Time  Per Hit   % Time  Line Contents\n",
      "==============================================================\n",
      "     5                                           def slow_function():\n",
      "     6         1         16.0     16.0      0.0      total = 0\n",
      "     7   1000001    9115906.0      9.1     45.4      for i in range(1000000):\n",
      "     8   1000000   10947117.0     10.9     54.6          total += i\n",
      "     9         1         13.0     13.0      0.0      return total"
     ]
    }
   ],
   "source": [
    "#%lprun\n",
    "# Install line-profiler first:\n",
    "# pip install line-profiler\n",
    "%load_ext line_profiler\n",
    "def slow_function():\n",
    "    total = 0\n",
    "    for i in range(1000000):\n",
    "        total += i\n",
    "    return total\n",
    "\n",
    "# In Jupyter/IPython:\n",
    "%lprun -f slow_function slow_function()"
   ]
  }
 ],
 "metadata": {
  "kernelspec": {
   "display_name": "Python 3",
   "language": "python",
   "name": "python3"
  },
  "language_info": {
   "codemirror_mode": {
    "name": "ipython",
    "version": 3
   },
   "file_extension": ".py",
   "mimetype": "text/x-python",
   "name": "python",
   "nbconvert_exporter": "python",
   "pygments_lexer": "ipython3",
   "version": "3.11.8"
  }
 },
 "nbformat": 4,
 "nbformat_minor": 5
}
