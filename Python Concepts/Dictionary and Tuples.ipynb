{
 "cells": [
  {
   "cell_type": "code",
   "execution_count": 3,
   "id": "6d12460f",
   "metadata": {},
   "outputs": [],
   "source": [
    "salaries = {\n",
    "\t'python': { 'junior': '100k', 'senior': '600k' },\n",
    "\t'php': { 'junior': '70k', 'senior': '400k' },\n",
    "\t'java': { 'junior': '80k', 'senior': '500k' },\n",
    "\t}"
   ]
  },
  {
   "cell_type": "code",
   "execution_count": 5,
   "id": "b4db86ec",
   "metadata": {},
   "outputs": [
    {
     "data": {
      "text/plain": [
       "'400k'"
      ]
     },
     "execution_count": 5,
     "metadata": {},
     "output_type": "execute_result"
    }
   ],
   "source": [
    "salaries['php']['senior']"
   ]
  },
  {
   "cell_type": "code",
   "execution_count": 8,
   "id": "e77fcfd8",
   "metadata": {},
   "outputs": [
    {
     "data": {
      "text/plain": [
       "dict_items([('python', {'junior': '100k', 'senior': '600k'}), ('php', {'junior': '70k', 'senior': '400k'}), ('java', {'junior': '80k', 'senior': '500k'})])"
      ]
     },
     "execution_count": 8,
     "metadata": {},
     "output_type": "execute_result"
    }
   ],
   "source": [
    "salaries.items()"
   ]
  },
  {
   "cell_type": "code",
   "execution_count": 11,
   "id": "29537bfc",
   "metadata": {},
   "outputs": [
    {
     "ename": "TypeError",
     "evalue": "unhashable type: 'slice'",
     "output_type": "error",
     "traceback": [
      "\u001b[1;31m---------------------------------------------------------------------------\u001b[0m",
      "\u001b[1;31mTypeError\u001b[0m                                 Traceback (most recent call last)",
      "Cell \u001b[1;32mIn[11], line 2\u001b[0m\n\u001b[0;32m      1\u001b[0m d \u001b[38;5;241m=\u001b[39m {\u001b[38;5;124m'\u001b[39m\u001b[38;5;124mLuke\u001b[39m\u001b[38;5;124m'\u001b[39m: \u001b[38;5;241m1994\u001b[39m, \u001b[38;5;124m'\u001b[39m\u001b[38;5;124mBoba\u001b[39m\u001b[38;5;124m'\u001b[39m: \u001b[38;5;241m1989\u001b[39m, \u001b[38;5;124m'\u001b[39m\u001b[38;5;124mKyle\u001b[39m\u001b[38;5;124m'\u001b[39m: \u001b[38;5;241m1998\u001b[39m, \u001b[38;5;124m'\u001b[39m\u001b[38;5;124mHann\u001b[39m\u001b[38;5;124m'\u001b[39m: \u001b[38;5;241m1993\u001b[39m}\n\u001b[1;32m----> 2\u001b[0m \u001b[38;5;28mprint\u001b[39m(\u001b[43md\u001b[49m\u001b[43m[\u001b[49m\u001b[38;5;124;43m'\u001b[39;49m\u001b[38;5;124;43mBoba\u001b[39;49m\u001b[38;5;124;43m'\u001b[39;49m\u001b[43m:\u001b[49m\u001b[38;5;124;43m'\u001b[39;49m\u001b[38;5;124;43mKyle\u001b[39;49m\u001b[38;5;124;43m'\u001b[39;49m\u001b[43m]\u001b[49m)\n",
      "\u001b[1;31mTypeError\u001b[0m: unhashable type: 'slice'"
     ]
    }
   ],
   "source": [
    "d = {'Luke': 1994, 'Boba': 1989, 'Kyle': 1998, 'Hann': 1993}\n",
    "print(d['Boba':'Kyle'])"
   ]
  },
  {
   "cell_type": "markdown",
   "id": "06bf388c",
   "metadata": {},
   "source": [
    "Dictionary and Tuples - Exercise\n",
    "Create a list of your friends' names and now create a list of tuples. The tuple should contain the friend’s name and the length of the name. For Example: if someone’s name is Aditya, the tuple would be: (‘Aditya’, 6)\n",
    "You and your wife argued about expenses last night. You both want to know who is spending more in a month. Now you both go to the Little Yoda he is a good python programmer. He suggested that both of you add an entry in a dictionary next time you spend money. So that you can have a clear picture of your expenses and plan to reduce them. Both dictionaries are as below-\n",
    "Your expenses -\n",
    "\n",
    "Clothes - 1100\n",
    "Shoes - 1000\n",
    "Watch - 900\n",
    "Mobile Recharge - 699\n",
    "Petrol - 1980\n",
    "Your Wife’s expenses -\n",
    "\n",
    "Mobile Recharge - 799\n",
    "DTH recharge - 999\n",
    "Clothes - 2310\n",
    "Makeup - 3670\n",
    "Shoes - 999\n",
    "Find out the total expenses for each of you.\n",
    "Find out who spending more\n",
    "Find out which thing you and your wife spending more\n",
    "Solution: Click on the Download Files button (top right) to download the solution. To open this file in jupyter notebook,\n",
    "(1) Open a command prompt\n",
    "(2) In the command prompt, go to a directory where the file is downloaded\n",
    "(3) Run python -m notebook to launch a jupyter notebook. In the jupyter notebook you will be able to see the solution file"
   ]
  },
  {
   "cell_type": "code",
   "execution_count": null,
   "id": "09cd71cc",
   "metadata": {},
   "outputs": [
    {
     "data": {
      "text/plain": [
       "['Sam', 'Kiran', 'Ravi', 'Rohan', 'Jai']"
      ]
     },
     "execution_count": 14,
     "metadata": {},
     "output_type": "execute_result"
    }
   ],
   "source": [
    "friends=['Sam','Kiran','Ravi','Rohan','Jai']\n",
    "friends\n",
    "#learning"
   ]
  },
  {
   "cell_type": "code",
   "execution_count": 15,
   "id": "0127b9da",
   "metadata": {},
   "outputs": [
    {
     "data": {
      "text/plain": [
       "[('Sam', 3), ('Kiran', 5), ('Ravi', 4), ('Rohan', 5), ('Jai', 3)]"
      ]
     },
     "execution_count": 15,
     "metadata": {},
     "output_type": "execute_result"
    }
   ],
   "source": [
    "friends_len=[('Sam',3),('Kiran',5),('Ravi',4),('Rohan',5),('Jai',3)]\n",
    "friends_len"
   ]
  },
  {
   "cell_type": "code",
   "execution_count": 20,
   "id": "cd86cf1e",
   "metadata": {},
   "outputs": [
    {
     "data": {
      "text/plain": [
       "{'Clothes': 1100,\n",
       " 'Shoes': 1000,\n",
       " 'Watch': 900,\n",
       " 'Mobile Recharge': 699,\n",
       " 'Petrol': 1980}"
      ]
     },
     "execution_count": 20,
     "metadata": {},
     "output_type": "execute_result"
    }
   ],
   "source": [
    "Husband={\n",
    "'Clothes':1100,\n",
    "'Shoes':1000,\n",
    "'Watch':900,\n",
    "'Mobile Recharge':699,\n",
    "'Petrol':1980}\n",
    "Husband"
   ]
  },
  {
   "cell_type": "code",
   "execution_count": 21,
   "id": "30accc6b",
   "metadata": {},
   "outputs": [
    {
     "data": {
      "text/plain": [
       "{'Mobile Recharge': 799,\n",
       " 'DTH recharge': 999,\n",
       " 'Clothes': 2310,\n",
       " 'Makeup': 3670,\n",
       " 'Shoes': 999}"
      ]
     },
     "execution_count": 21,
     "metadata": {},
     "output_type": "execute_result"
    }
   ],
   "source": [
    "Wife={\n",
    "'Mobile Recharge':799,\n",
    "'DTH recharge':999,\n",
    "'Clothes':2310,\n",
    "'Makeup':3670,\n",
    "'Shoes':999}\n",
    "Wife"
   ]
  },
  {
   "cell_type": "code",
   "execution_count": 24,
   "id": "79475a1b",
   "metadata": {},
   "outputs": [
    {
     "name": "stdout",
     "output_type": "stream",
     "text": [
      "5679\n"
     ]
    }
   ],
   "source": [
    "Husband={\n",
    "'Clothes':1100,\n",
    "'Shoes':1000,\n",
    "'Watch':900,\n",
    "'Mobile Recharge':699,\n",
    "'Petrol':1980}\n",
    "sum=0\n",
    "for key in Husband:\n",
    "    sum+=Husband[key]\n",
    "print(sum)"
   ]
  },
  {
   "cell_type": "code",
   "execution_count": null,
   "id": "482d291a",
   "metadata": {},
   "outputs": [
    {
     "name": "stdout",
     "output_type": "stream",
     "text": [
      "8777\n"
     ]
    }
   ],
   "source": [
    "Wife={\n",
    "'Mobile Recharge':799,\n",
    "'DTH recharge':999,\n",
    "'Clothes':2310,\n",
    "'Makeup':3670,\n",
    "'Shoes':999}\n",
    "total=0\n",
    "for key in Wife:\n",
    "    total+=Wife[key]\n",
    "print(total)\n",
    "#find new"
   ]
  },
  {
   "cell_type": "code",
   "execution_count": 1,
   "id": "fa32c70d",
   "metadata": {},
   "outputs": [
    {
     "name": "stdout",
     "output_type": "stream",
     "text": [
      "Wife spent more\n"
     ]
    }
   ],
   "source": [
    "Husband={\n",
    "'Clothes':1100,\n",
    "'Shoes':1000,\n",
    "'Watch':900,\n",
    "'Mobile Recharge':699,\n",
    "'Petrol':1980}\n",
    "Wife={\n",
    "'Mobile Recharge':799,\n",
    "'DTH recharge':999,\n",
    "'Clothes':2310,\n",
    "'Makeup':3670,\n",
    "'Shoes':999}\n",
    "\n",
    "total_husband = sum(Husband.values())\n",
    "\n",
    "total_wife = sum(Wife.values())\n",
    "\n",
    "if total_husband > total_wife:\n",
    "    print(\"Husband spent more\")\n",
    "elif total_husband < total_wife:\n",
    "      print(\"Wife spent more\")\n",
    "elif total_husband == total_wife:\n",
    "      print(\"both spent equally\")"
   ]
  },
  {
   "cell_type": "code",
   "execution_count": 7,
   "id": "5a21af2a",
   "metadata": {},
   "outputs": [
    {
     "name": "stdout",
     "output_type": "stream",
     "text": [
      "1980 699 3\n"
     ]
    }
   ],
   "source": [
    "Husband={\n",
    "'Clothes':1100,\n",
    "'Shoes':1000,\n",
    "'Watch':900,\n",
    "'Mobile Recharge':699,\n",
    "'Petrol':1980}\n",
    "high_spend=max(Husband.values())\n",
    "low_spend=min(Husband.values())\n",
    "count=sum(1 for amount in Husband.values() if 500 <= amount <= 1000)\n",
    "print(high_spend,low_spend,count)"
   ]
  },
  {
   "cell_type": "code",
   "execution_count": null,
   "id": "207df6e6",
   "metadata": {},
   "outputs": [
    {
     "ename": "TypeError",
     "evalue": "'int' object is not callable",
     "output_type": "error",
     "traceback": [
      "\u001b[1;31m---------------------------------------------------------------------------\u001b[0m",
      "\u001b[1;31mTypeError\u001b[0m                                 Traceback (most recent call last)",
      "Cell \u001b[1;32mIn[35], line 1\u001b[0m\n\u001b[1;32m----> 1\u001b[0m \u001b[38;5;28;43msum\u001b[39;49m\u001b[43m(\u001b[49m\u001b[43mHusband\u001b[49m\u001b[38;5;241;43m.\u001b[39;49m\u001b[43mvalues\u001b[49m\u001b[43m(\u001b[49m\u001b[43m)\u001b[49m\u001b[43m)\u001b[49m\n",
      "\u001b[1;31mTypeError\u001b[0m: 'int' object is not callable"
     ]
    }
   ],
   "source": []
  }
 ],
 "metadata": {
  "kernelspec": {
   "display_name": "Python 3",
   "language": "python",
   "name": "python3"
  },
  "language_info": {
   "codemirror_mode": {
    "name": "ipython",
    "version": 3
   },
   "file_extension": ".py",
   "mimetype": "text/x-python",
   "name": "python",
   "nbconvert_exporter": "python",
   "pygments_lexer": "ipython3",
   "version": "3.11.8"
  }
 },
 "nbformat": 4,
 "nbformat_minor": 5
}
