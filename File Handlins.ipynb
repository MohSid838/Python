{
 "cells": [
  {
   "cell_type": "code",
   "execution_count": 3,
   "id": "27f823a3",
   "metadata": {},
   "outputs": [
    {
     "name": "stdout",
     "output_type": "stream",
     "text": [
      "Teacher: Why are you late, raghu?\n",
      "\n",
      "Raghu: Because of the sign\n",
      "\n",
      "Teacher: What sign?\n",
      "\n",
      "Raghu: The one that says \"School Ahead, Go slow\"\n"
     ]
    }
   ],
   "source": [
    "f=open(r\"C:\\Users\\lenovo\\Downloads\\funny.txt\",\"r\")\n",
    "for line in f:\n",
    "    print(line)\n",
    "f.close()"
   ]
  },
  {
   "cell_type": "code",
   "execution_count": 4,
   "id": "c85aa5ef",
   "metadata": {},
   "outputs": [
    {
     "name": "stdout",
     "output_type": "stream",
     "text": [
      "Teacher: Why are you late, raghu?\n",
      "\n",
      "Raghu: Because of the sign\n",
      "\n",
      "Teacher: What sign?\n",
      "\n",
      "Raghu: The one that says \"School Ahead, Go slow\"\n"
     ]
    }
   ],
   "source": [
    "with open(r\"C:\\Users\\lenovo\\Downloads\\funny.txt\",\"r\") as f:\n",
    "  for line in f:\n",
    "    print(line)"
   ]
  },
  {
   "cell_type": "code",
   "execution_count": 5,
   "id": "9fe1f00d",
   "metadata": {},
   "outputs": [
    {
     "name": "stdout",
     "output_type": "stream",
     "text": [
      "['Teacher: Why are you late, raghu?\\n', 'Raghu: Because of the sign\\n', 'Teacher: What sign?\\n', 'Raghu: The one that says \"School Ahead, Go slow\"']\n"
     ]
    }
   ],
   "source": [
    "with open(r\"C:\\Users\\lenovo\\Downloads\\funny.txt\",\"r\") as f:\n",
    "  lines=f.readlines()\n",
    "  print(lines)"
   ]
  },
  {
   "cell_type": "code",
   "execution_count": 6,
   "id": "6a189418",
   "metadata": {},
   "outputs": [],
   "source": [
    "with open(r\"C:\\Users\\lenovo\\Downloads\\love.txt\",\"w\") as f:\n",
    "  f.write(\"I am doing programs\")\n"
   ]
  },
  {
   "cell_type": "code",
   "execution_count": 8,
   "id": "65ba67b3",
   "metadata": {},
   "outputs": [],
   "source": [
    "with open(r\"C:\\Users\\lenovo\\Downloads\\love.txt\",\"a\") as f:\n",
    "  f.write(\"\\nlot of programs\")\n"
   ]
  },
  {
   "cell_type": "code",
   "execution_count": 9,
   "id": "5093ac46",
   "metadata": {},
   "outputs": [],
   "source": [
    "with open(r\"C:\\Users\\lenovo\\Downloads\\love.txt\",\"a\") as f:\n",
    "  f.writelines([\"\\nc is difficult\",\"\\nc++ is more difficult\",\"\\nJava is highdifficult\"])"
   ]
  },
  {
   "cell_type": "code",
   "execution_count": 16,
   "id": "f685e233",
   "metadata": {},
   "outputs": [
    {
     "name": "stdout",
     "output_type": "stream",
     "text": [
      "{'rohit': [9, 120, 105, 140, 130], 'shakib': [56, 78, 102, 72], 'babar': [56, 45, 120, 5, 67]}\n",
      "rohit [9, 120, 105, 140, 130]\n",
      "rohit ==> min:9, max: 140,Avg:100.8\n",
      "shakib [56, 78, 102, 72]\n",
      "shakib ==> min:56, max: 102,Avg:77.0\n",
      "babar [56, 45, 120, 5, 67]\n",
      "babar ==> min:5, max: 120,Avg:58.6\n"
     ]
    }
   ],
   "source": [
    "player_scores={}\n",
    "with open(r\"C:\\Users\\lenovo\\Downloads\\scores.csv\",\"r\") as f:\n",
    "    for line in f:\n",
    "        player,score=line.split(',')\n",
    "        score=int(score)\n",
    "        if player in player_scores:\n",
    "            player_scores[player].append(score)\n",
    "        else:\n",
    "            player_scores[player]=[score]\n",
    "print(player_scores)\n",
    "\n",
    "for player,score_list in player_scores.items():\n",
    "    print(player,score_list)\n",
    "    min_score=min(score_list)\n",
    "    max_score=max(score_list)\n",
    "    avg_score=sum(score_list)/len(score_list)\n",
    "    print(f\"{player} ==> min:{min_score}, max: {max_score},Avg:{avg_score}\")"
   ]
  },
  {
   "cell_type": "markdown",
   "id": "c6772390",
   "metadata": {},
   "source": [
    "File handling - Exercise\n",
    "student_marks.csv contains the marks and other details for some students. Write a python program to:\n",
    "\n",
    "Open the file in read mode\n",
    "Create a dictionary from the given data\n",
    "Add a new field to the dictionary total\\_marks and store the total marks of the students.\n",
    "Add a new field to the dictionary Average and store the average marks of the students.\n",
    "Create a new file and write this information to the new file\n",
    "(https://www.kaggle.com/arunkumar413/student-marks)\n",
    "Create a new CSV file with the newly created total marks and average marks."
   ]
  },
  {
   "cell_type": "code",
   "execution_count": 44,
   "id": "6a9c1969",
   "metadata": {},
   "outputs": [
    {
     "name": "stdout",
     "output_type": "stream",
     "text": [
      "{'John': [55, 45, 56, 87, 21, 52, 89, 65], 'Suresh': [75, 55, 0, 64, 90, 61, 58, 2], 'Ramesh': [25, 54, 89, 76, 95, 87, 56, 74], 'Jessica': [78, 55, 86, 63, 54, 89, 75, 45], 'Jennifer': [58, 96, 78, 46, 96, 77, 83, 53]}\n",
      "{'John': {'marks': [55, 45, 56, 87, 21, 52, 89, 65], 'total_marks': 470, 'Avg_marks': 58.75}, 'Suresh': {'marks': [75, 55, 0, 64, 90, 61, 58, 2], 'total_marks': 405, 'Avg_marks': 50.625}, 'Ramesh': {'marks': [25, 54, 89, 76, 95, 87, 56, 74], 'total_marks': 556, 'Avg_marks': 69.5}, 'Jessica': {'marks': [78, 55, 86, 63, 54, 89, 75, 45], 'total_marks': 545, 'Avg_marks': 68.125}, 'Jennifer': {'marks': [58, 96, 78, 46, 96, 77, 83, 53], 'total_marks': 587, 'Avg_marks': 73.375}}\n"
     ]
    }
   ],
   "source": [
    "\n",
    "\n",
    "student_scores={}\n",
    "with open(r'C:\\Users\\lenovo\\Downloads\\student_marks.csv','r') as f:\n",
    "    next(f)\n",
    "    for line in f:\n",
    "        Name,Gender,DOB,Maths,Physics,Chemistry,English,Biology,Economics,History,Civics=line.strip().split(',')\n",
    "        marks=[int(x) if x else 0 for x in[Maths,Physics,Chemistry,English,Biology,Economics,History,Civics]]\n",
    "        if Name in student_scores:\n",
    "           student_scores[Name].extend(marks)\n",
    "        else:\n",
    "            student_scores[Name] = marks\n",
    "print(student_scores)\n",
    "total_marks={}\n",
    "for name,marks in list(student_scores.items()):\n",
    "    student_scores[name]={\"marks\":marks,\"total_marks\":sum(marks),\"Avg_marks\":sum(marks)/len(marks)}\n",
    "print(student_scores)\n"
   ]
  },
  {
   "cell_type": "code",
   "execution_count": null,
   "id": "0d2347ce",
   "metadata": {},
   "outputs": [
    {
     "name": "stdout",
     "output_type": "stream",
     "text": [
      "CSV file created successfully at C:\\Users\\lenovo\\Downloads\\student_newfile.csv\n"
     ]
    }
   ],
   "source": [
    "import csv\n",
    "# Output file path in Downloads\n",
    "output_file = r\"C:\\Users\\lenovo\\Downloads\\student_newfile.csv\"\n",
    "\n",
    "# Write to CSV\n",
    "with open(output_file, mode=\"w\", newline=\"\") as file:\n",
    "    writer = csv.writer(file)\n",
    "    \n",
    "    # Write header\n",
    "    header = [\"Name\", \"Maths\", \"Physics\", \"Chemistry\", \"English\", \"Biology\", \"Economics\", \"History\", \"Civics\", \"Total Marks\", \"Average Marks\"]\n",
    "    writer.writerow(header)\n",
    "    \n",
    "    # Write student data\n",
    "    for name, data in student_scores.items():\n",
    "        row = [name] + data[\"marks\"] + [data[\"total_marks\"], data[\"Avg_marks\"]]\n",
    "        writer.writerow(row)\n",
    "\n",
    "print(f\"CSV file created successfully at {output_file}\")\n",
    "\n",
    "#comment is added\n",
    "#new comment added\n"
   ]
  }
 ],
 "metadata": {
  "kernelspec": {
   "display_name": "Python 3",
   "language": "python",
   "name": "python3"
  },
  "language_info": {
   "codemirror_mode": {
    "name": "ipython",
    "version": 3
   },
   "file_extension": ".py",
   "mimetype": "text/x-python",
   "name": "python",
   "nbconvert_exporter": "python",
   "pygments_lexer": "ipython3",
   "version": "3.11.8"
  }
 },
 "nbformat": 4,
 "nbformat_minor": 5
}
