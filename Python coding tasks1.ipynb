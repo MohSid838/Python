{
 "cells": [
  {
   "cell_type": "code",
   "execution_count": 205,
   "id": "de8942fd-33ea-41f7-9a7d-13d89bfbc7c8",
   "metadata": {},
   "outputs": [
    {
     "name": "stdin",
     "output_type": "stream",
     "text": [
      "enter first number n1: 9\n",
      "enter second number n2: 8\n"
     ]
    },
    {
     "name": "stdout",
     "output_type": "stream",
     "text": [
      "17\n"
     ]
    }
   ],
   "source": [
    "x=int(input(\"enter first number n1:\"))\n",
    "y=int(input(\"enter second number n2:\"))\n",
    "def add(n1,n2):\n",
    "        return n1+n2\n",
    "sum=add(n1,n2)\n",
    "a= lambda x,y:x+y\n",
    "b=a(x,y)\n",
    "print(b)"
   ]
  },
  {
   "cell_type": "code",
   "execution_count": 3,
   "id": "654900a9-25d2-4e1b-a71a-fee0fe8d87c4",
   "metadata": {},
   "outputs": [
    {
     "name": "stdout",
     "output_type": "stream",
     "text": [
      "Help on built-in function print in module builtins:\n",
      "\n",
      "print(*args, sep=' ', end='\\n', file=None, flush=False)\n",
      "    Prints the values to a stream, or to sys.stdout by default.\n",
      "\n",
      "    sep\n",
      "      string inserted between values, default a space.\n",
      "    end\n",
      "      string appended after the last value, default a newline.\n",
      "    file\n",
      "      a file-like object (stream); defaults to the current sys.stdout.\n",
      "    flush\n",
      "      whether to forcibly flush the stream.\n",
      "\n"
     ]
    }
   ],
   "source": [
    "help(print)"
   ]
  },
  {
   "cell_type": "code",
   "execution_count": 240,
   "id": "868f8abe-d885-4c10-b94c-dfe3f58414a4",
   "metadata": {},
   "outputs": [
    {
     "name": "stdout",
     "output_type": "stream",
     "text": [
      "['ajay', 'raj', 'vijay']\n",
      "[10000, 12000, 14000]\n",
      "vijay : 14000\n",
      "vijay : 14000\n"
     ]
    }
   ],
   "source": [
    "#print the last value in the dictionary\n",
    "student={'ajay':10000,'raj':12000,'vijay':14000}\n",
    "key_s=list(student.keys()) \n",
    "valu_e=list(student.values()) \n",
    "print(key_s)\n",
    "print(valu_e)\n",
    "print(key_s[-1],\":\",valu_e[-1])\n",
    "print(key_s[-1],\":\",student[key_s[-1]])\n",
    "#print(keys_list[-1]"
   ]
  },
  {
   "cell_type": "code",
   "execution_count": 17,
   "id": "0cfde100-4257-4c3c-aa8f-d3f68e96d41e",
   "metadata": {},
   "outputs": [
    {
     "name": "stdout",
     "output_type": "stream",
     "text": [
      "a:b:c\n"
     ]
    }
   ],
   "source": [
    "#list--->string\n",
    "#using join method - can be used to create sting on sets,lists,dictionary and tuple\n",
    "list1=['a','b','c']\n",
    "string=':'.join(list1)\n",
    "print(string)"
   ]
  },
  {
   "cell_type": "code",
   "execution_count": null,
   "id": "c56622b4-3522-4688-979e-329fce8d6cd0",
   "metadata": {},
   "outputs": [],
   "source": []
  },
  {
   "cell_type": "code",
   "execution_count": 19,
   "id": "3b916d6f-78e1-4498-9118-a07c8f7f1c72",
   "metadata": {},
   "outputs": [
    {
     "name": "stdout",
     "output_type": "stream",
     "text": [
      "python\n"
     ]
    }
   ],
   "source": [
    "#list ---> string\n",
    "#using join method - atoms in list must be string, otherwise error\n",
    "l=['p','y','t','h','o','n']\n",
    "x=''.join(l)\n",
    "print(x)"
   ]
  },
  {
   "cell_type": "code",
   "execution_count": 25,
   "id": "76aa2ade-d789-4235-9f28-b53bd54e306f",
   "metadata": {},
   "outputs": [
    {
     "name": "stdout",
     "output_type": "stream",
     "text": [
      "python--->c++--->java\n",
      "2149220221680\n",
      "2149219367648\n"
     ]
    }
   ],
   "source": [
    "#join method on set\n",
    "lang={'java','python','c++'}\n",
    "lang1='--->'.join(lang)\n",
    "print(lang1)\n",
    "print(id(lang1))\n",
    "print(id(lang))\n",
    "#lang and lang1 have different ids-- that means different objects"
   ]
  },
  {
   "cell_type": "code",
   "execution_count": 29,
   "id": "14e09ef5-a0d1-4bff-8edd-c4602bfbeb01",
   "metadata": {},
   "outputs": [
    {
     "name": "stdout",
     "output_type": "stream",
     "text": [
      "indiacountry:nepalcountry:england\n"
     ]
    }
   ],
   "source": [
    "#join method on dictionary\n",
    "country={'india':20,'nepal':12,'england':18}\n",
    "print('country:'.join(country))"
   ]
  },
  {
   "cell_type": "code",
   "execution_count": 33,
   "id": "6db1ecde-d817-4851-9ef5-3db3d4724ae8",
   "metadata": {},
   "outputs": [
    {
     "name": "stdout",
     "output_type": "stream",
     "text": [
      "6\n",
      "['i', 'want', 'to', 'become', 'python', 'programmer']\n"
     ]
    }
   ],
   "source": [
    "#split method to break string into list\n",
    "msg=\"i want to become python programmer\"\n",
    "words=msg.split()\n",
    "print(len(words))\n",
    "print(words)"
   ]
  },
  {
   "cell_type": "code",
   "execution_count": 45,
   "id": "2fd91bd3-f09d-4af6-b89f-5292d6d37901",
   "metadata": {},
   "outputs": [
    {
     "name": "stdout",
     "output_type": "stream",
     "text": [
      "5\n",
      "['india', 'pakistan', 'australia', 'burma', 'srilanka']\n",
      "india\n",
      "pakistan\n",
      "australia\n",
      "burma\n",
      "srilanka\n",
      "['india', 'pakistan', 'australia', 'burma,srilanka']\n"
     ]
    }
   ],
   "source": [
    "countries=\"india,pakistan,australia,burma,srilanka\"\n",
    "country=countries.split(\",\")\n",
    "country1=countries.split(\",\",3)\n",
    "print(len(country))\n",
    "print(country)\n",
    "for country in country:\n",
    "    print(country)\n",
    "print(country1)"
   ]
  },
  {
   "cell_type": "code",
   "execution_count": 51,
   "id": "59dbdf7a-3b29-4ee2-805a-3176ae591daf",
   "metadata": {},
   "outputs": [
    {
     "name": "stdout",
     "output_type": "stream",
     "text": [
      "nohtyp si ysae\n"
     ]
    }
   ],
   "source": [
    "#write a program to reverse internal content of each word in a sentence\n",
    "str1=\"python is easy\"\n",
    "l1=[]\n",
    "#output -nohtyp si ysae\"\n",
    "x=str1.split() #split method to break sentence into word\n",
    "for word in x:   #refers each word\n",
    "    l1.append(word[::-1]) #reverse the word\n",
    "z=\" \".join(l1)\n",
    "print(z)\n"
   ]
  },
  {
   "cell_type": "code",
   "execution_count": 46,
   "id": "c2c64200-34dc-4efa-b1be-b317721e2574",
   "metadata": {},
   "outputs": [
    {
     "name": "stdout",
     "output_type": "stream",
     "text": [
      "[10, 20, 60]\n"
     ]
    }
   ],
   "source": [
    "#write a program to print duplicates present in the list\n",
    "l=[\"hello\",10,10,20,20,30,40,50,60,60,60]\n",
    "l1=[]\n",
    "for x in l:\n",
    "    if l.count(x)>1 and x not in l1:\n",
    "        l1.append(x)\n",
    "print(l1)"
   ]
  },
  {
   "cell_type": "code",
   "execution_count": 79,
   "id": "90077e14-577f-404c-ba16-ba72189214a0",
   "metadata": {},
   "outputs": [
    {
     "ename": "TypeError",
     "evalue": "'list' object is not callable",
     "output_type": "error",
     "traceback": [
      "\u001b[1;31m---------------------------------------------------------------------------\u001b[0m",
      "\u001b[1;31mTypeError\u001b[0m                                 Traceback (most recent call last)",
      "Cell \u001b[1;32mIn[79], line 5\u001b[0m\n\u001b[0;32m      3\u001b[0m \u001b[38;5;28;01mfor\u001b[39;00m x \u001b[38;5;129;01min\u001b[39;00m \u001b[38;5;28mrange\u001b[39m(\u001b[38;5;28mlen\u001b[39m(l)):\n\u001b[0;32m      4\u001b[0m     \u001b[38;5;28;01mfor\u001b[39;00m y \u001b[38;5;129;01min\u001b[39;00m \u001b[38;5;28mrange\u001b[39m(x\u001b[38;5;241m+\u001b[39m\u001b[38;5;241m1\u001b[39m,\u001b[38;5;28mlen\u001b[39m(l)):\n\u001b[1;32m----> 5\u001b[0m         \u001b[38;5;28;01mif\u001b[39;00m l(x)\u001b[38;5;241m==\u001b[39ml(y) \u001b[38;5;129;01mand\u001b[39;00m l(x) \u001b[38;5;129;01mnot\u001b[39;00m \u001b[38;5;129;01min\u001b[39;00m d:\n\u001b[0;32m      6\u001b[0m             d\u001b[38;5;241m.\u001b[39mappend(l[x])\n\u001b[0;32m      7\u001b[0m \u001b[38;5;28mprint\u001b[39m(d)\n",
      "\u001b[1;31mTypeError\u001b[0m: 'list' object is not callable"
     ]
    }
   ],
   "source": [
    "l=[\"hello\",10,10,20,20,30,40,50,60,60,60]\n",
    "d=[]\n",
    "for x in range(len(l)):\n",
    "    for y in range(x+1,len(l)):\n",
    "        if l(x)==l(y) and l(x) not in d:\n",
    "            d.append(l[x])\n",
    "print(d)"
   ]
  },
  {
   "cell_type": "code",
   "execution_count": 85,
   "id": "29dd9354-103c-46cb-b9d5-26089d4ed1cc",
   "metadata": {},
   "outputs": [
    {
     "name": "stdout",
     "output_type": "stream",
     "text": [
      "True\n"
     ]
    }
   ],
   "source": [
    "lis=[10,20,30]\n",
    "print(isinstance(lis,list))"
   ]
  },
  {
   "cell_type": "code",
   "execution_count": 2,
   "id": "255e88c3-d532-46c7-9115-eb4065831b93",
   "metadata": {},
   "outputs": [
    {
     "ename": "TypeError",
     "evalue": "list indices must be integers or slices, not list",
     "output_type": "error",
     "traceback": [
      "\u001b[1;31m---------------------------------------------------------------------------\u001b[0m",
      "\u001b[1;31mTypeError\u001b[0m                                 Traceback (most recent call last)",
      "Cell \u001b[1;32mIn[2], line 6\u001b[0m\n\u001b[0;32m      4\u001b[0m x\u001b[38;5;241m=\u001b[39m\u001b[38;5;28mlist\u001b[39m(data\u001b[38;5;241m.\u001b[39mvalues())\n\u001b[0;32m      5\u001b[0m \u001b[38;5;28;01mfor\u001b[39;00m each \u001b[38;5;129;01min\u001b[39;00m x:\n\u001b[1;32m----> 6\u001b[0m     \u001b[38;5;28;01mif\u001b[39;00m \u001b[38;5;28misinstance\u001b[39m(\u001b[43mx\u001b[49m\u001b[43m[\u001b[49m\u001b[43meach\u001b[49m\u001b[43m]\u001b[49m,\u001b[38;5;28mlist\u001b[39m):\n\u001b[0;32m      7\u001b[0m         count\u001b[38;5;241m+\u001b[39m\u001b[38;5;241m=\u001b[39m\u001b[38;5;241m1\u001b[39m\n\u001b[0;32m      8\u001b[0m \u001b[38;5;28mprint\u001b[39m(count)\n",
      "\u001b[1;31mTypeError\u001b[0m: list indices must be integers or slices, not list"
     ]
    }
   ],
   "source": [
    "#write a python program to count number of items having list as values\n",
    "data={'jay':['male',23,20000],'raj':25,'vicky':['male',22],'ram':['male',23]}\n",
    "count=0\n",
    "x=list(data.values())\n",
    "for each in x:\n",
    "    if isinstance(x[each],list):\n",
    "        count+=1\n",
    "print(count)"
   ]
  },
  {
   "cell_type": "code",
   "execution_count": 17,
   "id": "9817bab6-d586-4b30-b48c-c3de6a8c8e5c",
   "metadata": {},
   "outputs": [
    {
     "name": "stdout",
     "output_type": "stream",
     "text": [
      "a:b:c\n"
     ]
    }
   ],
   "source": [
    "#list--->string\n",
    "#using join method\n",
    "list1=['a','b','c']\n",
    "string=':'.join(list1)\n",
    "print(string)"
   ]
  },
  {
   "cell_type": "code",
   "execution_count": 105,
   "id": "ba84a780-0f92-4a3a-bc5e-c8661248a74d",
   "metadata": {},
   "outputs": [
    {
     "name": "stdin",
     "output_type": "stream",
     "text": [
      "Enter my name siddiq\n"
     ]
    },
    {
     "name": "stdout",
     "output_type": "stream",
     "text": [
      "2\n"
     ]
    }
   ],
   "source": [
    "#number of vowels in my name\n",
    "name =input(\"Enter my name\")\n",
    "count=0\n",
    "vowels=['a','e','i','o','u']\n",
    "for x in name:\n",
    "    if x in vowels:\n",
    "        count+=1\n",
    "print(count)"
   ]
  },
  {
   "cell_type": "code",
   "execution_count": 107,
   "id": "bfe0d1a2-42c2-4f3c-9293-26d320183699",
   "metadata": {},
   "outputs": [
    {
     "name": "stdin",
     "output_type": "stream",
     "text": [
      "enter string siddiq\n"
     ]
    },
    {
     "name": "stdout",
     "output_type": "stream",
     "text": [
      "qiddis\n"
     ]
    }
   ],
   "source": [
    "#reverse string using while loop\n",
    "name=input(\"enter string\")\n",
    "r_name=\"\"\n",
    "count=len(name)\n",
    "while count>0:\n",
    "    r_name=r_name+name[count-1]\n",
    "    count=count-1\n",
    "print(r_name)"
   ]
  },
  {
   "cell_type": "code",
   "execution_count": 109,
   "id": "517d6178-32c6-4643-966e-da8e0acea27f",
   "metadata": {},
   "outputs": [
    {
     "name": "stdin",
     "output_type": "stream",
     "text": [
      "enter string siddiq\n"
     ]
    },
    {
     "name": "stdout",
     "output_type": "stream",
     "text": [
      "qiddis\n"
     ]
    }
   ],
   "source": [
    "#reverse string by for loop\n",
    "name=input(\"enter string\")\n",
    "r_name=\"\"\n",
    "for char in name:\n",
    "    r_name=char+r_name\n",
    "print(r_name)"
   ]
  },
  {
   "cell_type": "code",
   "execution_count": 113,
   "id": "009bbbc1-e0dc-45da-ab32-27791794fe93",
   "metadata": {},
   "outputs": [
    {
     "name": "stdin",
     "output_type": "stream",
     "text": [
      "enter name siddiq\n"
     ]
    },
    {
     "name": "stdout",
     "output_type": "stream",
     "text": [
      "siddiq\n",
      "qiddis\n"
     ]
    }
   ],
   "source": [
    "#reverse string using slicing\n",
    "name=input(\"enter name\")\n",
    "print(name)\n",
    "r_name=\"\"\n",
    "for char in name:\n",
    "    r_name=name[::-1]\n",
    "print(r_name)"
   ]
  },
  {
   "cell_type": "code",
   "execution_count": 139,
   "id": "3fcf5f37-d8d5-4605-80cd-4b2a29538daf",
   "metadata": {},
   "outputs": [
    {
     "name": "stdin",
     "output_type": "stream",
     "text": [
      "candidatename1 ravi\n",
      "candidatename2 sye\n"
     ]
    },
    {
     "name": "stdout",
     "output_type": "stream",
     "text": [
      "number of voters: 6\n"
     ]
    },
    {
     "name": "stdin",
     "output_type": "stream",
     "text": [
      "enter your id 101\n"
     ]
    },
    {
     "name": "stdout",
     "output_type": "stream",
     "text": [
      "1.ravi\n",
      "2.sye\n"
     ]
    },
    {
     "name": "stdin",
     "output_type": "stream",
     "text": [
      "enter your choice 1\n"
     ]
    },
    {
     "name": "stdout",
     "output_type": "stream",
     "text": [
      "you voted ravi\n"
     ]
    },
    {
     "name": "stdin",
     "output_type": "stream",
     "text": [
      "enter your id 102\n"
     ]
    },
    {
     "name": "stdout",
     "output_type": "stream",
     "text": [
      "1.ravi\n",
      "2.sye\n"
     ]
    },
    {
     "name": "stdin",
     "output_type": "stream",
     "text": [
      "enter your choice 109\n",
      "enter your id 1\n"
     ]
    },
    {
     "name": "stdout",
     "output_type": "stream",
     "text": [
      "you are not allowed to vote\n"
     ]
    },
    {
     "name": "stdin",
     "output_type": "stream",
     "text": [
      "enter your id 103\n"
     ]
    },
    {
     "name": "stdout",
     "output_type": "stream",
     "text": [
      "1.ravi\n",
      "2.sye\n"
     ]
    },
    {
     "name": "stdin",
     "output_type": "stream",
     "text": [
      "enter your choice 104\n",
      "enter your id 2\n"
     ]
    },
    {
     "name": "stdout",
     "output_type": "stream",
     "text": [
      "you are not allowed to vote\n"
     ]
    },
    {
     "name": "stdin",
     "output_type": "stream",
     "text": [
      "enter your id 1\n"
     ]
    },
    {
     "name": "stdout",
     "output_type": "stream",
     "text": [
      "you are not allowed to vote\n"
     ]
    },
    {
     "name": "stdin",
     "output_type": "stream",
     "text": [
      "enter your id 105\n"
     ]
    },
    {
     "name": "stdout",
     "output_type": "stream",
     "text": [
      "1.ravi\n",
      "2.sye\n"
     ]
    },
    {
     "name": "stdin",
     "output_type": "stream",
     "text": [
      "enter your choice 2\n"
     ]
    },
    {
     "name": "stdout",
     "output_type": "stream",
     "text": [
      "you voted sye\n"
     ]
    },
    {
     "name": "stdin",
     "output_type": "stream",
     "text": [
      "enter your id 106\n"
     ]
    },
    {
     "name": "stdout",
     "output_type": "stream",
     "text": [
      "1.ravi\n",
      "2.sye\n"
     ]
    },
    {
     "name": "stdin",
     "output_type": "stream",
     "text": [
      "enter your choice 1\n"
     ]
    },
    {
     "name": "stdout",
     "output_type": "stream",
     "text": [
      "you voted ravi\n"
     ]
    },
    {
     "name": "stdin",
     "output_type": "stream",
     "text": [
      "enter your id 103\n"
     ]
    },
    {
     "name": "stdout",
     "output_type": "stream",
     "text": [
      "you already voted\n"
     ]
    },
    {
     "name": "stdin",
     "output_type": "stream",
     "text": [
      "enter your id 2\n"
     ]
    },
    {
     "name": "stdout",
     "output_type": "stream",
     "text": [
      "you are not allowed to vote\n"
     ]
    },
    {
     "name": "stdin",
     "output_type": "stream",
     "text": [
      "enter your id 101\n"
     ]
    },
    {
     "name": "stdout",
     "output_type": "stream",
     "text": [
      "you already voted\n"
     ]
    },
    {
     "name": "stdin",
     "output_type": "stream",
     "text": [
      "enter your id 1\n"
     ]
    },
    {
     "name": "stdout",
     "output_type": "stream",
     "text": [
      "you are not allowed to vote\n"
     ]
    },
    {
     "name": "stdin",
     "output_type": "stream",
     "text": [
      "enter your id u\n"
     ]
    },
    {
     "ename": "ValueError",
     "evalue": "invalid literal for int() with base 10: 'u'",
     "output_type": "error",
     "traceback": [
      "\u001b[1;31m---------------------------------------------------------------------------\u001b[0m",
      "\u001b[1;31mValueError\u001b[0m                                Traceback (most recent call last)",
      "Cell \u001b[1;32mIn[139], line 22\u001b[0m\n\u001b[0;32m     18\u001b[0m     \u001b[38;5;28;01mbreak\u001b[39;00m\n\u001b[0;32m     21\u001b[0m \u001b[38;5;28;01melse\u001b[39;00m:\n\u001b[1;32m---> 22\u001b[0m     voter\u001b[38;5;241m=\u001b[39m\u001b[38;5;28mint\u001b[39m(\u001b[38;5;28minput\u001b[39m(\u001b[38;5;124m\"\u001b[39m\u001b[38;5;124menter your id\u001b[39m\u001b[38;5;124m\"\u001b[39m))\n\u001b[0;32m     23\u001b[0m     \u001b[38;5;28;01mif\u001b[39;00m voter \u001b[38;5;129;01min\u001b[39;00m voted:\n\u001b[0;32m     24\u001b[0m         \u001b[38;5;28mprint\u001b[39m(\u001b[38;5;124m\"\u001b[39m\u001b[38;5;124myou already voted\u001b[39m\u001b[38;5;124m\"\u001b[39m)\n",
      "\u001b[1;31mValueError\u001b[0m: invalid literal for int() with base 10: 'u'"
     ]
    }
   ],
   "source": [
    "#voting project\n",
    "candidate_01=input(\"candidatename1\")\n",
    "candidate_02=input(\"candidatename2\")\n",
    "cand1_votes=0\n",
    "cand2_votes=0\n",
    "voters_id=[101,102,103,104,105,106]\n",
    "no_of_voters=len(voters_id)\n",
    "print(\"number of voters:\",no_of_voters)\n",
    "voted=[]\n",
    "while True:\n",
    "    if voters_id==[]:\n",
    "        print(\"voting is over\")\n",
    "        if cand1_votes>cand2_votes:\n",
    "            print(f\"{candidate_01} won the election with {cand1_votes}\")\n",
    "        elif cand1_votes<cand2_votes:\n",
    "            print(f\"{candidate_02} won the election with {cand2_votes}\")\n",
    "        elif cand1_votes==cand2_votes:\n",
    "            print(\"tied!!!\")\n",
    "        break\n",
    "\n",
    "    \n",
    "    else:\n",
    "        voter=int(input(\"enter your id\"))\n",
    "        if voter in voted:\n",
    "            print(\"you already voted\")\n",
    "        else:\n",
    "            if voter in voters_id:\n",
    "                print(f\"1.{candidate_01}\\n2.{candidate_02}\")\n",
    "                choice=int(input(\"enter your choice\"))\n",
    "                if choice==1:\n",
    "                    cand1_votes+=1\n",
    "                    print(f\"you voted {candidate_01}\")\n",
    "                elif choice==2:\n",
    "                    cand2_votes+=1\n",
    "                    print(f\"you voted {candidate_02}\")\n",
    "                voters_id.remove(voter)\n",
    "                voted.append(voter)\n",
    "            else:\n",
    "                 print(\"you are not allowed to vote\")\n"
   ]
  },
  {
   "cell_type": "code",
   "execution_count": 147,
   "id": "7a773551-4282-428d-b087-8576c9e254da",
   "metadata": {},
   "outputs": [
    {
     "name": "stdout",
     "output_type": "stream",
     "text": [
      "<__main__.myclass object at 0x000001F465518230>\n",
      "<__main__.myclass object at 0x000001F467A82960>\n"
     ]
    }
   ],
   "source": [
    "class myclass:\n",
    "    pass\n",
    "ob1=myclass()\n",
    "print(ob1)\n",
    "ob2=myclass()\n",
    "print(ob2)\n"
   ]
  },
  {
   "cell_type": "code",
   "execution_count": 169,
   "id": "7c88b55b-f4d7-4957-a5fd-9b00023b901c",
   "metadata": {},
   "outputs": [
    {
     "name": "stdout",
     "output_type": "stream",
     "text": [
      "None\n"
     ]
    }
   ],
   "source": [
    "class Test():\n",
    "    def display(self):\n",
    "        print('This is a class method')\n",
    "t1=Test()\n",
    "t1=display()\n",
    "print(t1)\n"
   ]
  },
  {
   "cell_type": "code",
   "execution_count": 165,
   "id": "48a281e4-5cc2-4a57-92b5-b9025e978a41",
   "metadata": {},
   "outputs": [
    {
     "ename": "SyntaxError",
     "evalue": "invalid syntax (2419385388.py, line 2)",
     "output_type": "error",
     "traceback": [
      "\u001b[1;36m  Cell \u001b[1;32mIn[165], line 2\u001b[1;36m\u001b[0m\n\u001b[1;33m    def_init_(self,id,name):\u001b[0m\n\u001b[1;37m                           ^\u001b[0m\n\u001b[1;31mSyntaxError\u001b[0m\u001b[1;31m:\u001b[0m invalid syntax\n"
     ]
    }
   ],
   "source": [
    "class Student:\n",
    "    def_init_(self,id,name):\n",
    "    self.id=id\n",
    "    self.name=name\n",
    "    \n",
    "s1=sample()"
   ]
  },
  {
   "cell_type": "code",
   "execution_count": 171,
   "id": "6548ec43-4188-4640-a397-f2df825967fe",
   "metadata": {},
   "outputs": [
    {
     "name": "stdout",
     "output_type": "stream",
     "text": [
      "10\n"
     ]
    }
   ],
   "source": [
    "x=10\n",
    "print(x)"
   ]
  },
  {
   "cell_type": "code",
   "execution_count": 177,
   "id": "fb146b6c-7fdd-45dd-938f-c483008cd1db",
   "metadata": {},
   "outputs": [
    {
     "name": "stdout",
     "output_type": "stream",
     "text": [
      "20\n",
      "10\n"
     ]
    }
   ],
   "source": [
    "#swap the variables:method1\n",
    "a=10\n",
    "b=20\n",
    "temp=a\n",
    "a=b\n",
    "b=temp\n",
    "print(a)\n",
    "print(b)"
   ]
  },
  {
   "cell_type": "code",
   "execution_count": null,
   "id": "4e094e7b-a2e2-4464-829b-42d667213dec",
   "metadata": {},
   "outputs": [],
   "source": [
    "#swap the variables:method2\n",
    "a=10\n",
    "b=20\n",
    "a,b=b,a\n",
    "print(a)\n",
    "print(b)\n"
   ]
  },
  {
   "cell_type": "code",
   "execution_count": 242,
   "id": "3c2f8be3-1ed7-4ad5-8ae9-08ff72ede81f",
   "metadata": {},
   "outputs": [
    {
     "name": "stdout",
     "output_type": "stream",
     "text": [
      "['ajay', 'raj', 'vijay']\n",
      "14000\n"
     ]
    }
   ],
   "source": [
    "#print the last value in the dictionary\n",
    "student={'ajay':10000,'raj':12000,'vijay':14000}\n",
    "x=list(student.keys())\n",
    "y=list(student.values())\n",
    "print(x)\n",
    "print(y[-1])\n"
   ]
  },
  {
   "cell_type": "code",
   "execution_count": null,
   "id": "b8229ef7-a0c5-4b49-ab1a-48bf26a06a97",
   "metadata": {},
   "outputs": [],
   "source": [
    "print(key_s[-1],\":\",valu_e[-1])"
   ]
  },
  {
   "cell_type": "code",
   "execution_count": null,
   "id": "ad858e5e-045e-499d-9744-7e451fc514ab",
   "metadata": {},
   "outputs": [],
   "source": [
    "print(key_s[-1],\":\",student[key_s[-1]])"
   ]
  },
  {
   "cell_type": "code",
   "execution_count": 252,
   "id": "aa249426-d6a3-4aa1-bf4d-31e6d385e1b1",
   "metadata": {},
   "outputs": [
    {
     "name": "stdout",
     "output_type": "stream",
     "text": [
      "123\n"
     ]
    }
   ],
   "source": [
    "#list--->string\n",
    "#using join method - can be used to create sting on sets,lists,dictionary and tuple\n",
    "list1=['1','2','3']\n",
    "x=''.join(list1)\n",
    "print(x)"
   ]
  },
  {
   "cell_type": "code",
   "execution_count": null,
   "id": "a9fceced-20f8-4212-9b89-b00a6bdec0e9",
   "metadata": {},
   "outputs": [],
   "source": [
    "'''A lambda function in Python is a small, anonymous function that can be used to evaluate a single expression once. Lambda functions are often used as arguments in higher-order functions like map(), filter(), or reduce(). \n",
    "Here are some examples of lambda functions:\n",
    "Add 10 to argument a: x = lambda a : a + 10\n",
    "Multiply argument a with argument b: x = lambda a, b : a * b\n",
    "Summarize argument a, b, and c: x = lambda a, b, c : a + b + c \n",
    "The syntax for a lambda function is lambda arguments : expression. The expression is executed and the result is returned. \n",
    "A lambda function in Python is a small, anonymous function that can be used to evaluate a single expression once. Lambda functions are often used as arguments in higher-order functions like map(), filter(), or reduce(). \n",
    "Here are some examples of lambda functions:\n",
    "Add 10 to argument a: x = lambda a : a + 10\n",
    "Multiply argument a with argument b: x = lambda a, b : a * b\n",
    "Summarize argument a, b, and c: x = lambda a, b, c : a + b + c \n",
    "The syntax for a lambda function is lambda arguments : expression. The expression is executed and the result is returned. ''''"
   ]
  },
  {
   "cell_type": "code",
   "execution_count": 264,
   "id": "ca3d349f-34ab-47f6-9c5b-72d7238930bd",
   "metadata": {},
   "outputs": [
    {
     "name": "stdout",
     "output_type": "stream",
     "text": [
      "[1, 4, 9]\n"
     ]
    }
   ],
   "source": [
    "#squaring numbers in list using lanbda function:\n",
    "numbers={1,2,3}\n",
    "y=list(map(lambda x : x*x, numbers))\n",
    "print(y)"
   ]
  },
  {
   "cell_type": "code",
   "execution_count": 273,
   "id": "bf230528-7504-466b-b1d5-d1ab1ad5a6ec",
   "metadata": {},
   "outputs": [
    {
     "name": "stdout",
     "output_type": "stream",
     "text": [
      "[1, 5, 11, 3]\n"
     ]
    }
   ],
   "source": [
    "'''The filter() function in Python takes in a function and an iterable (lists, tuples, and strings) as arguments.\n",
    "\n",
    "The function is called with all the items in the list, and a new list is returned, which contains items for which the function evaluates to True.\n",
    "\n",
    "Let's see an example,'''\n",
    "\n",
    "# program to filter out only the even items from a list\n",
    "my_list = [1, 5, 4, 6, 8, 11, 3, 12]\n",
    "\n",
    "new_list =list(filter(lambda x: x%2!=0,my_list))\n",
    "\n",
    "print(new_list)\n",
    "\n",
    "# Output: [4, 6, 8, 12]"
   ]
  },
  {
   "cell_type": "code",
   "execution_count": 271,
   "id": "c4f3f99c-a5f6-45bb-b8b5-2f27d313c2a4",
   "metadata": {},
   "outputs": [
    {
     "name": "stdout",
     "output_type": "stream",
     "text": [
      "[2, 10, 8, 12, 16, 22, 6, 24]\n"
     ]
    }
   ],
   "source": [
    "''''he map() function in Python takes in a function and an iterable (lists, tuples, and strings) as arguments.\n",
    "\n",
    "The function is called with all the items in the list, and a new list is returned, which contains items returned by that function for each item.\n",
    "\n",
    "Let's see an example,''''\n",
    "\n",
    "# Program to double each item in a list using map()\n",
    "\n",
    "my_list = [1, 5, 4, 6, 8, 11, 3, 12]\n",
    "x=list(map(lambda x: x+x,my_list))\n",
    "print(x)"
   ]
  },
  {
   "cell_type": "code",
   "execution_count": 287,
   "id": "38fba56f-082a-4b1d-9f92-44dfe2a7cc3e",
   "metadata": {},
   "outputs": [
    {
     "name": "stdout",
     "output_type": "stream",
     "text": [
      "['i', 'want', 'to', 'become', 'python', 'programmer']\n",
      "['to', 'become', 'python']\n"
     ]
    }
   ],
   "source": [
    "#split method to break string into list\n",
    "msg=\"i want to become python programmer\"\n",
    "x=msg.split()\n",
    "z=x[2:5]\n",
    "print(x)\n",
    "print(z)"
   ]
  },
  {
   "cell_type": "code",
   "execution_count": 3,
   "id": "c5ccdbee-966b-4175-ab11-9de820aafe21",
   "metadata": {},
   "outputs": [
    {
     "name": "stdout",
     "output_type": "stream",
     "text": [
      "3\n",
      "8\n",
      "4\n",
      "9.6\n",
      "0.1\n",
      "984.0\n"
     ]
    }
   ],
   "source": [
    "print(83%10)\n",
    "print(9768%10)\n",
    "print(174%10)\n",
    "print(96/10)\n",
    "print(1/10)\n",
    "print(9840/10)"
   ]
  },
  {
   "cell_type": "code",
   "execution_count": null,
   "id": "05c8de63-d468-43f9-b020-485a70907907",
   "metadata": {},
   "outputs": [],
   "source": [
    "#https://leetcode.com/problems/reverse-integer/description/\n",
    "#actual solution:\n",
    "class Solution:\n",
    "    def reverse(self, x: int) -> int:\n",
    "        mini, maxi = -2**31, 2**31 - 1  \n",
    "        \n",
    "        if x >= 0:\n",
    "            out = int(str(x)[::-1])\n",
    "        else:\n",
    "            out = int('-' + str(x)[:0:-1])\n",
    "        \n",
    "        if out < mini or out > maxi:\n",
    "            return 0\n",
    "        \n",
    "        return out\n",
    "#while conditions\n",
    "def reverse_number(number):\n",
    "    reverse = 0\n",
    "    while number > 0:\n",
    "        digit = number % 10\n",
    "        reverse = reverse * 10 + digit\n",
    "        number //= 10\n",
    "    return reverse\n",
    "\n",
    "# Example usage\n",
    "num = 1234\n",
    "reversed_num = reverse_number(num)\n",
    "print(f\"Original Number: {num}\")\n",
    "print(f\"Reversed Number: {reversed_num}\")\n",
    "\n",
    "#reverse function\n",
    "def reverse_number(number):\n",
    "    return int(str(number)[::-1])\n",
    "\n",
    "# Example usage\n",
    "num = 1234\n",
    "print(\"Reversed Number:\", reverse_number(num))\n",
    "\n",
    "\n",
    "def reverse_number(number):\n",
    "    reverse = 0\n",
    "    while number > 0:\n",
    "        digit = number % 10\n",
    "        reverse = reverse * 10 + digit\n",
    "        number //= 10\n",
    "    return reverse\n",
    "\n",
    "# Example usage\n",
    "num = 1234\n",
    "reversed_num = reverse_number(num)\n",
    "print(f\"Original Number: {num}\")\n",
    "print(f\"Reversed Number: {reversed_num}\")\n",
    "\n",
    "#using recursion\n",
    "def reverse_number(number):\n",
    "    if number == 0:\n",
    "        return 0\n",
    "    else:\n",
    "        return (number % 10) * 10 ** (len(str(number)) - 1) + reverse_number(number // 10)\n",
    "\n",
    "# Example usage\n",
    "num = 1234\n",
    "print(\"Reversed Number:\", reverse_number(num))\n",
    "\n",
    "\n"
   ]
  },
  {
   "cell_type": "code",
   "execution_count": null,
   "id": "24787a3b-b191-4d79-9fde-84dac648b4d8",
   "metadata": {},
   "outputs": [],
   "source": [
    "#what are palindrome numbers\n",
    "A palindromic number (also known as a numeral palindrome or a numeric palindrome) is a number (such as 16461) that remains the same when its digits are reversed. In other words, it has reflectional symmetry across a vertical axis. The term palindromic is derived from palindrome, which refers to a word (such as rotor or racecar) whose spelling is unchanged when its letters are reversed. The first 30 palindromic numbers (in decimal) are:\n",
    "example:121 is palindrome\n",
    "01131110 is not a palindrome \n",
    "0120 is not a palindrome\n",
    "\n",
    "0, 1, 2, 3, 4, 5, 6, 7, 8, 9, 11, 22, 33, 44, 55, 66, 77, 88, 99, 101, 111, 121, 131, 141, 151, 161, 171, 181, 191, 202, ... (sequence A002113 in the OEIS).\n",
    "Palindromic numbers receive most attention in the realm of recreational mathematics. A typical problem asks for numbers that possess a certain property and are palindromic. For instance:\n",
    "\n",
    "The palindromic primes are 2, 3, 5, 7, 11, 101, 131, 151, ... (sequence A002385 in the OEIS).\n",
    "The palindromic square numbers are 0, 1, 4, 9, 121, 484, 676, 10201, 12321, ... (sequence A002779 in the OEIS).\n",
    "It is obvious that in any base there are infinitely many palindromic numbers, since in any base the infinite sequence of numbers written (in that base) as 101, 1001, 10001, 100001, etc. consists solely of palindromic numbers"
   ]
  },
  {
   "cell_type": "code",
   "execution_count": null,
   "id": "1be6bbab-65e3-4af2-9452-51dbac06b325",
   "metadata": {},
   "outputs": [],
   "source": [
    "\n",
    "#https://leetcode.com/problems/palindrome-number/\n",
    "class Solution:\n",
    "    def isPalindrome(self, x: int) -> bool:\n",
    "        if x < 0:\n",
    "            return False\n",
    "\n",
    "        reverse = 0\n",
    "        xcopy = x\n",
    "\n",
    "        while x > 0:\n",
    "            reverse = (reverse * 10) + (x % 10)\n",
    "            x //= 10\n",
    "        \n",
    "        return reverse == xcopy"
   ]
  },
  {
   "cell_type": "code",
   "execution_count": 17,
   "id": "55376345-23af-4670-8992-378c7b7d220d",
   "metadata": {},
   "outputs": [
    {
     "name": "stdout",
     "output_type": "stream",
     "text": [
      "None\n",
      "None\n",
      "None\n",
      "None\n"
     ]
    }
   ],
   "source": [
    "class Car:\n",
    "\n",
    "    def __init__(self,make,model,year,color):\n",
    "        self.make=None\n",
    "        self.model=None\n",
    "        self.year=None\n",
    "        self.color=None\n",
    "    def drive(self):\n",
    "        print(\"this car is driving\")\n",
    "    def stop(self):\n",
    "        print(\"this car is stopped\")\n"
   ]
  },
  {
   "cell_type": "code",
   "execution_count": 21,
   "id": "6fd7c47a-578b-4295-9cc7-025ddeee3148",
   "metadata": {},
   "outputs": [
    {
     "ename": "SyntaxError",
     "evalue": "invalid syntax (3405636830.py, line 1)",
     "output_type": "error",
     "traceback": [
      "\u001b[1;36m  Cell \u001b[1;32mIn[21], line 1\u001b[1;36m\u001b[0m\n\u001b[1;33m    from Car\u001b[0m\n\u001b[1;37m            ^\u001b[0m\n\u001b[1;31mSyntaxError\u001b[0m\u001b[1;31m:\u001b[0m invalid syntax\n"
     ]
    }
   ],
   "source": [
    "from Car\n",
    "car_1=Car(\"Chevy\",\"corvette\",\"2021\",\"blue\")\n",
    "print(car_1.make)\n",
    "print(car_1.model)\n",
    "print(car_1.year)\n",
    "print(car_1.color)\n",
    "\n"
   ]
  },
  {
   "cell_type": "code",
   "execution_count": 37,
   "id": "25f9d01a-43b9-46ad-b58b-238e0d26b77b",
   "metadata": {},
   "outputs": [
    {
     "name": "stdout",
     "output_type": "stream",
     "text": [
      "10\n",
      "10\n"
     ]
    }
   ],
   "source": [
    "class A:\n",
    "    def __init__(self):\n",
    "        age=10\n",
    "        print(age)\n",
    "obj=A()\n",
    "obj2=A()"
   ]
  },
  {
   "cell_type": "code",
   "execution_count": 47,
   "id": "d0af6bf0-352b-49d3-be09-748de1fc67ab",
   "metadata": {},
   "outputs": [
    {
     "name": "stdout",
     "output_type": "stream",
     "text": [
      "10\n",
      "10\n",
      "10\n",
      "Learn Coding...\n",
      "Learn Coding...\n"
     ]
    }
   ],
   "source": [
    "class A:\n",
    "    \"Learn Coding...\"\n",
    "    age=10\n",
    "    print(age)\n",
    "obj=A()\n",
    "print(obj.age)\n",
    "print(A.age)\n",
    "print(obj.__doc__)\n",
    "print(A.__doc__)"
   ]
  },
  {
   "cell_type": "code",
   "execution_count": 53,
   "id": "7ae89a30-8405-475c-819f-4c6aea5469a4",
   "metadata": {},
   "outputs": [
    {
     "name": "stdout",
     "output_type": "stream",
     "text": [
      "Learn Coding\n",
      "Learn Coding\n",
      "Siddiq\n",
      "10\n"
     ]
    }
   ],
   "source": [
    "class A:\n",
    "    age=10\n",
    "    def fun(self):\n",
    "        \"Siddiq\"\n",
    "        name=\"Learn Coding\"\n",
    "        print(name)\n",
    "obj=A()\n",
    "obj.fun()\n",
    "obj.fun()\n",
    "print(obj.fun.__doc__)\n",
    "print(A.age)"
   ]
  },
  {
   "cell_type": "code",
   "execution_count": 8,
   "id": "6b382ac3-2714-4614-a77d-a7b1b1a2d059",
   "metadata": {},
   "outputs": [
    {
     "name": "stdout",
     "output_type": "stream",
     "text": [
      "0\n"
     ]
    }
   ],
   "source": [
    "a=1\n",
    "\n",
    "#a+=1\n",
    "\n",
    "#a+=5\n",
    "a-=1\n",
    "print(a)\n"
   ]
  },
  {
   "cell_type": "code",
   "execution_count": 55,
   "id": "efc8b66d-7f45-4e5c-a001-b911ba807094",
   "metadata": {},
   "outputs": [
    {
     "name": "stdout",
     "output_type": "stream",
     "text": [
      "10   Ankit   Jamshedpur\n"
     ]
    }
   ],
   "source": [
    "class A:\n",
    "    def fun(self,age,name,address):\n",
    "        print(age,\" \",name,\" \",address)\n",
    "obj=A()\n",
    "obj.fun(10,\"Ankit\",\"Jamshedpur\")"
   ]
  },
  {
   "cell_type": "code",
   "execution_count": 59,
   "id": "fccbb7a1-07e0-4136-8ba0-c975d45efdba",
   "metadata": {},
   "outputs": [
    {
     "name": "stdout",
     "output_type": "stream",
     "text": [
      "10   Ankit   Jamshedpur\n",
      "20   Ravi   Hyderabad\n",
      "Altaf   100   200\n"
     ]
    }
   ],
   "source": [
    "class A:\n",
    "    def __init__(self,age,name,address):\n",
    "        print(age,\" \",name,\" \",address)\n",
    "obj=A(10,\"Ankit\",\"Jamshedpur\")\n",
    "obj2=A(20,\"Ravi\",\"Hyderabad\")\n",
    "obj=A(\"Altaf\",100,200)\n"
   ]
  },
  {
   "cell_type": "code",
   "execution_count": 2,
   "id": "ccaa39dc-bc14-4e3e-81b4-a25743fb41a8",
   "metadata": {},
   "outputs": [
    {
     "name": "stdout",
     "output_type": "stream",
     "text": [
      "The factorial of 36 is 371993326789901217467999448150835200000000\n"
     ]
    }
   ],
   "source": [
    "def factorial_iterative(n):\n",
    "    factorial = 1\n",
    "    for i in range(1, n + 1):\n",
    "        factorial *= i\n",
    "    return factorial\n",
    "\n",
    "# Example usage\n",
    "num = 36\n",
    "print(f\"The factorial of {num} is {factorial_iterative(num)}\")\n"
   ]
  },
  {
   "cell_type": "code",
   "execution_count": null,
   "id": "9b53347d-37b9-4cb2-b543-7cfa634da8e9",
   "metadata": {},
   "outputs": [],
   "source": [
    "for i=1 and i*i<=n:\n",
    "count+=1\n",
    "if n%i==0:\n",
    "    if(i==n/i):\n",
    "        count+=1\n",
    "    else\n",
    "       count+=2\n",
    "        \n",
    "    \n"
   ]
  },
  {
   "cell_type": "code",
   "execution_count": 6,
   "id": "b432ebef-3a49-46ed-baba-545761649ee0",
   "metadata": {},
   "outputs": [
    {
     "name": "stdout",
     "output_type": "stream",
     "text": [
      "1\n",
      "2\n",
      "3\n",
      "4\n",
      "6\n",
      "9\n",
      "12\n",
      "18\n",
      "36\n"
     ]
    }
   ],
   "source": [
    "#find the factors of a number:\n",
    "def print_factors(x):\n",
    "    for i in range(1,x+1):\n",
    "        if x%i==0:\n",
    "            print(i)\n",
    "x=36\n",
    "print_factors(x)\n",
    "    "
   ]
  },
  {
   "cell_type": "code",
   "execution_count": 5,
   "id": "93416934-b74f-4596-93d2-027984847c50",
   "metadata": {},
   "outputs": [
    {
     "name": "stdout",
     "output_type": "stream",
     "text": [
      "The factors of 320 are:\n",
      "1\n",
      "2\n",
      "4\n",
      "5\n",
      "8\n",
      "10\n",
      "16\n",
      "20\n",
      "32\n",
      "40\n",
      "64\n",
      "80\n",
      "160\n",
      "320\n"
     ]
    }
   ],
   "source": [
    "def print_factors(x):\n",
    "    print(f\"The factors of {x} are:\")\n",
    "    for i in range(1, x + 1):\n",
    "        if x % i == 0:\n",
    "            print(i)\n",
    "\n",
    "# Example usage\n",
    "num = 320\n",
    "print_factors(num)\n"
   ]
  },
  {
   "cell_type": "code",
   "execution_count": null,
   "id": "312111fd-9a75-406c-b475-727e760cc30b",
   "metadata": {},
   "outputs": [],
   "source": [
    "#find the number is prime or not\n",
    "def prime_num(x)\n",
    "if x"
   ]
  },
  {
   "cell_type": "code",
   "execution_count": 7,
   "id": "67a552e0-73d0-4a56-aef5-25f609e329af",
   "metadata": {},
   "outputs": [
    {
     "name": "stdout",
     "output_type": "stream",
     "text": [
      "5\n"
     ]
    }
   ],
   "source": [
    "#calculating iterations:\n",
    "a=3\n",
    "b=7\n",
    "c=b-a+1\n",
    "print(c)"
   ]
  },
  {
   "cell_type": "code",
   "execution_count": 8,
   "id": "a5832603-e7f3-407d-bbd6-10b064de4143",
   "metadata": {},
   "outputs": [],
   "source": [
    "j=[{\"name\":\"Raghu\",\"age\":52,\"sex\":\"M\"},{\"name\":\"Bindu\",\"age\":55,\"sex\":\"F\"}]"
   ]
  },
  {
   "cell_type": "code",
   "execution_count": 9,
   "id": "5f7029d6-88bf-4ede-96f6-fb17188331be",
   "metadata": {},
   "outputs": [
    {
     "data": {
      "text/plain": [
       "{'name': 'Raghu', 'age': 52, 'sex': 'M'}"
      ]
     },
     "execution_count": 9,
     "metadata": {},
     "output_type": "execute_result"
    }
   ],
   "source": [
    "len(j)\n",
    "j[0]"
   ]
  },
  {
   "cell_type": "code",
   "execution_count": 10,
   "id": "05f41477-f5a3-4fbc-ac78-224758312158",
   "metadata": {},
   "outputs": [
    {
     "data": {
      "text/plain": [
       "{'name': 'Bindu', 'age': 55, 'sex': 'F'}"
      ]
     },
     "execution_count": 10,
     "metadata": {},
     "output_type": "execute_result"
    }
   ],
   "source": [
    "j[1]"
   ]
  },
  {
   "cell_type": "code",
   "execution_count": 11,
   "id": "36f747e5-ae05-489e-995a-70ff3ed1d014",
   "metadata": {},
   "outputs": [
    {
     "data": {
      "text/plain": [
       "'Raghu'"
      ]
     },
     "execution_count": 11,
     "metadata": {},
     "output_type": "execute_result"
    }
   ],
   "source": [
    "j[0]['name']"
   ]
  },
  {
   "cell_type": "code",
   "execution_count": 12,
   "id": "196afa20-dd4a-411c-b80c-837503fdc2f5",
   "metadata": {},
   "outputs": [
    {
     "data": {
      "text/plain": [
       "True"
      ]
     },
     "execution_count": 12,
     "metadata": {},
     "output_type": "execute_result"
    }
   ],
   "source": [
    "s='jah bjha'\n",
    "'b' in s"
   ]
  },
  {
   "cell_type": "code",
   "execution_count": 13,
   "id": "f1c76a5b-80f0-49b3-ae52-c8b93a3cf729",
   "metadata": {},
   "outputs": [
    {
     "data": {
      "text/plain": [
       "True"
      ]
     },
     "execution_count": 13,
     "metadata": {},
     "output_type": "execute_result"
    }
   ],
   "source": [
    "\"name\" in j[0]"
   ]
  },
  {
   "cell_type": "code",
   "execution_count": 14,
   "id": "6001800a-f08d-4e63-bb80-c185eacdf824",
   "metadata": {},
   "outputs": [
    {
     "data": {
      "text/plain": [
       "True"
      ]
     },
     "execution_count": 14,
     "metadata": {},
     "output_type": "execute_result"
    }
   ],
   "source": [
    "\"name\" in j[1]"
   ]
  },
  {
   "cell_type": "code",
   "execution_count": 15,
   "id": "8c120736-1acc-400c-85e4-be9b9bacd2d2",
   "metadata": {},
   "outputs": [
    {
     "data": {
      "text/plain": [
       "False"
      ]
     },
     "execution_count": 15,
     "metadata": {},
     "output_type": "execute_result"
    }
   ],
   "source": [
    "\"name\" in j"
   ]
  },
  {
   "cell_type": "code",
   "execution_count": 16,
   "id": "466edfbe-8947-4409-8041-fbf3931c2fc5",
   "metadata": {},
   "outputs": [
    {
     "name": "stdout",
     "output_type": "stream",
     "text": [
      "[{'name': 'Raghu', 'age': 52, 'sex': 'M'}, {'name': 'Bindu', 'age': 55, 'sex': 'F'}, 'name']\n",
      "[{'name': 'Raghu', 'age': 52, 'sex': 'M'}, {'name': 'Bindu', 'age': 55, 'sex': 'F'}]\n"
     ]
    }
   ],
   "source": [
    "j=[{\"name\":\"Raghu\",\"age\":52,\"sex\":\"M\"},{\"name\":\"Bindu\",\"age\":55,\"sex\":\"F\"},\"name\"]\n",
    "print(j)\n",
    "j.remove(\"name\")\n",
    "print(j)"
   ]
  },
  {
   "cell_type": "code",
   "execution_count": 17,
   "id": "d402428e-9d74-4321-bfe4-69143bafd89c",
   "metadata": {},
   "outputs": [
    {
     "name": "stdout",
     "output_type": "stream",
     "text": [
      "[{'name': 'Raghu', 'age': 52, 'sex': 'M'}, {'age': 55, 'sex': 'F'}]\n"
     ]
    }
   ],
   "source": [
    "del j[1][\"name\"]\n",
    "print(j)"
   ]
  },
  {
   "cell_type": "code",
   "execution_count": 22,
   "id": "64bb9767-c6ae-43ec-ab82-c26b3d4518df",
   "metadata": {},
   "outputs": [
    {
     "name": "stdout",
     "output_type": "stream",
     "text": [
      "[1, 2, 3, 4, 5, 6, 7, 8]\n",
      "[1, 2, 3, 4]\n"
     ]
    }
   ],
   "source": [
    "#add two list\n",
    "#moethod1\n",
    "l1=[1,2,3,4]\n",
    "l2=[5,6,7,8]\n",
    "l1.extend(l2)\n",
    "print(l1)\n",
    "#method2-list comprehension\n",
    "x=[z for z in l1 if z not in l2]\n",
    "print(x)"
   ]
  },
  {
   "cell_type": "code",
   "execution_count": 24,
   "id": "0a5d1c7b-7755-4148-ba13-02c3ea5cf25e",
   "metadata": {},
   "outputs": [
    {
     "ename": "NameError",
     "evalue": "name 'no_of_car' is not defined",
     "output_type": "error",
     "traceback": [
      "\u001b[1;31m---------------------------------------------------------------------------\u001b[0m",
      "\u001b[1;31mNameError\u001b[0m                                 Traceback (most recent call last)",
      "Cell \u001b[1;32mIn[24], line 8\u001b[0m\n\u001b[0;32m      6\u001b[0m dict1\u001b[38;5;241m.\u001b[39mget(\u001b[38;5;124m\"\u001b[39m\u001b[38;5;124mname\u001b[39m\u001b[38;5;124m\"\u001b[39m)\n\u001b[0;32m      7\u001b[0m dict1\u001b[38;5;241m.\u001b[39mget(\u001b[38;5;124m\"\u001b[39m\u001b[38;5;124mno of cars\u001b[39m\u001b[38;5;124m\"\u001b[39m)\n\u001b[1;32m----> 8\u001b[0m \u001b[38;5;28mprint\u001b[39m(\u001b[43mno_of_car\u001b[49m)\n",
      "\u001b[1;31mNameError\u001b[0m: name 'no_of_car' is not defined"
     ]
    }
   ],
   "source": [
    "#adding elements to dictionary\n",
    "dict1={\"name\":\"Jasleem\"}\n",
    "dict1[\"name\"]=\"Jasleem\"\n",
    "dict1.update({\"money\":100000})\n",
    "dict1[\"money\"]\n",
    "dict1.get(\"name\")\n",
    "dict1.get(\"no of cars\")\n",
    "print(no_of_car)\n"
   ]
  },
  {
   "cell_type": "code",
   "execution_count": 30,
   "id": "51e600f7-17b3-45db-96d5-b049f0077de0",
   "metadata": {},
   "outputs": [
    {
     "name": "stdout",
     "output_type": "stream",
     "text": [
      "27 is not an Armstrong number\n"
     ]
    }
   ],
   "source": [
    "#print the number is armstrong or not\n",
    "x=27\n",
    "dig=str(x)\n",
    "i=len(dig)\n",
    "#for each in y:\n",
    "#sumofpowers= sum(int(x) ** i for x in dig) \n",
    "sumofpowers = \n",
    "if sumofpowers==dig:\n",
    "   print(f\"{dig} is Armstrong number\")\n",
    "else:\n",
    "   print(f\"{dig} is not an Armstrong number\")"
   ]
  },
  {
   "cell_type": "code",
   "execution_count": 33,
   "id": "a46c53c1-c877-4023-9603-66fb32f816e7",
   "metadata": {},
   "outputs": [
    {
     "name": "stdout",
     "output_type": "stream",
     "text": [
      "1\n",
      "2\n",
      "3\n",
      "4\n",
      "5\n",
      "6\n",
      "7\n",
      "8\n",
      "9\n",
      "153\n",
      "370\n",
      "371\n",
      "407\n"
     ]
    }
   ],
   "source": [
    "# print Armstrong number between 1 to 1000\n",
    "for i in range(1,1001):\n",
    "    power=len(str(i))\n",
    "    sum1=0\n",
    "    digit=str(i)\n",
    "    for each in digit:\n",
    "        sum1=sum1+int(each)**power\n",
    "    if sum1==int(i):\n",
    "        print(sum1)"
   ]
  },
  {
   "cell_type": "code",
   "execution_count": null,
   "id": "d7586264-2dcc-4b51-8a33-26a5c28e08ba",
   "metadata": {},
   "outputs": [],
   "source": [
    "#while loop using armstrong or not\n",
    "x=366\n",
    "i=len(str(x))\n",
    "sum1=0\n",
    "while (x!=0):\n",
    "     digit=i%10\n",
    "     sum1=sum1+ int(each)**i\n",
    "     x=x//10\n",
    "if sum1==x:\n",
    "    print(f\"{x} is not an Armstong number\")\n",
    "else:\n",
    "    print(f\"{x} is an Armstong number\")\n"
   ]
  },
  {
   "cell_type": "code",
   "execution_count": null,
   "id": "72532d20-db70-4184-bdd8-7552eaeab767",
   "metadata": {},
   "outputs": [],
   "source": [
    "#while loop using armstrong or not\n",
    "for x in range(1,1001):\n",
    "    num=x\n",
    "    n=len(str(x))\n",
    "    sum1=0\n",
    "    while (x!=0):\n",
    "       digit=x%10\n",
    "       sum1=sum1+ digit**n\n",
    "       x=x//10\n",
    "    if sum1==num:\n",
    "       print(num)"
   ]
  },
  {
   "cell_type": "code",
   "execution_count": null,
   "id": "1187a232-021e-498e-a02a-6285dc9d957c",
   "metadata": {},
   "outputs": [],
   "source": [
    "s=\"Hello world\"\n",
    "print(s[::-2])"
   ]
  },
  {
   "cell_type": "code",
   "execution_count": 7,
   "id": "f341da33-df97-4d82-bcb6-b060794db197",
   "metadata": {},
   "outputs": [
    {
     "name": "stdout",
     "output_type": "stream",
     "text": [
      "55 is not greater than 56\n"
     ]
    }
   ],
   "source": [
    "#if conditions:\n",
    "a=55\n",
    "b=56\n",
    "if a is b:\n",
    "    print(f\"{a} is greater than {b}\")\n",
    "elif a==b:\n",
    "    print(f\"{a} is equal to {b}\")\n",
    "else:\n",
    "    print(f\"{a} is not greater than {b}\")\n",
    "    "
   ]
  },
  {
   "cell_type": "code",
   "execution_count": null,
   "id": "1f82d7e8-f41c-4674-8ee1-9844576db746",
   "metadata": {},
   "outputs": [],
   "source": [
    "Truthy value:\n",
    "    \"a\",all numbers, non empty lists,tuples,strings,dict,sets\n",
    "Falsy value:\n",
    "    False,empty strings,lists,tuples,sets,none,0"
   ]
  },
  {
   "cell_type": "code",
   "execution_count": 9,
   "id": "f6762df0-a6f9-436a-acf6-0d8e478f54b7",
   "metadata": {},
   "outputs": [
    {
     "name": "stdout",
     "output_type": "stream",
     "text": [
      "5\n"
     ]
    }
   ],
   "source": [
    "#nested if conditions\n",
    "a=5\n",
    "if a%2==1:\n",
    "    if a>2:\n",
    "        print(a)\n",
    "    else:\n",
    "        print(\"I dont want his number\")\n",
    "else:\n",
    "    print(\"even number\")"
   ]
  },
  {
   "cell_type": "code",
   "execution_count": 11,
   "id": "58fc1ca2-3046-4b27-8b19-ecae03ffcc6c",
   "metadata": {},
   "outputs": [
    {
     "name": "stdin",
     "output_type": "stream",
     "text": [
      "Enter the number 5\n"
     ]
    },
    {
     "name": "stdout",
     "output_type": "stream",
     "text": [
      "5 is odd\n"
     ]
    }
   ],
   "source": [
    "#print number is even or odd\n",
    "a=int(input(\"Enter the number\"))\n",
    "if a%2==0:\n",
    "      print(f\"{a} is even\")\n",
    "if a%2!=0:\n",
    "      print(f\"{a} is odd\")\n",
    "    \n",
    "     "
   ]
  },
  {
   "cell_type": "code",
   "execution_count": null,
   "id": "a1f72554-611d-404b-8d5f-043cbaa86f32",
   "metadata": {},
   "outputs": [],
   "source": [
    "#print number is even or odd\n",
    "a=int(input(\"Enter the number\"))\n",
    "print(f\"{a} is Even\") if a%==0 else (f\"{a} is odd\")\n",
    "#docstring we dont use semicolon in if or else conditions in syntaxes\n"
   ]
  },
  {
   "cell_type": "code",
   "execution_count": 12,
   "id": "e7ab7953-b8f1-4266-8aff-327c660bb3c2",
   "metadata": {},
   "outputs": [
    {
     "data": {
      "text/plain": [
       "65"
      ]
     },
     "execution_count": 12,
     "metadata": {},
     "output_type": "execute_result"
    }
   ],
   "source": [
    "#While loops##\n",
    "ord(\"A\")"
   ]
  },
  {
   "cell_type": "code",
   "execution_count": 13,
   "id": "3733d8f8-fc1f-4e02-9aef-470f7f9b0e2d",
   "metadata": {},
   "outputs": [
    {
     "name": "stdout",
     "output_type": "stream",
     "text": [
      "A\n",
      "B\n",
      "C\n",
      "D\n",
      "E\n",
      "F\n",
      "G\n",
      "H\n",
      "I\n",
      "J\n",
      "K\n",
      "L\n",
      "M\n",
      "N\n",
      "O\n",
      "P\n",
      "Q\n",
      "R\n",
      "S\n",
      "T\n",
      "U\n",
      "V\n",
      "W\n",
      "X\n",
      "Y\n",
      "Z\n",
      "[\n"
     ]
    }
   ],
   "source": [
    "a=65\n",
    "while a<91:\n",
    "    print(chr(a))\n",
    "    a+=1"
   ]
  },
  {
   "cell_type": "code",
   "execution_count": null,
   "id": "827c948e-b908-4109-972c-6cdcc8b924d4",
   "metadata": {},
   "outputs": [],
   "source": [
    "a=1\n",
    "while a<=10:\n",
    "  print(f\"2*{a}={2*a}\")\n",
    "  a+=1\n"
   ]
  },
  {
   "cell_type": "code",
   "execution_count": null,
   "id": "d9f7bcf7-4cc3-471e-887e-a312501eff40",
   "metadata": {},
   "outputs": [],
   "source": [
    "#continue\n",
    "a=1\n",
    "while a<11:\n",
    "    if a==3 or a==5:\n",
    "        a+=1\n",
    "        continue\n",
    "    print(a, \"Odd\" if a%2 else \"Even\")\n",
    "    a+=1\n"
   ]
  },
  {
   "cell_type": "code",
   "execution_count": null,
   "id": "e69660e7-3910-41f9-a6bf-c1cdf16e7d93",
   "metadata": {},
   "outputs": [],
   "source": [
    "## for loop\n",
    "a=2\n",
    "for x in range(1,11):\n",
    "    print(f\"{a}*{x}={2*a}\")"
   ]
  },
  {
   "cell_type": "code",
   "execution_count": null,
   "id": "659348fb-0f56-4b22-9e93-2a87dad606d5",
   "metadata": {},
   "outputs": [],
   "source": [
    "# Multiplication table of 2\n",
    "num = 2\n",
    "\n",
    "# Iterate 10 times from 1 to 10\n",
    "for i in range(1, 11):\n",
    "    print(f\"{num} x {i} = {num * i}\")\n"
   ]
  },
  {
   "cell_type": "code",
   "execution_count": 1,
   "id": "fac57891-44f1-4b02-b91e-24e3e9badfb1",
   "metadata": {},
   "outputs": [],
   "source": [
    "#function -any number of arguments can be defined in function\n",
    "def func_name(args):\n",
    "    return str(args)\n"
   ]
  },
  {
   "cell_type": "code",
   "execution_count": 2,
   "id": "80248d80-281d-4d70-ae9d-c15b6f0ead23",
   "metadata": {},
   "outputs": [
    {
     "data": {
      "text/plain": [
       "\"{'d': 2}\""
      ]
     },
     "execution_count": 2,
     "metadata": {},
     "output_type": "execute_result"
    }
   ],
   "source": [
    "func_name({\"d\":2})"
   ]
  },
  {
   "cell_type": "code",
   "execution_count": 3,
   "id": "72b61b73-33ef-4fbc-ba5d-71eba8292cd3",
   "metadata": {},
   "outputs": [],
   "source": [
    "val=func_name({\"d\":2})"
   ]
  },
  {
   "cell_type": "code",
   "execution_count": 4,
   "id": "4c315ad6-7adb-4e93-96f0-cf6a4c4df947",
   "metadata": {},
   "outputs": [
    {
     "data": {
      "text/plain": [
       "str"
      ]
     },
     "execution_count": 4,
     "metadata": {},
     "output_type": "execute_result"
    }
   ],
   "source": [
    "type(val)"
   ]
  },
  {
   "cell_type": "code",
   "execution_count": 5,
   "id": "632a7954-e861-4bdb-b692-790317141415",
   "metadata": {},
   "outputs": [
    {
     "data": {
      "text/plain": [
       "\"{'d': 2}\""
      ]
     },
     "execution_count": 5,
     "metadata": {},
     "output_type": "execute_result"
    }
   ],
   "source": [
    "val"
   ]
  },
  {
   "cell_type": "code",
   "execution_count": 6,
   "id": "b005fbbe-d64d-4b43-9fe3-ba5f73acedc0",
   "metadata": {},
   "outputs": [
    {
     "data": {
      "text/plain": [
       "\"'\""
      ]
     },
     "execution_count": 6,
     "metadata": {},
     "output_type": "execute_result"
    }
   ],
   "source": [
    "val[1]"
   ]
  },
  {
   "cell_type": "code",
   "execution_count": 10,
   "id": "24cfac43-d2be-4a4d-97a5-8645ec138e71",
   "metadata": {},
   "outputs": [],
   "source": [
    "def summation(val1, val2, val3, val4):\n",
    "    return val1 + val2 + val3 + val4"
   ]
  },
  {
   "cell_type": "code",
   "execution_count": 11,
   "id": "db6f3b76-cf7d-4722-b827-11fc1d883fad",
   "metadata": {},
   "outputs": [
    {
     "data": {
      "text/plain": [
       "10"
      ]
     },
     "execution_count": 11,
     "metadata": {},
     "output_type": "execute_result"
    }
   ],
   "source": [
    "summation(1, 2, 3, 4)"
   ]
  },
  {
   "cell_type": "code",
   "execution_count": null,
   "id": "2624041e-813a-4192-90df-82839697086b",
   "metadata": {},
   "outputs": [],
   "source": [
    "#arbitary argument\n",
    "def summation(val1, val2, val3, val4, *args):\n",
    "    return val1 + val2 + val3 + val4"
   ]
  },
  {
   "cell_type": "code",
   "execution_count": 12,
   "id": "938f2bae-5918-49f6-8cc4-c825d39e3f5e",
   "metadata": {},
   "outputs": [],
   "source": [
    "def print_val(*args):\n",
    "    print(args)\n",
    "    print(type(args))"
   ]
  },
  {
   "cell_type": "code",
   "execution_count": 13,
   "id": "c6ed3612-b2db-4347-b390-db57e3ab44d6",
   "metadata": {},
   "outputs": [
    {
     "name": "stdout",
     "output_type": "stream",
     "text": [
      "(1, 2, 3, 4, 5)\n",
      "<class 'tuple'>\n"
     ]
    }
   ],
   "source": [
    "print_val(1, 2, 3, 4, 5)"
   ]
  },
  {
   "cell_type": "code",
   "execution_count": 16,
   "id": "754954ce-2331-40a2-a950-ac7ecfe73fe5",
   "metadata": {},
   "outputs": [],
   "source": [
    "def print_val(*args):\n",
    "    sumn=0\n",
    "    for i in args:\n",
    "        sumn+=i\n",
    "    return sumn"
   ]
  },
  {
   "cell_type": "code",
   "execution_count": 17,
   "id": "2cb2ff7c-81f0-46a6-b3d9-4f45543a0913",
   "metadata": {},
   "outputs": [
    {
     "data": {
      "text/plain": [
       "15"
      ]
     },
     "execution_count": 17,
     "metadata": {},
     "output_type": "execute_result"
    }
   ],
   "source": [
    "print_val(1, 2, 3, 4, 5)"
   ]
  },
  {
   "cell_type": "code",
   "execution_count": 21,
   "id": "4d0ac2a3-4248-4cf2-afb0-78ef04513f16",
   "metadata": {},
   "outputs": [],
   "source": [
    "def print_val(*args):\n",
    "    sumn=0\n",
    "    listofnonintegers=[]\n",
    "    for i in args:\n",
    "        if isinstance(i, int):\n",
    "           sumn+=i\n",
    "        else:\n",
    "            listofnonintegers.append(i)\n",
    "    return sumn, listofnonintegers"
   ]
  },
  {
   "cell_type": "code",
   "execution_count": 19,
   "id": "baa9838a-5a25-4130-99fe-de5432e38cb9",
   "metadata": {},
   "outputs": [
    {
     "ename": "TypeError",
     "evalue": "unsupported operand type(s) for +=: 'int' and 'str'",
     "output_type": "error",
     "traceback": [
      "\u001b[1;31m---------------------------------------------------------------------------\u001b[0m",
      "\u001b[1;31mTypeError\u001b[0m                                 Traceback (most recent call last)",
      "Cell \u001b[1;32mIn[19], line 1\u001b[0m\n\u001b[1;32m----> 1\u001b[0m \u001b[43mprint_val\u001b[49m\u001b[43m(\u001b[49m\u001b[38;5;241;43m5\u001b[39;49m\u001b[43m,\u001b[49m\u001b[43m \u001b[49m\u001b[38;5;241;43m6\u001b[39;49m\u001b[43m,\u001b[49m\u001b[43m \u001b[49m\u001b[38;5;241;43m7\u001b[39;49m\u001b[43m,\u001b[49m\u001b[43m \u001b[49m\u001b[38;5;124;43m\"\u001b[39;49m\u001b[38;5;124;43m8\u001b[39;49m\u001b[38;5;124;43m\"\u001b[39;49m\u001b[43m,\u001b[49m\u001b[43m \u001b[49m\u001b[38;5;124;43m\"\u001b[39;49m\u001b[38;5;124;43m-\u001b[39;49m\u001b[38;5;124;43m\"\u001b[39;49m\u001b[43m,\u001b[49m\u001b[43m \u001b[49m\u001b[38;5;241;43m20\u001b[39;49m\u001b[43m)\u001b[49m\n",
      "Cell \u001b[1;32mIn[16], line 4\u001b[0m, in \u001b[0;36mprint_val\u001b[1;34m(*args)\u001b[0m\n\u001b[0;32m      2\u001b[0m sumn\u001b[38;5;241m=\u001b[39m\u001b[38;5;241m0\u001b[39m\n\u001b[0;32m      3\u001b[0m \u001b[38;5;28;01mfor\u001b[39;00m i \u001b[38;5;129;01min\u001b[39;00m args:\n\u001b[1;32m----> 4\u001b[0m     \u001b[43msumn\u001b[49m\u001b[38;5;241;43m+\u001b[39;49m\u001b[38;5;241;43m=\u001b[39;49m\u001b[43mi\u001b[49m\n\u001b[0;32m      5\u001b[0m \u001b[38;5;28;01mreturn\u001b[39;00m sumn\n",
      "\u001b[1;31mTypeError\u001b[0m: unsupported operand type(s) for +=: 'int' and 'str'"
     ]
    }
   ],
   "source": [
    "print_val(5, 6, 7, \"8\", \"-\", 20)"
   ]
  },
  {
   "cell_type": "code",
   "execution_count": 24,
   "id": "93149e28-ff40-4b24-9944-273dfaa6b8df",
   "metadata": {},
   "outputs": [
    {
     "ename": "SyntaxError",
     "evalue": "invalid syntax (2669434647.py, line 5)",
     "output_type": "error",
     "traceback": [
      "\u001b[1;36m  Cell \u001b[1;32mIn[24], line 5\u001b[1;36m\u001b[0m\n\u001b[1;33m    If i in a:\u001b[0m\n\u001b[1;37m       ^\u001b[0m\n\u001b[1;31mSyntaxError\u001b[0m\u001b[1;31m:\u001b[0m invalid syntax\n"
     ]
    }
   ],
   "source": [
    "l = [5, 5, 2, 2, \"l\", \"k\", \"l\", \"a\", \"a\", \"a\", \"k\", 9]\n",
    "a = list(set(l))\n",
    "count=0\n",
    "for i in range(l):\n",
    "    If i in l:\n",
    "       count[i]=1\n",
    "    else:\n",
    "       count[i]+=1\n",
    "return count\n",
    "print(count)\n",
    "        "
   ]
  },
  {
   "cell_type": "code",
   "execution_count": null,
   "id": "5864af67-1999-4faa-9dd7-9a0c682393dc",
   "metadata": {},
   "outputs": [],
   "source": [
    "def iterator(lis):\n",
    "    for e in range(len(lis)):\n",
    "        return lis[e]\n",
    "\n",
    "l=input(\"Enter list elements:\").split()\n",
    "x=iterator(l)\n",
    "print(x)"
   ]
  },
  {
   "cell_type": "code",
   "execution_count": 23,
   "id": "0c6b1d73-c328-49c3-b873-54e05f84bdbb",
   "metadata": {},
   "outputs": [
    {
     "ename": "NameError",
     "evalue": "name 'iterator' is not defined",
     "output_type": "error",
     "traceback": [
      "\u001b[1;31m---------------------------------------------------------------------------\u001b[0m",
      "\u001b[1;31mNameError\u001b[0m                                 Traceback (most recent call last)",
      "Cell \u001b[1;32mIn[23], line 1\u001b[0m\n\u001b[1;32m----> 1\u001b[0m \u001b[43miterator\u001b[49m([\u001b[38;5;241m1\u001b[39m,\u001b[38;5;241m2\u001b[39m,\u001b[38;5;241m3\u001b[39m,\u001b[38;5;241m4\u001b[39m])\n",
      "\u001b[1;31mNameError\u001b[0m: name 'iterator' is not defined"
     ]
    }
   ],
   "source": []
  },
  {
   "cell_type": "code",
   "execution_count": 26,
   "id": "9ee8a380-bd8a-403e-ba08-7e6cc8023755",
   "metadata": {},
   "outputs": [],
   "source": [
    "#keyword argument **kwargs\n",
    "def nameplate(**value):\n",
    "    print(value)\n",
    "    print(type(value))"
   ]
  },
  {
   "cell_type": "code",
   "execution_count": 27,
   "id": "3b71a8b9-56fb-4a5d-915a-378e2e494fbb",
   "metadata": {},
   "outputs": [
    {
     "name": "stdout",
     "output_type": "stream",
     "text": [
      "{'name': 'Raghu', 'Citizenship': 'Indian', 'Company': 'Amazon'}\n",
      "<class 'dict'>\n"
     ]
    }
   ],
   "source": [
    "nameplate(name=\"Raghu\", Citizenship=\"Indian\", Company=\"Amazon\")"
   ]
  },
  {
   "cell_type": "code",
   "execution_count": 30,
   "id": "7ddad12a-f8d4-45c3-9193-5a67942ff308",
   "metadata": {},
   "outputs": [
    {
     "ename": "SyntaxError",
     "evalue": "f-string: unmatched '[' (520758637.py, line 3)",
     "output_type": "error",
     "traceback": [
      "\u001b[1;36m  Cell \u001b[1;32mIn[30], line 3\u001b[1;36m\u001b[0m\n\u001b[1;33m    return f\"Name= {value[\"name\"]}\"\u001b[0m\n\u001b[1;37m                           ^\u001b[0m\n\u001b[1;31mSyntaxError\u001b[0m\u001b[1;31m:\u001b[0m f-string: unmatched '['\n"
     ]
    }
   ],
   "source": [
    "def nameplate(**value):\n",
    "    if value.get(\"name\"):\n",
    "        return f\"Name= {value[\"name\"]}\"\n",
    "    else:\n",
    "        return value"
   ]
  },
  {
   "cell_type": "code",
   "execution_count": 7,
   "id": "463a9e34-9cd5-472b-8f35-4b1a9a3851ac",
   "metadata": {},
   "outputs": [],
   "source": [
    "class A:\n",
    "    c_a=5\n",
    "    def __init__(self):\n",
    "        self.val=0\n",
    "        print(\"Hey I am called\")\n",
    "\n",
    "    def incr_val(self, val):\n",
    "        self.val += val\n",
    "        \n",
    "    def get_val(self):\n",
    "        return self.val"
   ]
  },
  {
   "cell_type": "code",
   "execution_count": 2,
   "id": "9213aa55-7b2b-4aef-9d92-7b04f8439e50",
   "metadata": {},
   "outputs": [
    {
     "name": "stdout",
     "output_type": "stream",
     "text": [
      "Hey I am called\n"
     ]
    }
   ],
   "source": [
    "a = A()"
   ]
  },
  {
   "cell_type": "code",
   "execution_count": 3,
   "id": "3fd00b15-7f26-44fb-8516-a9bb250cbd45",
   "metadata": {},
   "outputs": [
    {
     "data": {
      "text/plain": [
       "0"
      ]
     },
     "execution_count": 3,
     "metadata": {},
     "output_type": "execute_result"
    }
   ],
   "source": [
    "a.get_val()"
   ]
  },
  {
   "cell_type": "code",
   "execution_count": 5,
   "id": "6c21e610-62c2-4a06-afd5-4bb63d6e7f12",
   "metadata": {},
   "outputs": [],
   "source": [
    "a.incr_val(5)"
   ]
  },
  {
   "cell_type": "code",
   "execution_count": 6,
   "id": "597eda44-cdd5-4633-aca7-f4f3ca2d9dfc",
   "metadata": {},
   "outputs": [
    {
     "data": {
      "text/plain": [
       "5"
      ]
     },
     "execution_count": 6,
     "metadata": {},
     "output_type": "execute_result"
    }
   ],
   "source": [
    "a.get_val()"
   ]
  },
  {
   "cell_type": "code",
   "execution_count": 8,
   "id": "9897b038-ac5f-4c96-9f6e-6f93bcb53cfd",
   "metadata": {},
   "outputs": [
    {
     "ename": "AttributeError",
     "evalue": "'A' object has no attribute 'c_a'",
     "output_type": "error",
     "traceback": [
      "\u001b[1;31m---------------------------------------------------------------------------\u001b[0m",
      "\u001b[1;31mAttributeError\u001b[0m                            Traceback (most recent call last)",
      "Cell \u001b[1;32mIn[8], line 1\u001b[0m\n\u001b[1;32m----> 1\u001b[0m \u001b[43ma\u001b[49m\u001b[38;5;241;43m.\u001b[39;49m\u001b[43mc_a\u001b[49m\n",
      "\u001b[1;31mAttributeError\u001b[0m: 'A' object has no attribute 'c_a'"
     ]
    }
   ],
   "source": [
    "a.c_a\n"
   ]
  },
  {
   "cell_type": "code",
   "execution_count": 9,
   "id": "f534ef0a-b5e1-4524-be47-4618357a68e4",
   "metadata": {},
   "outputs": [],
   "source": [
    "class Employee:\n",
    "    def __inti__(self, name, age):\n",
    "        self.__name = name\n",
    "        self.__age = age\n",
    "    def get_name(self):\n",
    "        return self.__name\n",
    "    def change_name(self,name):\n",
    "        self._name=name\n",
    "    def get_age(self):\n",
    "        return self.__age\n",
    "        "
   ]
  },
  {
   "cell_type": "code",
   "execution_count": 10,
   "id": "838aa9d6-040d-45da-8e33-f37ea5d10883",
   "metadata": {},
   "outputs": [
    {
     "ename": "TypeError",
     "evalue": "Employee() takes no arguments",
     "output_type": "error",
     "traceback": [
      "\u001b[1;31m---------------------------------------------------------------------------\u001b[0m",
      "\u001b[1;31mTypeError\u001b[0m                                 Traceback (most recent call last)",
      "Cell \u001b[1;32mIn[10], line 1\u001b[0m\n\u001b[1;32m----> 1\u001b[0m e1\u001b[38;5;241m=\u001b[39m \u001b[43mEmployee\u001b[49m\u001b[43m(\u001b[49m\u001b[38;5;124;43m\"\u001b[39;49m\u001b[38;5;124;43mRaja\u001b[39;49m\u001b[38;5;124;43m\"\u001b[39;49m\u001b[43m,\u001b[49m\u001b[43m \u001b[49m\u001b[38;5;241;43m26\u001b[39;49m\u001b[43m)\u001b[49m\n",
      "\u001b[1;31mTypeError\u001b[0m: Employee() takes no arguments"
     ]
    }
   ],
   "source": [
    "e1= Employee(\"Raja\", 26)"
   ]
  },
  {
   "cell_type": "code",
   "execution_count": 2,
   "id": "97b39e14-95b7-4509-9390-6c91bbd8d6e5",
   "metadata": {},
   "outputs": [],
   "source": [
    "class Car:\n",
    "    def __init__(self,wheel):\n",
    "        self.wheel = wheel\n",
    "        self.color = \"red\"\n",
    "    def change_color(self, color):\n",
    "        self.color = color\n",
    "    def get_color(self):\n",
    "        print(id(self))\n",
    "        return self.color\n",
    "\n",
    "car1=Car(5)"
   ]
  },
  {
   "cell_type": "code",
   "execution_count": 3,
   "id": "fd3f5d7e-815e-475a-8470-7099fa68d8a1",
   "metadata": {},
   "outputs": [
    {
     "name": "stdout",
     "output_type": "stream",
     "text": [
      "2657315169296\n"
     ]
    },
    {
     "data": {
      "text/plain": [
       "'red'"
      ]
     },
     "execution_count": 3,
     "metadata": {},
     "output_type": "execute_result"
    }
   ],
   "source": [
    "car1.get_color()"
   ]
  },
  {
   "cell_type": "code",
   "execution_count": 4,
   "id": "9ecac9d3-7244-44b0-8203-c8ee715f15ec",
   "metadata": {},
   "outputs": [],
   "source": [
    "class Car:\n",
    "    make = \"tata\"\n",
    "    def __init__(self,wheel):\n",
    "        self.wheel = wheel\n",
    "        self.color = \"red\"\n",
    "    def change_color(self, color):\n",
    "        self.color = color\n",
    "    def get_color(self):\n",
    "        print(id(self))\n",
    "        return self.color\n",
    "\n",
    "car1=Car(5)\n",
    "car2= Car(4)\n",
    "car3= Car(2)"
   ]
  },
  {
   "cell_type": "code",
   "execution_count": 5,
   "id": "2d8d8c60-9bbd-4422-ab3c-16c789df0290",
   "metadata": {},
   "outputs": [
    {
     "data": {
      "text/plain": [
       "'tata'"
      ]
     },
     "execution_count": 5,
     "metadata": {},
     "output_type": "execute_result"
    }
   ],
   "source": [
    "car2.make"
   ]
  },
  {
   "cell_type": "code",
   "execution_count": 6,
   "id": "5fcbe347-17b4-4ba1-a673-8af325670e08",
   "metadata": {},
   "outputs": [
    {
     "data": {
      "text/plain": [
       "5"
      ]
     },
     "execution_count": 6,
     "metadata": {},
     "output_type": "execute_result"
    }
   ],
   "source": [
    "car1.wheel"
   ]
  },
  {
   "cell_type": "code",
   "execution_count": null,
   "id": "d3a9c183-2fbb-454c-b3d0-b5fd03430ba3",
   "metadata": {},
   "outputs": [],
   "source": [
    "class Car:\n",
    "    make= \"tata\"\n",
    "    def __init__(self,wheel):\n",
    "        self.wheel = wheel\n",
    "        self.color = \"red\"\n",
    "    def change_color(self, color):\n",
    "        self.color = color\n",
    "    def get_color(self):\n",
    "        print(id(self))\n",
    "        return self.color\n",
    "    # class methods can be acccessed via object references\n",
    "    @classmethod\n",
    "    def change_make(cls, make = \"tata\"):\n",
    "        cls.make = make\n",
    "    @classmethod\n",
    "    def get_make(cls):\n",
    "        return cls.make\n",
    "\n",
    "car1=Car(5)"
   ]
  },
  {
   "cell_type": "code",
   "execution_count": 11,
   "id": "f2270994-b7b6-4e19-93ff-de44c4cd3a1a",
   "metadata": {},
   "outputs": [],
   "source": [
    "car1.make\n",
    "car1.make =\"kunal\""
   ]
  },
  {
   "cell_type": "code",
   "execution_count": 12,
   "id": "20460a5e-f6b4-4013-8936-adebcef311d8",
   "metadata": {},
   "outputs": [
    {
     "ename": "AttributeError",
     "evalue": "'Car' object has no attribute 'change_make'",
     "output_type": "error",
     "traceback": [
      "\u001b[1;31m---------------------------------------------------------------------------\u001b[0m",
      "\u001b[1;31mAttributeError\u001b[0m                            Traceback (most recent call last)",
      "Cell \u001b[1;32mIn[12], line 1\u001b[0m\n\u001b[1;32m----> 1\u001b[0m \u001b[43mcar1\u001b[49m\u001b[38;5;241;43m.\u001b[39;49m\u001b[43mchange_make\u001b[49m(\u001b[38;5;124m\"\u001b[39m\u001b[38;5;124mMaruti\u001b[39m\u001b[38;5;124m\"\u001b[39m)\n",
      "\u001b[1;31mAttributeError\u001b[0m: 'Car' object has no attribute 'change_make'"
     ]
    }
   ],
   "source": [
    "car1.change_make(\"Maruti\")"
   ]
  },
  {
   "cell_type": "code",
   "execution_count": 21,
   "id": "cb786982-6608-41b7-a855-a204b8f48870",
   "metadata": {},
   "outputs": [],
   "source": [
    "class Person:\n",
    "    def __init__(self, firstname, age, phno):\n",
    "        self.firstname = \"\"\n",
    "        self.age= \"\"\n",
    "        self.phno = \"\"\n",
    "    def set_first_name(self, name):\n",
    "        self.name = name\n",
    "        \n",
    "    def set_age(self,age):\n",
    "        self.age= age\n",
    "        \n",
    "    def set_phn_no(self, phn):\n",
    "        self.phno= phn\n",
    "    \n",
    "    def printname(self):\n",
    "        print(self.firstname)\n",
    "class Student(Person):\n",
    "    pass"
   ]
  },
  {
   "cell_type": "code",
   "execution_count": 22,
   "id": "007c2613-146e-4981-a513-805ab3fd0e22",
   "metadata": {},
   "outputs": [
    {
     "ename": "TypeError",
     "evalue": "Person.__init__() missing 3 required positional arguments: 'firstname', 'age', and 'phno'",
     "output_type": "error",
     "traceback": [
      "\u001b[1;31m---------------------------------------------------------------------------\u001b[0m",
      "\u001b[1;31mTypeError\u001b[0m                                 Traceback (most recent call last)",
      "Cell \u001b[1;32mIn[22], line 1\u001b[0m\n\u001b[1;32m----> 1\u001b[0m s1\u001b[38;5;241m=\u001b[39m \u001b[43mStudent\u001b[49m\u001b[43m(\u001b[49m\u001b[43m)\u001b[49m\n",
      "\u001b[1;31mTypeError\u001b[0m: Person.__init__() missing 3 required positional arguments: 'firstname', 'age', and 'phno'"
     ]
    }
   ],
   "source": [
    "s1= Student()"
   ]
  },
  {
   "cell_type": "code",
   "execution_count": 23,
   "id": "765a7f1b-d34b-466a-84e5-240d3608ab01",
   "metadata": {},
   "outputs": [],
   "source": [
    "s1= Student(\"Ram\", 23, 9145678393)"
   ]
  },
  {
   "cell_type": "code",
   "execution_count": 25,
   "id": "18df1ebe-eb86-4b8b-9b55-c1ea2edd5973",
   "metadata": {},
   "outputs": [
    {
     "data": {
      "text/plain": [
       "{'firstname': '', 'age': '', 'phno': ''}"
      ]
     },
     "execution_count": 25,
     "metadata": {},
     "output_type": "execute_result"
    }
   ],
   "source": [
    "s1.__dict__"
   ]
  },
  {
   "cell_type": "code",
   "execution_count": null,
   "id": "b4f7a314-f1bd-4bb5-bb9f-de76e682f1a2",
   "metadata": {},
   "outputs": [],
   "source": [
    "#whatif parent and child both have same method and when we create"
   ]
  },
  {
   "cell_type": "code",
   "execution_count": null,
   "id": "853673b8-7b0e-4252-9c72-277baa2626e9",
   "metadata": {},
   "outputs": [],
   "source": [
    "class Employee:\n",
    "    def __init__(self, fname, empid):\n",
    "        self.fname = fname\n",
    "        self.empid = empid"
   ]
  },
  {
   "cell_type": "code",
   "execution_count": 27,
   "id": "ce4743ad-b6de-4ace-bff8-69aed78bebd1",
   "metadata": {},
   "outputs": [],
   "source": [
    "class Person:\n",
    "    def __init__(self, firstname, age, phno):\n",
    "        print(\"Hey i am constructor of person\")\n",
    "        self.firstname = \"\"\n",
    "        self.age= \"\"\n",
    "        self.phno = \"\"\n",
    "    def set_first_name(self, name):\n",
    "        self.name = name\n",
    "        \n",
    "    def set_age(self,age):\n",
    "        self.age= age\n",
    "        \n",
    "    def set_phn_no(self, phn):\n",
    "        self.phno= phn\n",
    "    \n",
    "    def printname(self):\n",
    "        print(self.firstname)\n",
    "class Student(Person):\n",
    "    def __init__(self):\n",
    "        print(\"Hey I am init of student\")\n"
   ]
  },
  {
   "cell_type": "code",
   "execution_count": 28,
   "id": "1f51344f-08bf-44fc-8af0-31ca4a1d5e0e",
   "metadata": {},
   "outputs": [
    {
     "name": "stdout",
     "output_type": "stream",
     "text": [
      "Hey I am init of student\n"
     ]
    }
   ],
   "source": [
    "s1= Student()"
   ]
  },
  {
   "cell_type": "code",
   "execution_count": 30,
   "id": "8329c4d6-fb61-4211-9147-ab30543955df",
   "metadata": {},
   "outputs": [
    {
     "ename": "AttributeError",
     "evalue": "'Student' object has no attribute 'firstname'",
     "output_type": "error",
     "traceback": [
      "\u001b[1;31m---------------------------------------------------------------------------\u001b[0m",
      "\u001b[1;31mAttributeError\u001b[0m                            Traceback (most recent call last)",
      "Cell \u001b[1;32mIn[30], line 1\u001b[0m\n\u001b[1;32m----> 1\u001b[0m \u001b[43ms1\u001b[49m\u001b[38;5;241;43m.\u001b[39;49m\u001b[43mfirstname\u001b[49m\n",
      "\u001b[1;31mAttributeError\u001b[0m: 'Student' object has no attribute 'firstname'"
     ]
    }
   ],
   "source": [
    "s1.firstname"
   ]
  },
  {
   "cell_type": "code",
   "execution_count": 31,
   "id": "275915b0-3a0f-4b35-b4c1-d01476d2e5f4",
   "metadata": {},
   "outputs": [
    {
     "name": "stdout",
     "output_type": "stream",
     "text": [
      "Hey I am init of student\n",
      "Hey i am constructor of person\n"
     ]
    }
   ],
   "source": [
    "class Person:\n",
    "    def __init__(self, firstname, age, phno):\n",
    "        print(\"Hey i am constructor of person\")\n",
    "        self.firstname = \"\"\n",
    "        self.age= \"\"\n",
    "        self.phno = \"\"\n",
    "    def set_first_name(self, name):\n",
    "        self.name = name\n",
    "        \n",
    "    def set_age(self,age):\n",
    "        self.age= age\n",
    "        \n",
    "    def set_phn_no(self, phn):\n",
    "        self.phno= phn\n",
    "    \n",
    "    def printname(self):\n",
    "        print(self.firstname)\n",
    "class Student(Person):\n",
    "    def __init__(self, fname, age, phno):\n",
    "        print(\"Hey I am init of student\")\n",
    "        super().__init__(fname, age, phno)\n",
    "\n",
    "s1= Student(\"Jaspal\", 26, 9876348332)"
   ]
  },
  {
   "cell_type": "code",
   "execution_count": 34,
   "id": "509a3cf8-a16e-4c68-a38c-081bee664a47",
   "metadata": {},
   "outputs": [
    {
     "name": "stdout",
     "output_type": "stream",
     "text": [
      "Hey I am init of student\n",
      "Hey i am constructor of person\n"
     ]
    }
   ],
   "source": [
    "class Person:\n",
    "    def __init__(self, firstname, age, phno):\n",
    "        print(\"Hey i am constructor of person\")\n",
    "        self.firstname = \"\"\n",
    "        self.age= \"\"\n",
    "        self.phno = \"\"\n",
    "    def set_first_name(self, name):\n",
    "        self.name = name\n",
    "        \n",
    "    def set_age(self,age):\n",
    "        self.age= age\n",
    "        \n",
    "    def set_phn_no(self, phn):\n",
    "        self.phno= phn\n",
    "    \n",
    "    def printname(self):\n",
    "        print(f\"{self.firstname} from parent\")\n",
    "        \n",
    "class Student(Person):\n",
    "    def __init__(self, stid,fname, age, phno):\n",
    "        print(\"Hey I am init of student\")\n",
    "        super().__init__(fname, age, phno)\n",
    "        self.studentid = stid\n",
    "        self.courses = []\n",
    "    def enroll_courses(self, course):\n",
    "        self.courses.append(course)\n",
    "\n",
    "    def printname(self):\n",
    "        print(f\"{self.studentid}, {self.firstname}\")\n",
    "        super(). printname()\n",
    "\n",
    "s1= Student(1234, \"Jaspal\", 26, 9876348332)"
   ]
  },
  {
   "cell_type": "code",
   "execution_count": null,
   "id": "722a6ffc-2150-453e-97f9-3190c3c9bc56",
   "metadata": {},
   "outputs": [],
   "source": [
    "#single inheritence\n",
    "A-->B\n",
    "#multilevel \n",
    "A-->B-->C\n",
    "#hierarchial\n",
    "       A\n",
    "       |\n",
    "/   /  | \\ \\\n",
    "B  C   D E  F\n",
    "\n",
    "\n",
    "#multiple\n",
    "A B\n",
    "| |\n",
    "---\n",
    " |\n",
    " C\n",
    "    \n",
    "#hybrid\n",
    "   A\n",
    "   |\n",
    "--------\n",
    "|       |\n",
    "B       C\n",
    "|       |\n",
    "---------\n",
    "    |\n",
    "    C"
   ]
  },
  {
   "cell_type": "code",
   "execution_count": 37,
   "id": "4c795bb2-0e5a-40d8-9e85-2b2d17ee3186",
   "metadata": {},
   "outputs": [],
   "source": [
    "#multilevel inheritence\n",
    "class A:\n",
    "    def __init__(self):\n",
    "        print(\"I am A\")\n",
    "    def date(self):\n",
    "        print(\"12/28/2024\")\n",
    "class B(A):\n",
    "    def __init__(self):\n",
    "        print(\"I am B\")\n",
    "        super().__init__()\n",
    "class C(B):\n",
    "    def __init__(self):\n",
    "        print(\"I am C\")\n",
    "        super().__init__()"
   ]
  },
  {
   "cell_type": "code",
   "execution_count": 38,
   "id": "c05e13e8-4b64-4ac8-ba14-7bbccb2be8d6",
   "metadata": {},
   "outputs": [
    {
     "name": "stdout",
     "output_type": "stream",
     "text": [
      "I am C\n",
      "I am B\n",
      "I am A\n"
     ]
    }
   ],
   "source": [
    "c=C() "
   ]
  },
  {
   "cell_type": "code",
   "execution_count": 40,
   "id": "72cf79f9-4bbd-4e99-b584-ac3de6227026",
   "metadata": {},
   "outputs": [
    {
     "name": "stdout",
     "output_type": "stream",
     "text": [
      "Help on C in module __main__ object:\n",
      "\n",
      "class C(B)\n",
      " |  Method resolution order:\n",
      " |      C\n",
      " |      B\n",
      " |      A\n",
      " |      builtins.object\n",
      " |  \n",
      " |  Methods defined here:\n",
      " |  \n",
      " |  __init__(self)\n",
      " |      Initialize self.  See help(type(self)) for accurate signature.\n",
      " |  \n",
      " |  ----------------------------------------------------------------------\n",
      " |  Methods inherited from A:\n",
      " |  \n",
      " |  date(self)\n",
      " |  \n",
      " |  ----------------------------------------------------------------------\n",
      " |  Data descriptors inherited from A:\n",
      " |  \n",
      " |  __dict__\n",
      " |      dictionary for instance variables\n",
      " |  \n",
      " |  __weakref__\n",
      " |      list of weak references to the object\n",
      "\n"
     ]
    }
   ],
   "source": [
    "help(c) #method resolution order"
   ]
  },
  {
   "cell_type": "code",
   "execution_count": 41,
   "id": "d74937d4-6b42-44cf-95e1-31c40cb9c906",
   "metadata": {},
   "outputs": [
    {
     "name": "stdout",
     "output_type": "stream",
     "text": [
      "I am A\n"
     ]
    }
   ],
   "source": [
    "class A:\n",
    "    def __init__(self):\n",
    "        print(\"I am A\")\n",
    "class B:\n",
    "    def __init__(self):\n",
    "        print(\"I am B\")\n",
    "class C(A, B):\n",
    "    pass\n",
    "\n",
    "c1=C()"
   ]
  },
  {
   "cell_type": "code",
   "execution_count": 43,
   "id": "69ce4708-b5ec-45c4-9e76-57b9e023847b",
   "metadata": {},
   "outputs": [
    {
     "name": "stdout",
     "output_type": "stream",
     "text": [
      "I am B\n",
      "I am A\n"
     ]
    }
   ],
   "source": [
    "class A:\n",
    "    def __init__(self):\n",
    "        print(\"I am A\")\n",
    "class B:\n",
    "    def __init__(self):\n",
    "        print(\"I am B\")\n",
    "        super().__init__()\n",
    "class C(B, A):\n",
    "    pass\n",
    "\n",
    "c1=C()"
   ]
  },
  {
   "cell_type": "code",
   "execution_count": 44,
   "id": "4cd46ac1-46b6-4f45-9eff-74b8421a5b54",
   "metadata": {},
   "outputs": [
    {
     "name": "stdout",
     "output_type": "stream",
     "text": [
      "Help on C in module __main__ object:\n",
      "\n",
      "class C(B, A)\n",
      " |  Method resolution order:\n",
      " |      C\n",
      " |      B\n",
      " |      A\n",
      " |      builtins.object\n",
      " |  \n",
      " |  Methods inherited from B:\n",
      " |  \n",
      " |  __init__(self)\n",
      " |      Initialize self.  See help(type(self)) for accurate signature.\n",
      " |  \n",
      " |  ----------------------------------------------------------------------\n",
      " |  Data descriptors inherited from B:\n",
      " |  \n",
      " |  __dict__\n",
      " |      dictionary for instance variables\n",
      " |  \n",
      " |  __weakref__\n",
      " |      list of weak references to the object\n",
      "\n"
     ]
    }
   ],
   "source": [
    "help(c1)"
   ]
  },
  {
   "cell_type": "code",
   "execution_count": null,
   "id": "b9e32d69-e91f-4634-a1bb-c490a21fcacd",
   "metadata": {},
   "outputs": [],
   "source": [
    "#file handling"
   ]
  },
  {
   "cell_type": "code",
   "execution_count": 9,
   "id": "a05e7c97-fd50-4650-a88b-64bad4142e6e",
   "metadata": {},
   "outputs": [
    {
     "data": {
      "text/plain": [
       "2.23606797749979"
      ]
     },
     "execution_count": 9,
     "metadata": {},
     "output_type": "execute_result"
    }
   ],
   "source": [
    "# find the root of the square number\n",
    "#x=int(input(\"Enter the number\"))\n",
    "def skrt(x):\n",
    "    return x**0.5\n",
    "skrt(5)"
   ]
  },
  {
   "cell_type": "code",
   "execution_count": 16,
   "id": "ec7485d5-e598-4dc4-b024-5af0b9e328a7",
   "metadata": {},
   "outputs": [],
   "source": [
    "class Solution:\n",
    "\n",
    "    def mysqr(self, x):\n",
    "        start = 1\n",
    "        end = x\n",
    "        result = 0\n",
    "        while start <= end:\n",
    "            mid = start + end - start\n",
    "            if mid * mid == x:\n",
    "                result = mid\n",
    "                return result\n",
    "            if mid * mid > x:\n",
    "                end = mid - 1\n",
    "            else:\n",
    "                result = mid\n",
    "                start = mid + 1\n",
    "        return result\n"
   ]
  },
  {
   "cell_type": "code",
   "execution_count": 17,
   "id": "18733778-9cc7-4e02-a89f-a474d047e311",
   "metadata": {},
   "outputs": [],
   "source": [
    "s1=Solution()"
   ]
  },
  {
   "cell_type": "code",
   "execution_count": 19,
   "id": "f524872c-1ea5-4cd8-bc73-c4a118f44bc7",
   "metadata": {},
   "outputs": [
    {
     "data": {
      "text/plain": [
       "2"
      ]
     },
     "execution_count": 19,
     "metadata": {},
     "output_type": "execute_result"
    }
   ],
   "source": [
    "s1.mysqr(8)"
   ]
  },
  {
   "cell_type": "code",
   "execution_count": 20,
   "id": "5a1f7b2e-aae3-4e15-8140-efaafa28f169",
   "metadata": {},
   "outputs": [
    {
     "ename": "TypeError",
     "evalue": "Solution.mysqr() missing 1 required positional argument: 'x'",
     "output_type": "error",
     "traceback": [
      "\u001b[1;31m---------------------------------------------------------------------------\u001b[0m",
      "\u001b[1;31mTypeError\u001b[0m                                 Traceback (most recent call last)",
      "Cell \u001b[1;32mIn[20], line 1\u001b[0m\n\u001b[1;32m----> 1\u001b[0m \u001b[43mSolution\u001b[49m\u001b[38;5;241;43m.\u001b[39;49m\u001b[43mmysqr\u001b[49m\u001b[43m(\u001b[49m\u001b[38;5;241;43m8\u001b[39;49m\u001b[43m)\u001b[49m\n",
      "\u001b[1;31mTypeError\u001b[0m: Solution.mysqr() missing 1 required positional argument: 'x'"
     ]
    }
   ],
   "source": [
    "Solution.mysqr(8)"
   ]
  },
  {
   "cell_type": "code",
   "execution_count": 62,
   "id": "82ad6d67-57be-47c9-8c39-265c0df7ada1",
   "metadata": {},
   "outputs": [],
   "source": [
    "class A:\n",
    "    def method1(self):\n",
    "        self.attrib1=25\n",
    "        self.__pvt_att=self.attrib1 * 2\n",
    "        print(\"I am public method\")\n",
    "        return self._pvt_method()\n",
    "    def __pvt_method(self):\n",
    "        print(\"I am private method\")\n",
    "        return self.__pvt_att"
   ]
  },
  {
   "cell_type": "code",
   "execution_count": 64,
   "id": "2a8b9d66-cf72-4f15-b3dd-ec60a3a24b56",
   "metadata": {},
   "outputs": [],
   "source": [
    "a1=A()"
   ]
  },
  {
   "cell_type": "code",
   "execution_count": 65,
   "id": "eeb75363-edb9-4429-bc74-974d1fdd05f3",
   "metadata": {},
   "outputs": [
    {
     "name": "stdout",
     "output_type": "stream",
     "text": [
      "I am public method\n"
     ]
    },
    {
     "ename": "AttributeError",
     "evalue": "'A' object has no attribute '_pvt_method'",
     "output_type": "error",
     "traceback": [
      "\u001b[1;31m---------------------------------------------------------------------------\u001b[0m",
      "\u001b[1;31mAttributeError\u001b[0m                            Traceback (most recent call last)",
      "Cell \u001b[1;32mIn[65], line 1\u001b[0m\n\u001b[1;32m----> 1\u001b[0m \u001b[43ma1\u001b[49m\u001b[38;5;241;43m.\u001b[39;49m\u001b[43mmethod1\u001b[49m\u001b[43m(\u001b[49m\u001b[43m)\u001b[49m\n",
      "Cell \u001b[1;32mIn[62], line 6\u001b[0m, in \u001b[0;36mA.method1\u001b[1;34m(self)\u001b[0m\n\u001b[0;32m      4\u001b[0m \u001b[38;5;28mself\u001b[39m\u001b[38;5;241m.\u001b[39m__pvt_att\u001b[38;5;241m=\u001b[39m\u001b[38;5;28mself\u001b[39m\u001b[38;5;241m.\u001b[39mattrib1 \u001b[38;5;241m*\u001b[39m \u001b[38;5;241m2\u001b[39m\n\u001b[0;32m      5\u001b[0m \u001b[38;5;28mprint\u001b[39m(\u001b[38;5;124m\"\u001b[39m\u001b[38;5;124mI am public method\u001b[39m\u001b[38;5;124m\"\u001b[39m)\n\u001b[1;32m----> 6\u001b[0m \u001b[38;5;28;01mreturn\u001b[39;00m \u001b[38;5;28;43mself\u001b[39;49m\u001b[38;5;241;43m.\u001b[39;49m\u001b[43m_pvt_method\u001b[49m()\n",
      "\u001b[1;31mAttributeError\u001b[0m: 'A' object has no attribute '_pvt_method'"
     ]
    }
   ],
   "source": [
    "a1.method1()"
   ]
  },
  {
   "cell_type": "code",
   "execution_count": 67,
   "id": "2d747184-4029-44b1-90af-2dc0ae9fbdc4",
   "metadata": {},
   "outputs": [
    {
     "ename": "AttributeError",
     "evalue": "'A' object has no attribute '__pvt_method'",
     "output_type": "error",
     "traceback": [
      "\u001b[1;31m---------------------------------------------------------------------------\u001b[0m",
      "\u001b[1;31mAttributeError\u001b[0m                            Traceback (most recent call last)",
      "Cell \u001b[1;32mIn[67], line 1\u001b[0m\n\u001b[1;32m----> 1\u001b[0m \u001b[43ma1\u001b[49m\u001b[38;5;241;43m.\u001b[39;49m\u001b[43m__pvt_method\u001b[49m()\n",
      "\u001b[1;31mAttributeError\u001b[0m: 'A' object has no attribute '__pvt_method'"
     ]
    }
   ],
   "source": [
    "a1.__pvt_method()"
   ]
  },
  {
   "cell_type": "code",
   "execution_count": 68,
   "id": "21e46707-9f71-4a32-b74e-75c9822c89a7",
   "metadata": {},
   "outputs": [
    {
     "name": "stdout",
     "output_type": "stream",
     "text": [
      "I am public method\n"
     ]
    },
    {
     "ename": "AttributeError",
     "evalue": "'A' object has no attribute '_pvt_method'",
     "output_type": "error",
     "traceback": [
      "\u001b[1;31m---------------------------------------------------------------------------\u001b[0m",
      "\u001b[1;31mAttributeError\u001b[0m                            Traceback (most recent call last)",
      "Cell \u001b[1;32mIn[68], line 1\u001b[0m\n\u001b[1;32m----> 1\u001b[0m \u001b[43ma1\u001b[49m\u001b[38;5;241;43m.\u001b[39;49m\u001b[43mmethod1\u001b[49m\u001b[43m(\u001b[49m\u001b[43m)\u001b[49m\n",
      "Cell \u001b[1;32mIn[62], line 6\u001b[0m, in \u001b[0;36mA.method1\u001b[1;34m(self)\u001b[0m\n\u001b[0;32m      4\u001b[0m \u001b[38;5;28mself\u001b[39m\u001b[38;5;241m.\u001b[39m__pvt_att\u001b[38;5;241m=\u001b[39m\u001b[38;5;28mself\u001b[39m\u001b[38;5;241m.\u001b[39mattrib1 \u001b[38;5;241m*\u001b[39m \u001b[38;5;241m2\u001b[39m\n\u001b[0;32m      5\u001b[0m \u001b[38;5;28mprint\u001b[39m(\u001b[38;5;124m\"\u001b[39m\u001b[38;5;124mI am public method\u001b[39m\u001b[38;5;124m\"\u001b[39m)\n\u001b[1;32m----> 6\u001b[0m \u001b[38;5;28;01mreturn\u001b[39;00m \u001b[38;5;28;43mself\u001b[39;49m\u001b[38;5;241;43m.\u001b[39;49m\u001b[43m_pvt_method\u001b[49m()\n",
      "\u001b[1;31mAttributeError\u001b[0m: 'A' object has no attribute '_pvt_method'"
     ]
    }
   ],
   "source": [
    "a1.method1()"
   ]
  },
  {
   "cell_type": "code",
   "execution_count": null,
   "id": "182f0781-aa34-4e16-bd73-4e98deafd49d",
   "metadata": {},
   "outputs": [],
   "source": [
    "#file handling\n",
    "# operations we can perfrom on a file\n",
    "reading\n",
    "writing\n",
    "updating\n",
    "deleting\n"
   ]
  },
  {
   "cell_type": "code",
   "execution_count": null,
   "id": "3c57e786-14e2-45be-9dfa-fc9ec9e70e27",
   "metadata": {},
   "outputs": [],
   "source": [
    "open(filename, mode)\n",
    "modes:\n",
    "\"r\" - read mode\n",
    "\"a\" - append mode\n",
    "\"w\" - write mode\n",
    "\"x\" - create mode"
   ]
  },
  {
   "cell_type": "code",
   "execution_count": 76,
   "id": "23a06c29-641e-40af-ba9a-767d5533f111",
   "metadata": {},
   "outputs": [
    {
     "name": "stdout",
     "output_type": "stream",
     "text": [
      "Learning strategies\n",
      "1) wake up early\n",
      "2) revise the formulaes\n",
      "3) get fresh\n",
      "4) ear breakfast\n",
      "5) study maths\n",
      "\n"
     ]
    }
   ],
   "source": [
    "#read mode\n",
    "#default value\n",
    "#It opens the file for reading. It throws filenotfound error if file does not exists.\n",
    "#file pointer is at the beggening of the file\n",
    "fp = open(\"learning.txt\",\"r\")\n",
    "print(fp.read())"
   ]
  },
  {
   "cell_type": "code",
   "execution_count": 71,
   "id": "c62f32ac-7801-42d8-9a03-9de8326fff3e",
   "metadata": {},
   "outputs": [
    {
     "data": {
      "text/plain": [
       "''"
      ]
     },
     "execution_count": 71,
     "metadata": {},
     "output_type": "execute_result"
    }
   ],
   "source": [
    "fp.read()"
   ]
  },
  {
   "cell_type": "code",
   "execution_count": 72,
   "id": "aca72446-8c63-4dec-b754-b5a1ab5b5a1a",
   "metadata": {},
   "outputs": [],
   "source": [
    "fp.close()"
   ]
  },
  {
   "cell_type": "code",
   "execution_count": 74,
   "id": "593cfa73-2d7e-42f7-b8fd-d7a28c1aa912",
   "metadata": {},
   "outputs": [
    {
     "ename": "ValueError",
     "evalue": "I/O operation on closed file.",
     "output_type": "error",
     "traceback": [
      "\u001b[1;31m---------------------------------------------------------------------------\u001b[0m",
      "\u001b[1;31mValueError\u001b[0m                                Traceback (most recent call last)",
      "Cell \u001b[1;32mIn[74], line 2\u001b[0m\n\u001b[0;32m      1\u001b[0m \u001b[38;5;66;03m#seek(to moves the pointer to location) and tell(tells us the location of the pointer)\u001b[39;00m\n\u001b[1;32m----> 2\u001b[0m \u001b[43mfp\u001b[49m\u001b[38;5;241;43m.\u001b[39;49m\u001b[43mread\u001b[49m\u001b[43m(\u001b[49m\u001b[43m)\u001b[49m\n",
      "\u001b[1;31mValueError\u001b[0m: I/O operation on closed file."
     ]
    }
   ],
   "source": [
    "#seek(to moves the pointer to location) and tell(tells us the location of the pointer)\n",
    "\n"
   ]
  },
  {
   "cell_type": "code",
   "execution_count": 77,
   "id": "2566c872-ffb8-47fb-8b67-f7d3b5b789c0",
   "metadata": {},
   "outputs": [
    {
     "data": {
      "text/plain": [
       "''"
      ]
     },
     "execution_count": 77,
     "metadata": {},
     "output_type": "execute_result"
    }
   ],
   "source": [
    "fp.read()"
   ]
  },
  {
   "cell_type": "code",
   "execution_count": 78,
   "id": "c82692cb-ccf4-400e-9428-a19834c8c11f",
   "metadata": {},
   "outputs": [
    {
     "name": "stdout",
     "output_type": "stream",
     "text": [
      "106\n"
     ]
    }
   ],
   "source": [
    "print(fp.tell())"
   ]
  },
  {
   "cell_type": "code",
   "execution_count": 79,
   "id": "8f687f88-999c-48d8-97e5-0f045d7048e7",
   "metadata": {},
   "outputs": [
    {
     "data": {
      "text/plain": [
       "1"
      ]
     },
     "execution_count": 79,
     "metadata": {},
     "output_type": "execute_result"
    }
   ],
   "source": [
    "fp.seek(1)"
   ]
  },
  {
   "cell_type": "code",
   "execution_count": 80,
   "id": "e18c4cbf-5220-486e-95b8-101bfa977b85",
   "metadata": {},
   "outputs": [
    {
     "data": {
      "text/plain": [
       "'earning strategies\\n1) wake up early\\n2) revise the formulaes\\n3) get fresh\\n4) ear breakfast\\n5) study maths\\n'"
      ]
     },
     "execution_count": 80,
     "metadata": {},
     "output_type": "execute_result"
    }
   ],
   "source": [
    "fp.read()"
   ]
  },
  {
   "cell_type": "code",
   "execution_count": 81,
   "id": "1901e692-00cb-47ee-9873-1a846f36209c",
   "metadata": {},
   "outputs": [
    {
     "data": {
      "text/plain": [
       "''"
      ]
     },
     "execution_count": 81,
     "metadata": {},
     "output_type": "execute_result"
    }
   ],
   "source": [
    "fp.readline()\n"
   ]
  },
  {
   "cell_type": "code",
   "execution_count": 82,
   "id": "81ac373e-a893-4419-903d-998fd254d245",
   "metadata": {},
   "outputs": [
    {
     "data": {
      "text/plain": [
       "0"
      ]
     },
     "execution_count": 82,
     "metadata": {},
     "output_type": "execute_result"
    }
   ],
   "source": [
    "fp.seek(0)"
   ]
  },
  {
   "cell_type": "code",
   "execution_count": 83,
   "id": "1f53d016-3ddc-4e93-a6c6-044e185ff8b9",
   "metadata": {},
   "outputs": [
    {
     "data": {
      "text/plain": [
       "['Learning strategies\\n',\n",
       " '1) wake up early\\n',\n",
       " '2) revise the formulaes\\n',\n",
       " '3) get fresh\\n',\n",
       " '4) ear breakfast\\n',\n",
       " '5) study maths\\n']"
      ]
     },
     "execution_count": 83,
     "metadata": {},
     "output_type": "execute_result"
    }
   ],
   "source": [
    "fp.readlines()"
   ]
  },
  {
   "cell_type": "code",
   "execution_count": 84,
   "id": "a0568b4e-ac3a-4294-8aac-d77ca0e83ad1",
   "metadata": {},
   "outputs": [
    {
     "data": {
      "text/plain": [
       "106"
      ]
     },
     "execution_count": 84,
     "metadata": {},
     "output_type": "execute_result"
    }
   ],
   "source": [
    "fp.tell()"
   ]
  },
  {
   "cell_type": "code",
   "execution_count": 85,
   "id": "35fb0678-2ad0-4ff5-a245-acb2bd0761c7",
   "metadata": {},
   "outputs": [
    {
     "data": {
      "text/plain": [
       "<function TextIOWrapper.close()>"
      ]
     },
     "execution_count": 85,
     "metadata": {},
     "output_type": "execute_result"
    }
   ],
   "source": [
    "fp.close"
   ]
  },
  {
   "cell_type": "code",
   "execution_count": 86,
   "id": "90de6523-a925-4704-b725-50d4619f5541",
   "metadata": {},
   "outputs": [
    {
     "name": "stdout",
     "output_type": "stream",
     "text": [
      "Learning strategies\n",
      "\n",
      "1) wake up early\n",
      "\n",
      "2) revise the formulaes\n",
      "\n",
      "3) get fresh\n",
      "\n",
      "4) ear breakfast\n",
      "\n",
      "5) study maths\n",
      "\n"
     ]
    }
   ],
   "source": [
    "with open(\"learning.txt\") as fp:\n",
    "    lines = fp.readlines()\n",
    "for i in lines:\n",
    "    if \":\" not in i:\n",
    "        print(i)"
   ]
  },
  {
   "cell_type": "code",
   "execution_count": 93,
   "id": "9642d9ee-6c7f-466a-82d5-be7e1a577a46",
   "metadata": {},
   "outputs": [
    {
     "name": "stdout",
     "output_type": "stream",
     "text": [
      "LEARNING STRATEGIES\n",
      "\n",
      "1) WAKE UP EARLY\n",
      "\n",
      "2) REVISE THE FORMULAES\n",
      "\n",
      "3) GET FRESH\n",
      "\n",
      "found\n",
      "5) STUDY MATHS\n",
      "\n",
      "\n",
      "\n",
      "\n",
      "\n"
     ]
    }
   ],
   "source": [
    "fp = open(\"learning.txt\")\n",
    "for i in range(10):\n",
    "    line=fp.readline()\n",
    "    if \"breakfast\" in line:\n",
    "        print(\"found\")\n",
    "        fp.close\n",
    "    else:\n",
    "        print(line.upper())\n",
    "        "
   ]
  },
  {
   "cell_type": "code",
   "execution_count": 94,
   "id": "9479cbb0-7280-4ecc-996e-0b5711302e12",
   "metadata": {},
   "outputs": [
    {
     "ename": "AttributeError",
     "evalue": "'_io.TextIOWrapper' object has no attribute 'open'",
     "output_type": "error",
     "traceback": [
      "\u001b[1;31m---------------------------------------------------------------------------\u001b[0m",
      "\u001b[1;31mAttributeError\u001b[0m                            Traceback (most recent call last)",
      "Cell \u001b[1;32mIn[94], line 1\u001b[0m\n\u001b[1;32m----> 1\u001b[0m \u001b[43mfp\u001b[49m\u001b[38;5;241;43m.\u001b[39;49m\u001b[43mopen\u001b[49m(\u001b[38;5;124m\"\u001b[39m\u001b[38;5;124mlearning.txt\u001b[39m\u001b[38;5;124m\"\u001b[39m)\n\u001b[0;32m      2\u001b[0m lines \u001b[38;5;241m=\u001b[39m fp\u001b[38;5;241m.\u001b[39mreadlines()\n\u001b[0;32m      3\u001b[0m lines\u001b[38;5;241m.\u001b[39mappend(\u001b[38;5;124m\"\u001b[39m\u001b[38;5;130;01m\\n\u001b[39;00m\u001b[38;5;124m\"\u001b[39m \u001b[38;5;241m+\u001b[39m \u001b[38;5;124m\"\u001b[39m\u001b[38;5;124mHey I am written from python script\u001b[39m\u001b[38;5;124m\"\u001b[39m)\n",
      "\u001b[1;31mAttributeError\u001b[0m: '_io.TextIOWrapper' object has no attribute 'open'"
     ]
    }
   ],
   "source": [
    "fp.open(\"learning.txt\")\n",
    "lines = fp.readlines()\n",
    "lines.append(\"\\n\" + \"Hey I am written from python script\")\n",
    "fp.writelines(lines)\n",
    "fp.close()"
   ]
  },
  {
   "cell_type": "code",
   "execution_count": null,
   "id": "a686da53-598b-49ac-a602-a08b719952e5",
   "metadata": {},
   "outputs": [],
   "source": [
    "# \"w\" mode:\n",
    "#opens a file for writing and truncates the existing data\n",
    "# the fp is at the start of the file\n",
    "#if file does not exists it create new file"
   ]
  },
  {
   "cell_type": "code",
   "execution_count": 95,
   "id": "b59a2443-44ab-42b3-bfc5-57babc94bf0c",
   "metadata": {},
   "outputs": [],
   "source": [
    "with open(\"advanced_learning.txt\",\"w\") as fp:\n",
    "    fp.write(\"Watch netflix\")"
   ]
  },
  {
   "cell_type": "code",
   "execution_count": 97,
   "id": "b8048a4c-1e2f-4437-aa5c-74b170578e32",
   "metadata": {},
   "outputs": [],
   "source": [
    "fp = open(\"advanced_learning.txt\",\"w\")"
   ]
  },
  {
   "cell_type": "code",
   "execution_count": 98,
   "id": "7dd2d364-7780-49dc-96e5-17b5da0acdd2",
   "metadata": {},
   "outputs": [],
   "source": [
    "fp.writelines(lines)"
   ]
  },
  {
   "cell_type": "code",
   "execution_count": 99,
   "id": "48fea10f-70b9-4ba6-82aa-2337ad789ec3",
   "metadata": {},
   "outputs": [],
   "source": [
    "fp.close()"
   ]
  },
  {
   "cell_type": "code",
   "execution_count": 101,
   "id": "7f24d16b-1d8f-43cf-9ec8-13e78bf15e7d",
   "metadata": {},
   "outputs": [
    {
     "name": "stdout",
     "output_type": "stream",
     "text": [
      "['8) Have some entertainement', '9) cook foold']\n"
     ]
    }
   ],
   "source": [
    "#a --> append mode:\n",
    "# opens the file in append mode\n",
    "# file pointer is at the end of the file\n",
    "# creates a new file if the file is not present\n",
    "\n",
    "fp= open(\"advanced_learning.txt\", \"a\")\n",
    "lines = []\n",
    "lines.append(\"8) Have some entertainement\")\n",
    "lines.append(\"9) cook foold\")\n",
    "print(lines)"
   ]
  },
  {
   "cell_type": "code",
   "execution_count": null,
   "id": "0d7d5462-dae0-496e-8f7a-f011452e71b7",
   "metadata": {},
   "outputs": [],
   "source": [
    "#advance mode\n",
    "1) r+ mode\n",
    "a) opens the file for read and write operation\n",
    "b) it gives filenotfound error if file is not present\n",
    "c) file pointer is at the begining of file\n",
    "2) w+ mode\n",
    "a) open the file for read and write operations\n",
    "b) opening with this mode truncates the existing data of the file\n",
    "c) creates a new file if the file does not exists\n",
    "d) file pointer at the beginning of the file\n",
    "3) a+ mode\n",
    "a) opens the file for read and write operations\n",
    "b) file pointer is at the end of the file\n",
    "c) creates a new file if file is not present."
   ]
  },
  {
   "cell_type": "code",
   "execution_count": null,
   "id": "8fcc5860-0cff-410d-a9a5-f1f54b90533e",
   "metadata": {},
   "outputs": [],
   "source": [
    "#capstone movie booking system\n"
   ]
  }
 ],
 "metadata": {
  "kernelspec": {
   "display_name": "Python 3 (ipykernel)",
   "language": "python",
   "name": "python3"
  },
  "language_info": {
   "codemirror_mode": {
    "name": "ipython",
    "version": 3
   },
   "file_extension": ".py",
   "mimetype": "text/x-python",
   "name": "python",
   "nbconvert_exporter": "python",
   "pygments_lexer": "ipython3",
   "version": "3.11.8"
  }
 },
 "nbformat": 4,
 "nbformat_minor": 5
}
