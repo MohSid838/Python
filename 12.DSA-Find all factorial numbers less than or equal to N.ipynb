{
 "cells": [
  {
   "cell_type": "code",
   "execution_count": 12,
   "id": "2b186c57",
   "metadata": {},
   "outputs": [
    {
     "name": "stdout",
     "output_type": "stream",
     "text": [
      "[1, 2, 6, 24]\n"
     ]
    }
   ],
   "source": [
    "class Solution:\n",
    "    def factorialnumber(N):\n",
    "        ans=[]\n",
    "        fact=1\n",
    "        i=1\n",
    "        while fact<=N:\n",
    "            ans.append(fact)\n",
    "            i+=1\n",
    "            fact*=i\n",
    "        return ans\n",
    "print(Solution.factorialnumber(100))\n"
   ]
  }
 ],
 "metadata": {
  "kernelspec": {
   "display_name": "Python 3",
   "language": "python",
   "name": "python3"
  },
  "language_info": {
   "codemirror_mode": {
    "name": "ipython",
    "version": 3
   },
   "file_extension": ".py",
   "mimetype": "text/x-python",
   "name": "python",
   "nbconvert_exporter": "python",
   "pygments_lexer": "ipython3",
   "version": "3.11.8"
  }
 },
 "nbformat": 4,
 "nbformat_minor": 5
}
