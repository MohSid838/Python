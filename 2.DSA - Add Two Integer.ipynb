{
 "cells": [
  {
   "cell_type": "markdown",
   "id": "063638c4-3255-4190-8ac0-cbd0d12003a7",
   "metadata": {},
   "source": [
    "Given two integers num1 and num2, return the sum of the two integers."
   ]
  },
  {
   "cell_type": "code",
   "execution_count": 6,
   "id": "b2c3115d-455d-4f24-b383-522d374235f9",
   "metadata": {},
   "outputs": [
    {
     "name": "stdout",
     "output_type": "stream",
     "text": [
      "6912\n",
      "Naive Time Taken: 0.0\n"
     ]
    }
   ],
   "source": [
    "#Naive Method -Iterative using Bitwise Operators\n",
    "import time\n",
    "def add_naive(num1, num2):\n",
    "    while num2 != 0:\n",
    "        carry = num1 & num2\n",
    "        num1 = num1 ^ num2\n",
    "        num2 = carry << 1\n",
    "    return num1\n",
    "start = time.time()\n",
    "print(add_naive(1234, 5678))\n",
    "end = time.time()\n",
    "\n",
    "print(\"Naive Time Taken:\", end - start)"
   ]
  },
  {
   "cell_type": "markdown",
   "id": "255d1449-2c95-4b7c-91ca-117e317183f0",
   "metadata": {},
   "source": [
    "\n",
    "🧠 Time Complexity\n",
    "\n",
    "Each loop iteration reduces the carry bit size by at least 1.\n",
    "\n",
    "In the worst case, this continues until all carry bits are resolved.\n",
    "\n",
    "So, it runs in O(log N) time, where N = max(num1, num2) (bit-length of the larger number).\n",
    "\n",
    "📦 Space Complexity\n",
    "\n",
    "Space complexity is O(1) because it uses a constant amount of extra space.\n",
    "\n"
   ]
  },
  {
   "cell_type": "code",
   "execution_count": 7,
   "id": "68669901-902a-4665-ad13-8328eba522ba",
   "metadata": {},
   "outputs": [
    {
     "name": "stdout",
     "output_type": "stream",
     "text": [
      "6912\n",
      "Optimal Time Taken: 0.0\n"
     ]
    }
   ],
   "source": [
    "#Optimal approach -Recursive using Bitwise Operators\n",
    "import time\n",
    "def add_optimal(num1, num2):\n",
    "    if num2 == 0:\n",
    "        return num1\n",
    "    return add_optimal(num1 ^ num2, (num1 & num2) << 1)\n",
    "start = time.time()\n",
    "print(add_optimal(1234, 5678))  # Output: 6912\n",
    "end = time.time()\n",
    "\n",
    "print(\"Optimal Time Taken:\", end - start)"
   ]
  },
  {
   "cell_type": "markdown",
   "id": "b98dc10f-a4c0-4cd2-a350-449db02b20b7",
   "metadata": {},
   "source": [
    "🧠 Time Complexity\n",
    "Each recursive call reduces the carry bit size similar to the loop approach.\n",
    "\n",
    "So, time complexity is also O(log N), where N = max(num1, num2).\n",
    "\n",
    "📦 Space Complexity\n",
    "Since it uses recursion, it consumes O(log N) space on the call stack."
   ]
  },
  {
   "cell_type": "markdown",
   "id": "954eb3d9-f767-44f4-a1a2-47d144cdf6b1",
   "metadata": {},
   "source": [
    "🤔 What does bitwise XOR (^) do?\n",
    "The XOR (exclusive OR) operation compares two bits:\n",
    "\n",
    "Bit A\tBit B\tA ^ B (XOR)\n",
    "0\t0\t0\n",
    "0\t1\t1\n",
    "1\t0\t1\n",
    "1\t1\t0\n",
    "\n",
    "👉 In simple terms:\n",
    "\n",
    "If the bits are different, XOR returns 1.\n",
    "\n",
    "If the bits are the same, XOR returns 0.\n",
    "\n",
    "🧠 How is XOR useful in addition?\n",
    "When adding two binary numbers, XOR gives the sum without carry.\n",
    "\n",
    "Example:\n",
    "\n",
    "markdown\n",
    "Copy\n",
    "Edit\n",
    "   1 0 1 1   (num1 = 11)\n",
    "^  0 1 1 0   (num2 = 6)\n",
    "-----------\n",
    "   1 1 0 1   (result = 13) — but this doesn’t include carry bits!\n",
    "So we need to handle carry separately, which is where the next steps come in.\n",
    "\n",
    "🔍 Explanation of These Three Steps:\n",
    "python\n",
    "Copy\n",
    "Edit\n",
    "carry = num1 & num2\n",
    "num1 = num1 ^ num2\n",
    "num2 = carry << 1\n",
    "Let’s take an example:\n",
    "num1 = 11 (0b1011) and num2 = 6 (0b0110)\n",
    "\n",
    "✅ Step 1: carry = num1 & num2\n",
    "This finds all the positions where both bits are 1 — these are positions where a carry will occur.\n",
    "\n",
    "yaml\n",
    "Copy\n",
    "Edit\n",
    "  1011  (11)\n",
    "& 0110  (6)\n",
    "= 0010  (2)\n",
    "→ So carry is 2 (0b0010)\n",
    "\n",
    "✅ Step 2: num1 = num1 ^ num2\n",
    "This performs XOR, giving the sum without carry.\n",
    "\n",
    "yaml\n",
    "Copy\n",
    "Edit\n",
    "  1011  (11)\n",
    "^ 0110  (6)\n",
    "= 1101  (13)\n",
    "→ Temporary sum (without carry): 13 (0b1101)\n",
    "\n",
    "✅ Step 3: num2 = carry << 1\n",
    "Now shift the carry left by 1 bit to apply it to the correct position in the next addition.\n",
    "\n",
    "yaml\n",
    "Copy\n",
    "Edit\n",
    "carry = 0010\n",
    "carry << 1 = 0100 = 4\n",
    "→ Updated num2 = 4, which means the carry will be added in the next iteration.\n",
    "\n",
    "🔁 Repeat:\n",
    "Now loop again with:\n",
    "\n",
    "ini\n",
    "Copy\n",
    "Edit\n",
    "num1 = 13\n",
    "num2 = 4\n",
    "And do the same steps again, until carry (num2) becomes 0.\n",
    "\n",
    "✅ Final Result\n",
    "After a few iterations:\n",
    "\n",
    "makefile\n",
    "Copy\n",
    "Edit\n",
    "num1: 17\n",
    "num2: 0\n",
    "So the result is 17 → which is 11 + 6.\n",
    "\n",
    "🧠 Analogy:\n",
    "Think of it like adding digits in school:\n",
    "\n",
    "XOR is like adding without carrying over.\n",
    "\n",
    "AND finds where a carry is needed.\n",
    "\n",
    "Left shift (<<) moves that carry to the correct position for the next digit."
   ]
  }
 ],
 "metadata": {
  "kernelspec": {
   "display_name": "Python 3 (ipykernel)",
   "language": "python",
   "name": "python3"
  },
  "language_info": {
   "codemirror_mode": {
    "name": "ipython",
    "version": 3
   },
   "file_extension": ".py",
   "mimetype": "text/x-python",
   "name": "python",
   "nbconvert_exporter": "python",
   "pygments_lexer": "ipython3",
   "version": "3.11.8"
  }
 },
 "nbformat": 4,
 "nbformat_minor": 5
}
