{
 "cells": [
  {
   "cell_type": "code",
   "execution_count": 9,
   "id": "42992e13",
   "metadata": {},
   "outputs": [
    {
     "name": "stdout",
     "output_type": "stream",
     "text": [
      "1200\n"
     ]
    }
   ],
   "source": [
    "class Solution:\n",
    "    def gcd(a,b):\n",
    "        if b==0:\n",
    "            return a\n",
    "        return Solution.gcd(b,b%a)\n",
    "    def lcm(a,b):\n",
    "        return (a*b)//Solution.gcd(a,b)\n",
    "    def findvalue(x,y,z):\n",
    "        return Solution.gcd(Solution.lcm(x,y),Solution.lcm(x,z))\n",
    "\n",
    "print(Solution.findvalue(30,40,400))"
   ]
  }
 ],
 "metadata": {
  "kernelspec": {
   "display_name": "Python 3",
   "language": "python",
   "name": "python3"
  },
  "language_info": {
   "codemirror_mode": {
    "name": "ipython",
    "version": 3
   },
   "file_extension": ".py",
   "mimetype": "text/x-python",
   "name": "python",
   "nbconvert_exporter": "python",
   "pygments_lexer": "ipython3",
   "version": "3.11.8"
  }
 },
 "nbformat": 4,
 "nbformat_minor": 5
}
