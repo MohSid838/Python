{
 "cells": [
  {
   "cell_type": "markdown",
   "id": "20fe22ae",
   "metadata": {},
   "source": [
    "Count Days Spent Together\n",
    "\n",
    "Question Link\n",
    "\n",
    "\n",
    "Problem Statement :\n",
    "\n",
    "Alice and Bob are traveling to Rome for separate business meetings.\n",
    "You are given 4 strings arriveAlice, leaveAlice, arriveBob, and leaveBob. Alice will be in the city from the dates arriveAlice to leaveAlice (inclusive), while Bob will be in the city from the dates arriveBob to leaveBob (inclusive). Each will be a 5-character string in the format \"MM-DD\", corresponding to the month and day of the date.\n",
    "Return the total number of days that Alice and Bob are in Rome together.\n",
    "You can assume that all dates occur in the same calendar year, which is not a leap year. Note that the number of days per month can be represented as: [31, 28, 31, 30, 31, 30, 31, 31, 30, 31, 30, 31].\n",
    "\n",
    "\n",
    "Examples:\n",
    " \n",
    "\n",
    "Example 1:\n",
    "\n",
    "Input: arriveAlice = \"08-15\", leaveAlice = \"08-18\", arriveBob = \"08-16\", leaveBob = \"08-19\"\n",
    "Output: 3\n",
    "Explanation: Alice will be in Rome from August 15 to August 18. Bob will be in Rome from August 16 to August 19. They are both in Rome together on August 16th, 17th, and 18th, so the answer is 3.\n",
    "\n",
    "Example 2:\n",
    "Input: arriveAlice = \"10-01\", leaveAlice = \"10-31\", arriveBob = \"11-01\", leaveBob = \"12-31\"\n",
    "Output: 0\n",
    "Explanation: There is no day when Alice and Bob are in Rome together, so we return 0."
   ]
  },
  {
   "cell_type": "code",
   "execution_count": 7,
   "id": "f489cee0",
   "metadata": {},
   "outputs": [
    {
     "name": "stdout",
     "output_type": "stream",
     "text": [
      "3\n",
      "0\n"
     ]
    }
   ],
   "source": [
    "class Solution:\n",
    "    daysOfMonth = [31, 28, 31, 30, 31, 30, 31, 31, 30, 31, 30, 31]\n",
    "    def getDays(self,s:str)->int:\n",
    "        total=0\n",
    "        month=int(s[:2])\n",
    "        days=int(s[3:])\n",
    "        for i in range(month-1):\n",
    "            total +=self.daysOfMonth[i]\n",
    "        total+=days\n",
    "        return total\n",
    "    def countDaysTogether(self, arriveAlice: str, leaveAlice: str, arriveBob: str, leaveBob: str) -> int:\n",
    "       x1=self.getDays(arriveAlice)\n",
    "       y1=self.getDays(leaveAlice)\n",
    "       x2=self.getDays(arriveBob)\n",
    "       y2=self.getDays(leaveBob)\n",
    "       if y1 < x2 or y2 < x1:\n",
    "            return 0\n",
    "       return abs(max(x1,x2)-min(y1,y2))+1\n",
    "print(Solution().countDaysTogether(\"08-15\",\"08-18\",\"08-16\",\"08-19\"))\n",
    "print(Solution().countDaysTogether(\"10-01\",\"10-31\",\"11-01\",\"12-31\"))"
   ]
  }
 ],
 "metadata": {
  "kernelspec": {
   "display_name": "Python 3",
   "language": "python",
   "name": "python3"
  },
  "language_info": {
   "codemirror_mode": {
    "name": "ipython",
    "version": 3
   },
   "file_extension": ".py",
   "mimetype": "text/x-python",
   "name": "python",
   "nbconvert_exporter": "python",
   "pygments_lexer": "ipython3",
   "version": "3.11.8"
  }
 },
 "nbformat": 4,
 "nbformat_minor": 5
}
