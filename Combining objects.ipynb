{
 "cells": [
  {
   "cell_type": "code",
   "execution_count": 1,
   "id": "ff8b01d7",
   "metadata": {},
   "outputs": [
    {
     "name": "stdout",
     "output_type": "stream",
     "text": [
      "[('B', 45), ('C', 39), ('S', 44)]\n"
     ]
    }
   ],
   "source": [
    "names=['B','C','S']\n",
    "hps=[45,39,44]\n",
    "combined=[]\n",
    "for i, pokemon in enumerate(names):\n",
    "    combined.append((pokemon,hps[i]))\n",
    "print(combined)"
   ]
  },
  {
   "cell_type": "code",
   "execution_count": 3,
   "id": "020982bf",
   "metadata": {},
   "outputs": [
    {
     "name": "stdout",
     "output_type": "stream",
     "text": [
      "<class 'zip'>\n",
      "<zip object at 0x000002520CC9E380>\n",
      "[('B', 45), ('C', 39), ('S', 44)]\n"
     ]
    }
   ],
   "source": [
    "combined_zip=zip(names,hps)\n",
    "print(type(combined_zip))\n",
    "combined_zip_list=[*combined_zip]\n",
    "print(combined_zip)\n",
    "print(combined_zip_list)"
   ]
  },
  {
   "cell_type": "code",
   "execution_count": 10,
   "id": "07839578",
   "metadata": {},
   "outputs": [
    {
     "name": "stdout",
     "output_type": "stream",
     "text": [
      "[('Bug', 'Fire'), ('Bug', 'Ghost'), ('Bug', 'Grass'), ('Bug', 'Water'), ('Fire', 'Ghost'), ('Fire', 'Grass'), ('Fire', 'Water'), ('Ghost', 'Grass'), ('Ghost', 'Water'), ('Grass', 'Water')]\n",
      "Execution Time: 0.09157395362854004 seconds\n",
      "Current memory usage: 0.002760 MB\n",
      "Peak memory usage: 0.019476 MB\n"
     ]
    }
   ],
   "source": [
    "import time\n",
    "import tracemalloc\n",
    "#combinations with loops\n",
    "poke_types=['Bug','Fire','Ghost','Grass','Water']\n",
    "start = time.time()\n",
    "tracemalloc.start()\n",
    "combos=[]\n",
    "for x in poke_types:\n",
    "    for y in poke_types:\n",
    "        if x==y:\n",
    "            continue\n",
    "        if ((x,y) not in combos) & ((y,x) not in combos):\n",
    "            combos.append((x,y))\n",
    "print(combos)\n",
    "end = time.time()\n",
    "current, peak = tracemalloc.get_traced_memory()\n",
    "tracemalloc.stop()\n",
    "print(\"Execution Time:\", end - start, \"seconds\")\n",
    "print(f\"Current memory usage: {current / 10**6:.6f} MB\")\n",
    "print(f\"Peak memory usage: {peak / 10**6:.6f} MB\")"
   ]
  },
  {
   "cell_type": "code",
   "execution_count": 11,
   "id": "0ed49a20",
   "metadata": {},
   "outputs": [
    {
     "name": "stdout",
     "output_type": "stream",
     "text": [
      "[('Bug', 'Fire'), ('Bug', 'Ghost'), ('Bug', 'Grass'), ('Bug', 'Water'), ('Fire', 'Ghost'), ('Fire', 'Grass'), ('Fire', 'Water'), ('Ghost', 'Grass'), ('Ghost', 'Water'), ('Grass', 'Water')]\n",
      "Execution Time: 0.007997989654541016 seconds\n",
      "Current memory usage: 0.002982 MB\n",
      "Peak memory usage: 0.013996 MB\n"
     ]
    }
   ],
   "source": [
    "#using iter tools\n",
    "from itertools import combinations\n",
    "start = time.time()\n",
    "tracemalloc.start()\n",
    "combos_obj=combinations(poke_types,2)\n",
    "#print(type(combos_obj))\n",
    "#print(combos_obj)\n",
    "combos=[*combos_obj]\n",
    "print(combos)\n",
    "end = time.time()\n",
    "current, peak = tracemalloc.get_traced_memory()\n",
    "tracemalloc.stop()\n",
    "print(\"Execution Time:\", end - start, \"seconds\")\n",
    "print(f\"Current memory usage: {current / 10**6:.6f} MB\")\n",
    "print(f\"Peak memory usage: {peak / 10**6:.6f} MB\")"
   ]
  }
 ],
 "metadata": {
  "kernelspec": {
   "display_name": "Python 3",
   "language": "python",
   "name": "python3"
  },
  "language_info": {
   "codemirror_mode": {
    "name": "ipython",
    "version": 3
   },
   "file_extension": ".py",
   "mimetype": "text/x-python",
   "name": "python",
   "nbconvert_exporter": "python",
   "pygments_lexer": "ipython3",
   "version": "3.11.8"
  }
 },
 "nbformat": 4,
 "nbformat_minor": 5
}
