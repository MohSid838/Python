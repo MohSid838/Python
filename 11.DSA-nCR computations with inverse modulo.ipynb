{
 "cells": [
  {
   "cell_type": "code",
   "execution_count": 1,
   "id": "ed2eb626",
   "metadata": {},
   "outputs": [
    {
     "name": "stdout",
     "output_type": "stream",
     "text": [
      "3\n"
     ]
    }
   ],
   "source": [
    "#Step 1: Factorials Mod m\n",
    "def compute_factorials(n, mod):\n",
    "    factorials = [1] * (n + 1)\n",
    "    for i in range(2, n + 1):\n",
    "        factorials[i] = factorials[i - 1] * i % mod\n",
    "    return factorials\n",
    "\n",
    "#Step 2: Modular Inverse (Fermat’s Theorem, if mod is prime)\n",
    "def mod_inverse(a, mod):\n",
    "    return pow(a, mod - 2, mod)  # Fermat's theorem\n",
    "\n",
    "#Step 3: Compute nCr mod m\n",
    "def nCr_mod(n, r, mod):\n",
    "    if r > n:\n",
    "        return 0\n",
    "    fact = compute_factorials(n, mod)\n",
    "    return (fact[n] * mod_inverse(fact[r], mod) % mod *\n",
    "            mod_inverse(fact[n-r], mod) % mod)\n",
    "\n",
    "# Example\n",
    "print(nCr_mod(10, 3, 13))  # Output: 10"
   ]
  }
 ],
 "metadata": {
  "kernelspec": {
   "display_name": "Python 3",
   "language": "python",
   "name": "python3"
  },
  "language_info": {
   "codemirror_mode": {
    "name": "ipython",
    "version": 3
   },
   "file_extension": ".py",
   "mimetype": "text/x-python",
   "name": "python",
   "nbconvert_exporter": "python",
   "pygments_lexer": "ipython3",
   "version": "3.11.8"
  }
 },
 "nbformat": 4,
 "nbformat_minor": 5
}
