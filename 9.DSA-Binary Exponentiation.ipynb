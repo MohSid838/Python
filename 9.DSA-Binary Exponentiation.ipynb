{
 "cells": [
  {
   "cell_type": "code",
   "execution_count": null,
   "id": "0b3bcc4c",
   "metadata": {},
   "outputs": [
    {
     "name": "stdout",
     "output_type": "stream",
     "text": [
      "256\n"
     ]
    }
   ],
   "source": [
    "def binary_recursive(a,b):\n",
    "    # base case\n",
    "    if b == 0:\n",
    "        return 1\n",
    "    if b%2==1:\n",
    "        return a*binary_recursive(a,b-1)\n",
    "\n",
    "    half=binary_recursive(a,b//2)\n",
    "    return half*half\n",
    "print(binary_recursive(2,8))\n"
   ]
  }
 ],
 "metadata": {
  "kernelspec": {
   "display_name": "Python 3",
   "language": "python",
   "name": "python3"
  },
  "language_info": {
   "codemirror_mode": {
    "name": "ipython",
    "version": 3
   },
   "file_extension": ".py",
   "mimetype": "text/x-python",
   "name": "python",
   "nbconvert_exporter": "python",
   "pygments_lexer": "ipython3",
   "version": "3.11.8"
  }
 },
 "nbformat": 4,
 "nbformat_minor": 5
}
