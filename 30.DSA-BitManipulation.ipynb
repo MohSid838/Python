{
 "cells": [
  {
   "cell_type": "markdown",
   "id": "8432bac4",
   "metadata": {},
   "source": [
    "Single Number\n",
    "\n",
    "Question Link\n",
    "\n",
    "\n",
    "Problem Statement :\n",
    "\n",
    "Given a non-empty array of integers nums, every element appears twice except for one. Find that single one.\n",
    "You must implement a solution with a linear runtime complexity and use only constant extra space.\n",
    "\n",
    "\n",
    "Examples:\n",
    "\n",
    "Example 1:\n",
    "\n",
    "Input: nums = [2,2,1]\n",
    "Output: 1\n",
    " \n",
    "\n",
    "Example 2:\n",
    "\n",
    "Input: nums = [4,1,2,1,2]\n",
    "Output: 4"
   ]
  },
  {
   "cell_type": "code",
   "execution_count": 40,
   "id": "164239ff",
   "metadata": {},
   "outputs": [
    {
     "name": "stdout",
     "output_type": "stream",
     "text": [
      "4\n",
      "1\n"
     ]
    }
   ],
   "source": [
    "class Solution:\n",
    "    def singleNumber(self,x:List[int])->int:\n",
    "        xor=0\n",
    "        for num in x:\n",
    "            xor ^=num\n",
    "        return xor\n",
    "print(Solution().singleNumber([4,1,2,1,2]))\n",
    "print(Solution().singleNumber([2,2,1]))"
   ]
  },
  {
   "cell_type": "markdown",
   "id": "8b510cf2",
   "metadata": {},
   "source": [
    "XOR Operation in an Array\n",
    "\n",
    "Question Link\n",
    " \n",
    "\n",
    "Problem Statement :\n",
    "\n",
    "You are given an integer n and an integer start.\n",
    "Define an array nums where nums[i] = start + 2 * i (0-indexed) and n == nums.length.\n",
    "Return the bitwise XOR of all elements of nums\n",
    "\n",
    "\n",
    "Examples:\n",
    " \n",
    "\n",
    "Example 1:\n",
    "\n",
    "Input: n = 5, start = 0\n",
    "Output: 8\n",
    "Explanation: Array nums is equal to [0, 2, 4, 6, 8] where (0 ^ 2 ^ 4 ^ 6 ^ 8) = 8.\n",
    "Where \"^\" corresponds to bitwise XOR operator\n",
    " \n",
    "\n",
    "Example 2:\n",
    "\n",
    "Input: n = 4, start = 3\n",
    "Output: 8\n",
    "Explanation: Array nums is equal to [3, 5, 7, 9] where (3 ^ 5 ^ 7 ^ 9) = 8."
   ]
  },
  {
   "cell_type": "code",
   "execution_count": 47,
   "id": "1307e88c",
   "metadata": {},
   "outputs": [
    {
     "name": "stdout",
     "output_type": "stream",
     "text": [
      "8\n"
     ]
    }
   ],
   "source": [
    "class Solution:\n",
    "    def xorinarray(self,n:int,start:int):\n",
    "        nums=[start + 2*i for i in range(n)]\n",
    "        xor_sum=nums[0]\n",
    "        for i in range(1,n):\n",
    "            xor_sum ^=nums[i]\n",
    "        return xor_sum\n",
    "print(Solution().xorinarray(5,0))"
   ]
  },
  {
   "cell_type": "markdown",
   "id": "293dc5ab",
   "metadata": {},
   "source": [
    "Sum of All Subset XOR Totals"
   ]
  },
  {
   "cell_type": "code",
   "execution_count": 8,
   "id": "173343a7",
   "metadata": {},
   "outputs": [
    {
     "name": "stdout",
     "output_type": "stream",
     "text": [
      "6\n",
      "28\n"
     ]
    }
   ],
   "source": [
    "from typing import List\n",
    "class Solution:\n",
    "    def subsetXorsum(self,nums:List[int])->int:\n",
    "        self.sum=0\n",
    "        return self.getAns(nums,0,0)\n",
    "    def getAns(self,arr,i,cur):\n",
    "        if i==len(arr):\n",
    "            return cur\n",
    "        return self.getAns(arr,i+1,cur^arr[i]) + self.getAns(arr,i+1,cur)\n",
    "print(Solution().subsetXorsum([1,3]))\n",
    "print(Solution().subsetXorsum([5,1,6]))"
   ]
  },
  {
   "cell_type": "markdown",
   "id": "71c1522d",
   "metadata": {},
   "source": [
    "Convert a Number to Hexadecimal\n",
    " \n",
    "\n",
    "Question Link\n",
    "\n",
    "Problem Statement :\n",
    "\n",
    "Given an integer num, return a string representing its hexadecimal representation. For negative integers, two’s complement method is used.\n",
    "All the letters in the answer string should be lowercase characters, and there should not be any leading zeros in the answer except for the zero itself.\n",
    "\n",
    "Note: You are not allowed to use any built-in library method to directly solve this problem.\n",
    "\n",
    "\n",
    "Examples:\n",
    "\n",
    "Example 1:\n",
    "\n",
    "Input: num = 26\n",
    "Output: \"1a\"\n",
    "\n",
    "Example 2:\n",
    "Input: num = -1\n",
    "Output: \"ffffffff\"."
   ]
  },
  {
   "cell_type": "code",
   "execution_count": 19,
   "id": "177bdadf",
   "metadata": {},
   "outputs": [
    {
     "name": "stdout",
     "output_type": "stream",
     "text": [
      "1a\n",
      "ffffffff\n"
     ]
    }
   ],
   "source": [
    "class solution:\n",
    "    def toHex(self,num:int)->str:\n",
    "        if num==0:\n",
    "            return \"0\"\n",
    "        val=num\n",
    "        if num<0:\n",
    "            val=num+2**32\n",
    "        res=''\n",
    "        while val!=0:\n",
    "            reminder=val-((val//16)*16)\n",
    "            val=val//16\n",
    "            if reminder>=10:\n",
    "                res+=chr(reminder+87)\n",
    "            else:\n",
    "                res+=str(reminder)\n",
    "        return res[::-1]\n",
    "print(solution().toHex(26))\n",
    "print(solution().toHex(-1))\n",
    "           "
   ]
  },
  {
   "cell_type": "markdown",
   "id": "f51e324e",
   "metadata": {},
   "source": [
    "Prime Number of Set Bits in Binary Representation\n",
    "\n",
    "Question Link\n",
    "\n",
    "\n",
    "Problem Statement :\n",
    "\n",
    "Given two integers left and right, return the count of numbers in the inclusive range [left, right] having a prime number of set bits in their binary representation.\n",
    "Recall that the number of set bits an integer has is the number of 1's present when written in binary.\n",
    "For example, 21 written in binary is 10101, which has 3 set bits.\n",
    "\n",
    "\n",
    "Examples:\n",
    "\n",
    "Example 1:\n",
    "\n",
    "Input: left = 6, right = 10\n",
    "Output: 4\n",
    "Explanation:\n",
    "6  -> 110 (2 set bits, 2 is prime)\n",
    "7  -> 111 (3 set bits, 3 is prime)\n",
    "8  -> 1000 (1 set bit, 1 is not prime)\n",
    "9  -> 1001 (2 set bits, 2 is prime)\n",
    "10 -> 1010 (2 set bits, 2 is prime)\n",
    "4 numbers have a prime number of set bits.\n",
    " \n",
    "\n",
    "Example 2:\n",
    "\n",
    "Input: left = 10, right = 15\n",
    "Output: 5\n",
    "Explanation:\n",
    "10 -> 1010 (2 set bits, 2 is prime)\n",
    "11 -> 1011 (3 set bits, 3 is prime)\n",
    "12 -> 1100 (2 set bits, 2 is prime)\n",
    "13 -> 1101 (3 set bits, 3 is prime)\n",
    "14 -> 1110 (3 set bits, 3 is prime)\n",
    "15 -> 1111 (4 set bits, 4 is not prime)\n",
    "5 numbers have a prime number of set bits."
   ]
  },
  {
   "cell_type": "code",
   "execution_count": null,
   "id": "6d9a921b",
   "metadata": {},
   "outputs": [
    {
     "name": "stdout",
     "output_type": "stream",
     "text": [
      "4\n",
      "5\n"
     ]
    }
   ],
   "source": [
    "class Solution:\n",
    "    def isPrime(self,num:int) -> bool:\n",
    "        if num==1 or num==0:\n",
    "            return False\n",
    "        for i in range(2,int(num**0.5)+1):\n",
    "            if num%i==0:\n",
    "                return False\n",
    "        return True\n",
    "    def countPrimeSetBits(self,left:int , right:int)-> int:\n",
    "        ans=0\n",
    "        for i in range(left,right+1):\n",
    "            num=i\n",
    "            count=0\n",
    "            while num>0:\n",
    "                bit=num%2\n",
    "                if bit==1:\n",
    "                    count +=1\n",
    "                num=num//2\n",
    "            if self.isPrime(count):\n",
    "                ans+=1\n",
    "        return ans\n",
    "print(Solution().countPrimeSetBits(6,10))\n",
    "print(Solution().countPrimeSetBits(10,15))"
   ]
  },
  {
   "cell_type": "markdown",
   "id": "2e6ac27f",
   "metadata": {},
   "source": [
    "Maximum XOR of Two Numbers in an Array\n",
    "\n",
    "Question Link\n",
    "\n",
    "\n",
    "Problem Statement :\n",
    "\n",
    "Given an integer array nums, return the maximum result of nums[i] XOR nums[j], where 0<=i <=j <n.\n",
    "\n",
    "\n",
    "Examples:\n",
    "\n",
    "Example 1:\n",
    "\n",
    "Input: nums = [3,10,5,25,2,8]\n",
    "Output: 28\n",
    "Explanation: The maximum result is 5 XOR 25 = 28..\n",
    "\n",
    "Example 2:\n",
    "Input: nums = [14,70,53,83,49,91,36,80,92,51,66,70]\n",
    "Output: 127."
   ]
  },
  {
   "cell_type": "code",
   "execution_count": 27,
   "id": "fabd7172",
   "metadata": {},
   "outputs": [
    {
     "name": "stdout",
     "output_type": "stream",
     "text": [
      "28\n"
     ]
    }
   ],
   "source": [
    "class Solution:\n",
    "    class TrieNode:\n",
    "        def __init__(self):\n",
    "            self.left = None\n",
    "            self.right = None\n",
    "    \n",
    "    def insert(self, root, num):\n",
    "        curr = root\n",
    "        \n",
    "        for i in range(31, -1, -1):\n",
    "            bit = (num >> i) & 1\n",
    "            if bit == 0:\n",
    "                if curr.left is None:\n",
    "                    curr.left = self.TrieNode()\n",
    "                curr = curr.left\n",
    "            else:\n",
    "                if curr.right is None:\n",
    "                    curr.right = self.TrieNode()\n",
    "                curr = curr.right\n",
    "    \n",
    "    def getMaxXor(self, root, num):\n",
    "        curr = root\n",
    "        maxXor = 0\n",
    "        \n",
    "        for i in range(31, -1, -1):\n",
    "            bit = (num >> i) & 1\n",
    "            if bit == 0:\n",
    "                if curr.right:\n",
    "                    curr = curr.right\n",
    "                    maxXor += (1 << i)\n",
    "                else:\n",
    "                    curr = curr.left\n",
    "            else:\n",
    "                if curr.left:\n",
    "                    curr = curr.left\n",
    "                    maxXor += (1 << i)\n",
    "                else:\n",
    "                    curr = curr.right\n",
    "        \n",
    "        return maxXor\n",
    "    \n",
    "    def findMaximumXOR(self, nums: List[int]) -> int:\n",
    "        root = self.TrieNode()\n",
    "        maxXor = float('-inf')\n",
    "        \n",
    "        for num in nums:\n",
    "            self.insert(root, num)\n",
    "        \n",
    "        for num in nums:\n",
    "            maxXor = max(maxXor, self.getMaxXor(root, num))\n",
    "        \n",
    "        return maxXor\n",
    "print(Solution().findMaximumXOR([3,10,5,25,2,8]))"
   ]
  },
  {
   "cell_type": "markdown",
   "id": "bfde3557",
   "metadata": {},
   "source": [
    "XOR Queries of a Subarray\n",
    "\n",
    "Question Link\n",
    "\n",
    "\n",
    "Problem Statement :\n",
    "\n",
    "You are given an array arr of positive integers. You are also given the array queries where queries[i] = [lefti, righti]. \n",
    "For each query i compute the XOR of elements from lefti to righti (that is, arr[lefti] XOR arr[lefti + 1] XOR ... XOR arr[righti] ). \n",
    "\n",
    "Return an array answer where answer[i] is the answer to the ith query.\n",
    "\n",
    "\n",
    "Examples:\n",
    "\n",
    "Example 1:\n",
    "\n",
    "Input: arr = [1,3,4,8], queries = [[0,1],[1,2],[0,3],[3,3]]\n",
    "Output: [2,7,14,8] \n",
    "Explanation: \n",
    "The binary representation of the elements in the array are:\n",
    "1 = 0001 \n",
    "3 = 0011 \n",
    "4 = 0100 \n",
    "8 = 1000 \n",
    "The XOR values for queries are:\n",
    "[0,1] = 1 xor 3 = 2 \n",
    "[1,2] = 3 xor 4 = 7 \n",
    "[0,3] = 1 xor 3 xor 4 xor 8 = 14 \n",
    "[3,3] = 8\n",
    " \n",
    "\n",
    "Example 2:\n",
    "\n",
    "Input: arr = [4,8,2,10], queries = [[2,3],[1,3],[0,0],[0,3]]\n",
    "Output: [8,0,4,4]"
   ]
  },
  {
   "cell_type": "code",
   "execution_count": 31,
   "id": "ff2f6a5b",
   "metadata": {},
   "outputs": [
    {
     "name": "stdout",
     "output_type": "stream",
     "text": [
      "[2, 7, 14, 3]\n"
     ]
    }
   ],
   "source": [
    "class Solution:\n",
    "    def xorQueries(self,arr:List[int],queries:List[List[int]])->List[int]:\n",
    "        for i in range(1,len(arr)):\n",
    "            arr[i]=arr[i]^arr[i-1]\n",
    "        xor_result=[]\n",
    "        for q in queries:\n",
    "            if q[0]>0:\n",
    "                xor_result.append(arr[q[1]]^arr[q[0]]-1)\n",
    "            else:\n",
    "                xor_result.append(arr[q[1]])\n",
    "        return xor_result\n",
    "print(Solution().xorQueries([1,3,4,8], [[0,1],[1,2],[0,3],[3,3]]))\n"
   ]
  },
  {
   "cell_type": "markdown",
   "id": "b8c8efcb",
   "metadata": {},
   "source": [
    "Total Hamming Distance\n",
    "\n",
    "Question Link\n",
    "\n",
    "\n",
    "Problem Statement :\n",
    "\n",
    "The Hamming distance between two integers is the number of positions at which the corresponding bits are different.\n",
    "Given an integer array nums, return the sum of Hamming distances between all the pairs of the integers in nums.\n",
    "\n",
    "\n",
    "Examples:\n",
    "\n",
    "Example 1:\n",
    "Input: nums = [4,14,2]\n",
    "Output: 6\n",
    "Explanation: In binary representation, the 4 is 0100, 14 is 1110, and 2 is 0010 (just\n",
    "showing the four bits relevant in this case).\n",
    "The answer will be:\n",
    "HammingDistance(4, 14) + HammingDistance(4, 2) + HammingDistance(14, 2) = 2 + 2 + 2 = 6\n",
    " \n",
    "\n",
    "Example 2:\n",
    "\n",
    "Input: nums = [4,14,4]\n",
    "Output: 4\n"
   ]
  },
  {
   "cell_type": "code",
   "execution_count": 33,
   "id": "36e41219",
   "metadata": {},
   "outputs": [
    {
     "name": "stdout",
     "output_type": "stream",
     "text": [
      "6\n",
      "4\n"
     ]
    }
   ],
   "source": [
    "class Solution:\n",
    "    def totalHammingDistance(self,nums:List[int])->int:\n",
    "        ans=0\n",
    "        for i in range(32):\n",
    "            ones=0\n",
    "            zeros=0\n",
    "            x=1<<i\n",
    "            for num in nums:\n",
    "                if num & x:\n",
    "                    ones+=1\n",
    "                else:\n",
    "                    zeros+=1\n",
    "            if ones==len(nums) or zeros==len(nums):\n",
    "                continue\n",
    "            else:\n",
    "                ans+=ones*zeros\n",
    "        return ans\n",
    "print(Solution().totalHammingDistance([4,14,2]))\n",
    "print(Solution().totalHammingDistance([4,14,4]))\n"
   ]
  },
  {
   "cell_type": "markdown",
   "id": "7682a74d",
   "metadata": {},
   "source": [
    "Single Number II\n",
    "\n",
    "Question Link\n",
    "\n",
    "\n",
    "Problem Statement :\n",
    "\n",
    "Given an integer array nums where every element appears three times except for one, which appears exactly once. Find the single element and return it.\n",
    "You must implement a solution with a linear runtime complexity and use only constant extra space.\n",
    "\n",
    "\n",
    "Examples:\n",
    " \n",
    "\n",
    "Example 1:\n",
    "\n",
    "Input: nums = [2,2,3,2]\n",
    "Output: 3\n",
    " \n",
    "\n",
    "Example 2:\n",
    "\n",
    "Input: nums = [0,1,0,1,0,1,99]\n",
    "Output: 99\n"
   ]
  },
  {
   "cell_type": "code",
   "execution_count": 2,
   "id": "17f02ec6",
   "metadata": {},
   "outputs": [
    {
     "ename": "NameError",
     "evalue": "name 'List' is not defined",
     "output_type": "error",
     "traceback": [
      "\u001b[1;31m---------------------------------------------------------------------------\u001b[0m",
      "\u001b[1;31mNameError\u001b[0m                                 Traceback (most recent call last)",
      "Cell \u001b[1;32mIn[2], line 1\u001b[0m\n\u001b[1;32m----> 1\u001b[0m \u001b[38;5;28;43;01mclass\u001b[39;49;00m\u001b[43m \u001b[49m\u001b[38;5;21;43;01mSolution\u001b[39;49;00m\u001b[43m:\u001b[49m\n\u001b[0;32m      2\u001b[0m \u001b[43m    \u001b[49m\u001b[38;5;28;43;01mdef\u001b[39;49;00m\u001b[43m \u001b[49m\u001b[38;5;21;43mSinglenumber\u001b[39;49m\u001b[43m(\u001b[49m\u001b[38;5;28;43mself\u001b[39;49m\u001b[43m,\u001b[49m\u001b[43mnums\u001b[49m\u001b[43m:\u001b[49m\u001b[43mList\u001b[49m\u001b[43m[\u001b[49m\u001b[38;5;28;43mint\u001b[39;49m\u001b[43m]\u001b[49m\u001b[43m)\u001b[49m\u001b[38;5;241;43m-\u001b[39;49m\u001b[38;5;241;43m>\u001b[39;49m\u001b[38;5;28;43mint\u001b[39;49m\u001b[43m:\u001b[49m\n\u001b[0;32m      3\u001b[0m \u001b[43m        \u001b[49m\u001b[43mans\u001b[49m\u001b[38;5;241;43m=\u001b[39;49m\u001b[38;5;241;43m0\u001b[39;49m\n",
      "Cell \u001b[1;32mIn[2], line 2\u001b[0m, in \u001b[0;36mSolution\u001b[1;34m()\u001b[0m\n\u001b[0;32m      1\u001b[0m \u001b[38;5;28;01mclass\u001b[39;00m \u001b[38;5;21;01mSolution\u001b[39;00m:\n\u001b[1;32m----> 2\u001b[0m     \u001b[38;5;28;01mdef\u001b[39;00m \u001b[38;5;21mSinglenumber\u001b[39m(\u001b[38;5;28mself\u001b[39m,nums:\u001b[43mList\u001b[49m[\u001b[38;5;28mint\u001b[39m])\u001b[38;5;241m-\u001b[39m\u001b[38;5;241m>\u001b[39m\u001b[38;5;28mint\u001b[39m:\n\u001b[0;32m      3\u001b[0m         ans\u001b[38;5;241m=\u001b[39m\u001b[38;5;241m0\u001b[39m\n\u001b[0;32m      4\u001b[0m         p\u001b[38;5;241m=\u001b[39m\u001b[38;5;241m0\u001b[39m\n",
      "\u001b[1;31mNameError\u001b[0m: name 'List' is not defined"
     ]
    }
   ],
   "source": [
    "class Solution:\n",
    "    def Singlenumber(self,nums:List[int])->int:\n",
    "        ans=0\n",
    "        p=0\n",
    "        for i in range(32):\n",
    "            setBits=sum(num & 1 for num in nums)\n",
    "            setBits %=3\n",
    "            ans +=setBits*(2**p)\n",
    "            p+=1\n",
    "            for j in range(len(nums)):\n",
    "                nums[j]>>=1\n",
    "        return ans\n",
    "print(Solution().Singlenumber([2,2,3,2]))\n",
    "print(Solution().Singlenumber([0,1,0,1,0,1,99]))"
   ]
  },
  {
   "cell_type": "markdown",
   "id": "ebfbe01b",
   "metadata": {},
   "source": [
    "Bit Difference\n",
    "\n",
    "Question Link\n",
    "\n",
    "\n",
    "Problem Statement :\n",
    "\n",
    "We define f (X, Y) as number of different corresponding bits in binary representation of X and Y. For example, f (2, 7) = 2, since binary representation of 2 and 7 are 010 and 111, respectively. The first and the third bit differ, so f (2, 7) = 2.\n",
    "You are given an array A of N integers, A1, A2 ,…, AN. Find sum of f(Ai, Aj) for all ordered pairs (i, j) such that 1 ≤ i, j ≤ N. Return the answer modulo 109+7.\n",
    "\n",
    "Examples:\n",
    "\n",
    "Example 1:\n",
    "\n",
    "Input: N = 2\n",
    "A = {2, 4}\n",
    "Output: 4\n",
    "Explaintion: We return \n",
    "f(2, 2) + f(2, 4) + \n",
    "f(4, 2) + f(4, 4) = \n",
    "0 + 2 + \n",
    "2 + 0 = 4.\n",
    " \n",
    "\n",
    "Example 2:\n",
    "\n",
    "Input: N = 3\n",
    "A = {1, 3, 5}\n",
    "Output: 8\n",
    "Explaination: We return \n",
    "f(1, 1) + f(1, 3) + f(1, 5) + \n",
    "f(3, 1) + f(3, 3) + f(3, 5) + \n",
    "f(5, 1) + f(5, 3) + f(5, 5) = \n",
    "0 + 1 + 1 + \n",
    "1 + 0 + 2 + \n",
    "1 + 2 + 0 = 8.\n"
   ]
  },
  {
   "cell_type": "code",
   "execution_count": 10,
   "id": "8dad5f5e",
   "metadata": {},
   "outputs": [
    {
     "name": "stdout",
     "output_type": "stream",
     "text": [
      "4\n",
      "8\n"
     ]
    }
   ],
   "source": [
    "from typing import List\n",
    "class Solution:\n",
    "    def countBits(self,A:List[int])->int:\n",
    "        total=0\n",
    "        mod=1000000007\n",
    "        for i in range(1,32):\n",
    "            set_bits=0\n",
    "            for num in A:\n",
    "                if (num>>i)&1:\n",
    "                    set_bits +=1\n",
    "            unset_bits=len(A)-set_bits\n",
    "            total=(total+(set_bits*unset_bits*2))%mod\n",
    "        return total\n",
    "print(Solution().countBits([2,4]))\n",
    "print(Solution().countBits([1,3,5]))"
   ]
  }
 ],
 "metadata": {
  "kernelspec": {
   "display_name": "Python 3",
   "language": "python",
   "name": "python3"
  },
  "language_info": {
   "codemirror_mode": {
    "name": "ipython",
    "version": 3
   },
   "file_extension": ".py",
   "mimetype": "text/x-python",
   "name": "python",
   "nbconvert_exporter": "python",
   "pygments_lexer": "ipython3",
   "version": "3.11.8"
  }
 },
 "nbformat": 4,
 "nbformat_minor": 5
}
