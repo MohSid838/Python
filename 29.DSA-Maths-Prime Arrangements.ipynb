{
 "cells": [
  {
   "cell_type": "markdown",
   "id": "0ece5a62",
   "metadata": {},
   "source": [
    "Prime Arrangements\n",
    "\n",
    "Question Link\n",
    "\n",
    "\n",
    "Problem Statement :\n",
    "\n",
    "Return the number of permutations of 1 to n so that prime numbers are at prime indices (1-indexed.)\n",
    "\n",
    "(Recall that an integer is prime if and only if it is greater than 1, and cannot be written as a product of two positive integers both smaller than it.)\n",
    "\n",
    "Since the answer may be large, return the answer modulo 10^9 +7.\n",
    "\n",
    "\n",
    "Examples:\n",
    " \n",
    "\n",
    "Example 1:\n",
    "\n",
    "Input: n = 5\n",
    "Output: 12\n",
    "Explanation: For example [1,2,5,4,3] is a valid permutation, but [5,2,3,4,1] is not because the prime number 5 is at index 1.\n",
    " \n",
    "\n",
    "Example 2:\n",
    "\n",
    "Input: n = 100\n",
    "Output: 682289015"
   ]
  },
  {
   "cell_type": "code",
   "execution_count": 25,
   "id": "94e607e2",
   "metadata": {},
   "outputs": [
    {
     "name": "stdout",
     "output_type": "stream",
     "text": [
      "12\n",
      "682289015\n"
     ]
    }
   ],
   "source": [
    "class Solution:\n",
    "    mod = 10**9 + 7\n",
    "    def numPrimeArrangements(self, n: int) -> int:\n",
    "        def factorial(num):\n",
    "            res=1\n",
    "            for i in range(2,num+1):\n",
    "                res=(res*i)%self.mod\n",
    "            return res\n",
    "        def is_prime(num):\n",
    "            if num<=1:\n",
    "                return False\n",
    "            for i in range(2, int(num**0.5)+1):\n",
    "                if num%i==0:\n",
    "                    return False\n",
    "            return True\n",
    "        total_prime=sum(1 for i in range(1,n+1) if is_prime(i))\n",
    "        non_prime=n-total_prime\n",
    "        fact=(factorial(total_prime)*factorial(non_prime))%self.mod\n",
    "        return fact\n",
    "print(Solution().numPrimeArrangements(5))    # 12\n",
    "print(Solution().numPrimeArrangements(100))  # 682289015\n",
    "\n"
   ]
  }
 ],
 "metadata": {
  "kernelspec": {
   "display_name": "Python 3",
   "language": "python",
   "name": "python3"
  },
  "language_info": {
   "codemirror_mode": {
    "name": "ipython",
    "version": 3
   },
   "file_extension": ".py",
   "mimetype": "text/x-python",
   "name": "python",
   "nbconvert_exporter": "python",
   "pygments_lexer": "ipython3",
   "version": "3.11.8"
  }
 },
 "nbformat": 4,
 "nbformat_minor": 5
}
