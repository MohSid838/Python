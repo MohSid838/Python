{
 "cells": [
  {
   "cell_type": "markdown",
   "id": "e8be5590",
   "metadata": {},
   "source": [
    "Subtract the Product and Sum of Digits of an Integer\n",
    "\n",
    "Problem Statement :\n",
    "\n",
    "Given an integer number n, return the difference between the product of its digits and the sum of its digits.\n",
    "\n",
    "Example 1:\n",
    "\n",
    "Input: n = 234\n",
    "Output: 15 \n",
    "Explanation: \n",
    "Product of digits = 2 * 3 * 4 = 24 \n",
    "Sum of digits = 2 + 3 + 4 = 9 \n",
    "Result = 24 - 9 = 15\n",
    " \n",
    "\n",
    "Example 2:\n",
    "\n",
    "Input: n = 234\n",
    "Output: 15 \n",
    "Explanation: \n",
    "Product of digits = 2 * 3 * 4 = 24 \n",
    "Sum of digits = 2 + 3 + 4 = 9 \n",
    "Result = 24 - 9 = 15"
   ]
  },
  {
   "cell_type": "code",
   "execution_count": 12,
   "id": "5193e2f6",
   "metadata": {},
   "outputs": [
    {
     "name": "stdout",
     "output_type": "stream",
     "text": [
      "0\n",
      "15\n"
     ]
    }
   ],
   "source": [
    "\n",
    "class Solution:\n",
    "    def producandsum(x):\n",
    "        listofdigits=[]\n",
    "        while len(str(x))>0:\n",
    "            listofdigits=list(map(int,str(x)))\n",
    "            product=1\n",
    "            newsum=0\n",
    "            for num in listofdigits:\n",
    "                product*=num\n",
    "                newsum+=num\n",
    "            return product-newsum\n",
    "print(Solution.producandsum(123))\n",
    "print(Solution.producandsum(234))\n"
   ]
  },
  {
   "cell_type": "code",
   "execution_count": 11,
   "id": "c5f1ebee",
   "metadata": {},
   "outputs": [
    {
     "name": "stdout",
     "output_type": "stream",
     "text": [
      "0\n"
     ]
    }
   ],
   "source": [
    "#Other try\n",
    "class Solution:\n",
    "    def subtractproductandsum(self,x:int)->int:\n",
    "        sum_val=0\n",
    "        prod=1\n",
    "        while x>0:\n",
    "            num=x%10\n",
    "            prod*=num\n",
    "            sum_val+=num\n",
    "            x//=10\n",
    "        return prod-sum_val\n",
    "print(Solution().subtractproductandsum(123))"
   ]
  }
 ],
 "metadata": {
  "kernelspec": {
   "display_name": "Python 3",
   "language": "python",
   "name": "python3"
  },
  "language_info": {
   "codemirror_mode": {
    "name": "ipython",
    "version": 3
   },
   "file_extension": ".py",
   "mimetype": "text/x-python",
   "name": "python",
   "nbconvert_exporter": "python",
   "pygments_lexer": "ipython3",
   "version": "3.11.8"
  }
 },
 "nbformat": 4,
 "nbformat_minor": 5
}
