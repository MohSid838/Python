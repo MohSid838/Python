{
 "cells": [
  {
   "cell_type": "markdown",
   "id": "04e0c016",
   "metadata": {},
   "source": [
    "Minimum Sum of Four Digit Number After Splitting Digits\n",
    " \n",
    "\n",
    "Question Link\n",
    "\n",
    " \n",
    "\n",
    "Problem Statement :\n",
    "\n",
    "You are given a positive integer num consisting of exactly four digits. Split num into two new integers new1 and new2 by using the digits found in num. Leading zeros are allowed in new1 and new2, and all the digits found in num must be used.\n",
    "For example, given num = 2932, you have the following digits: two 2's, one 9 and one 3. Some of the possible pairs [new1, new2] are [22, 93], [23, 92], [223, 9] and [2, 329].\n",
    "Return the minimum possible sum of new1 and new2.\n",
    "\n",
    "Constraints: \n",
    "1000 <= num <= 9999"
   ]
  },
  {
   "cell_type": "code",
   "execution_count": 4,
   "id": "02957955",
   "metadata": {},
   "outputs": [
    {
     "name": "stdout",
     "output_type": "stream",
     "text": [
      "52\n",
      "13\n"
     ]
    }
   ],
   "source": [
    "class Solution:\n",
    "    def minSum(self,x:int)->int:\n",
    "        res=[0]*4\n",
    "        i=0\n",
    "        while x>0:\n",
    "            res[i]=x%10\n",
    "            x//=10\n",
    "            i=i+1\n",
    "        res.sort()\n",
    "        return res[0]*10+res[2]+res[1]*10+res[3]\n",
    "print(Solution().minSum(2932))\n",
    "print(Solution().minSum(4009))"
   ]
  }
 ],
 "metadata": {
  "kernelspec": {
   "display_name": "Python 3",
   "language": "python",
   "name": "python3"
  },
  "language_info": {
   "codemirror_mode": {
    "name": "ipython",
    "version": 3
   },
   "file_extension": ".py",
   "mimetype": "text/x-python",
   "name": "python",
   "nbconvert_exporter": "python",
   "pygments_lexer": "ipython3",
   "version": "3.11.8"
  }
 },
 "nbformat": 4,
 "nbformat_minor": 5
}
