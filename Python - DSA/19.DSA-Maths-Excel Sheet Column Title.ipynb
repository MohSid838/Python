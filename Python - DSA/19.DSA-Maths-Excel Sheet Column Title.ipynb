{
 "cells": [
  {
   "cell_type": "code",
   "execution_count": null,
   "id": "ca88273d",
   "metadata": {},
   "outputs": [],
   "source": [
    "\n",
    "Problem Statement :\n",
    "\n",
    "Given an integer columnNumber,  return its corresponding column title as it appears in an Excel sheet.\n",
    "\n",
    "For example:\n",
    "A -> 1\n",
    "B -> 2\n",
    "C -> 3\n",
    "...\n",
    "Z -> 26\n",
    "AA -> 27\n",
    "AB -> 28\n",
    "...\n",
    "\n",
    "\n",
    "Examples:\n",
    " \n",
    "\n",
    "Example 1:\n",
    "\n",
    "Input: columnNumber = 1\n",
    "Output: \"A\"\n",
    " \n",
    "\n",
    "Example 2:\n",
    "\n",
    "Input: columnNumber = 28\n",
    "Output: \"AB\""
   ]
  },
  {
   "cell_type": "code",
   "execution_count": 2,
   "id": "450b9a44",
   "metadata": {},
   "outputs": [
    {
     "name": "stdout",
     "output_type": "stream",
     "text": [
      "A\n"
     ]
    }
   ],
   "source": [
    "class Solution():\n",
    "    def converttoTitle(columnnumber):\n",
    "        ans=\"\"\n",
    "        while columnnumber!=0:\n",
    "            columnnumber -=1\n",
    "            ch=chr(ord('A') + columnnumber%26)\n",
    "            ans=ch+ans\n",
    "            columnnumber//=26\n",
    "        return ans\n",
    "print(Solution.converttoTitle(1))\n"
   ]
  }
 ],
 "metadata": {
  "kernelspec": {
   "display_name": "Python 3",
   "language": "python",
   "name": "python3"
  },
  "language_info": {
   "codemirror_mode": {
    "name": "ipython",
    "version": 3
   },
   "file_extension": ".py",
   "mimetype": "text/x-python",
   "name": "python",
   "nbconvert_exporter": "python",
   "pygments_lexer": "ipython3",
   "version": "3.11.8"
  }
 },
 "nbformat": 4,
 "nbformat_minor": 5
}
