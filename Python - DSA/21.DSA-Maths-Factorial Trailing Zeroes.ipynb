{
 "cells": [
  {
   "cell_type": "markdown",
   "id": "40f67b7b",
   "metadata": {},
   "source": [
    "Factorial Trailing Zeroes\n",
    "\n",
    "Question Link\n",
    "\n",
    "Problem Statement :\n",
    "\n",
    "Given an integer n, return the number of trailing zeroes in n!.\n",
    "\n",
    "Note that n! = n * (n - 1) * (n - 2) * ... * 3 * 2 * 1.\n",
    "\n",
    "\n",
    "Examples:\n",
    " \n",
    "\n",
    "Example 1:\n",
    "\n",
    "Input: n = 3\n",
    "Output: 0\n",
    "Explanation: 3! = 6, no trailing zero.\n",
    " \n",
    "\n",
    "Example 2:\n",
    "\n",
    "Input: n = 5\n",
    "Output: 1\n",
    "Explanation: 5! = 120, one trailing zero.\n",
    "\n",
    "\n",
    "\n",
    "Constraints:  \n",
    "0 <= n <= 104"
   ]
  },
  {
   "cell_type": "code",
   "execution_count": null,
   "id": "780cb9c7",
   "metadata": {},
   "outputs": [],
   "source": []
  },
  {
   "cell_type": "code",
   "execution_count": 4,
   "id": "7830137b",
   "metadata": {},
   "outputs": [
    {
     "name": "stdout",
     "output_type": "stream",
     "text": [
      "0\n",
      "1\n"
     ]
    }
   ],
   "source": [
    "class Solution:\n",
    "    def trailingzeros(self,n):\n",
    "        count=0\n",
    "        while n!=0:\n",
    "            n=n//5\n",
    "            count+=n\n",
    "        return count\n",
    "print(Solution().trailingzeros(3))\n",
    "print(Solution().trailingzeros(5))"
   ]
  }
 ],
 "metadata": {
  "kernelspec": {
   "display_name": "Python 3",
   "language": "python",
   "name": "python3"
  },
  "language_info": {
   "codemirror_mode": {
    "name": "ipython",
    "version": 3
   },
   "file_extension": ".py",
   "mimetype": "text/x-python",
   "name": "python",
   "nbconvert_exporter": "python",
   "pygments_lexer": "ipython3",
   "version": "3.11.8"
  }
 },
 "nbformat": 4,
 "nbformat_minor": 5
}
