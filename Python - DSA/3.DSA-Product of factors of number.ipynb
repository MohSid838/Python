{
 "cells": [
  {
   "cell_type": "code",
   "execution_count": 3,
   "id": "abcec0de-223d-453c-bf36-b249b0424ea2",
   "metadata": {},
   "outputs": [
    {
     "name": "stdout",
     "output_type": "stream",
     "text": [
      "1728\n",
      "Naive Time Taken: 0.000000 seconds\n"
     ]
    }
   ],
   "source": [
    "#Naive Approach\n",
    "import time\n",
    "class Solution:\n",
    "    def factorProduct(self, N: int) -> int:\n",
    "        product = 1\n",
    "        mod = 1000000007\n",
    "\n",
    "        for i in range(1, int(N**0.5) + 1):\n",
    "            if N % i == 0:\n",
    "                if N // i == i:\n",
    "                    product = (product * i) % mod\n",
    "                else:\n",
    "                    product = (product * i * (N // i)) % mod\n",
    "\n",
    "        return product\n",
    "\n",
    "start = time.time()\n",
    "sol = Solution()\n",
    "print(sol.factorProduct(12))\n",
    "end = time.time()\n",
    "\n",
    "print(\"Naive Time Taken: {:.6f} seconds\".format(end - start))"
   ]
  },
  {
   "cell_type": "code",
   "execution_count": 7,
   "id": "deea1b78-c575-4e85-8324-bbd88268ef8e",
   "metadata": {},
   "outputs": [
    {
     "name": "stdout",
     "output_type": "stream",
     "text": [
      "12\n",
      "Naive Time Taken: 0.000000 seconds\n"
     ]
    }
   ],
   "source": [
    "#Optimal Approach\n",
    "def prime_factor_power_product(N):\n",
    "    mod = 10**9 + 7\n",
    "    prime_factors = {}\n",
    "\n",
    "    # Step 1: Factorize N into prime factors\n",
    "    i = 2\n",
    "    while i * i <= N:\n",
    "        while N % i == 0:\n",
    "            prime_factors[i] = prime_factors.get(i, 0) + 1\n",
    "            N //= i\n",
    "        i += 1\n",
    "    if N > 1:\n",
    "        prime_factors[N] = prime_factors.get(N, 0) + 1\n",
    "\n",
    "    # Step 2: Calculate product of each prime raised to its exponent\n",
    "    result = 1\n",
    "    for prime, exponent in prime_factors.items():\n",
    "        result = (result * pow(prime, exponent, mod)) % mod\n",
    "\n",
    "    return result\n",
    "\n",
    "\n",
    "start = time.time()\n",
    "print(prime_factor_power_product(12))  # Output: 24 (2^2 * 3^1 = 4 * 3 = 12)\n",
    "end = time.time()\n",
    "\n",
    "print(\"Naive Time Taken: {:.6f} seconds\".format(end - start))"
   ]
  },
  {
   "cell_type": "code",
   "execution_count": null,
   "id": "92d5c840-eb96-4c18-a43c-e32da48f6750",
   "metadata": {},
   "outputs": [],
   "source": []
  }
 ],
 "metadata": {
  "kernelspec": {
   "display_name": "Python 3 (ipykernel)",
   "language": "python",
   "name": "python3"
  },
  "language_info": {
   "codemirror_mode": {
    "name": "ipython",
    "version": 3
   },
   "file_extension": ".py",
   "mimetype": "text/x-python",
   "name": "python",
   "nbconvert_exporter": "python",
   "pygments_lexer": "ipython3",
   "version": "3.11.8"
  }
 },
 "nbformat": 4,
 "nbformat_minor": 5
}
