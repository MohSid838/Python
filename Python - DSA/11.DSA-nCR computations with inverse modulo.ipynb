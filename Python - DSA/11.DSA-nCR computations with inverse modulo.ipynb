#Step 1: Factorials Mod m
def compute_factorials(n, mod):
    factorials = [1] * (n + 1)
    for i in range(2, n + 1):
        factorials[i] = factorials[i - 1] * i % mod
    return factorials

#Step 2: Modular Inverse (Fermat’s Theorem, if mod is prime)
def mod_inverse(a, mod):
    return pow(a, mod - 2, mod)  # Fermat's theorem

#Step 3: Compute nCr mod m
def nCr_mod(n, r, mod):
    if r > n:
        return 0
    fact = compute_factorials(n, mod)
    return (fact[n] * mod_inverse(fact[r], mod) % mod *
            mod_inverse(fact[n-r], mod) % mod)

# Example
print(nCr_mod(10, 3, 13))  # Output: 10