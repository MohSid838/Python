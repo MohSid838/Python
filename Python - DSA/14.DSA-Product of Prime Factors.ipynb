{
 "cells": [
  {
   "cell_type": "markdown",
   "id": "ff78e65e",
   "metadata": {},
   "source": [
    "\n",
    "Example 2:\n",
    "N = 24\n",
    "Output:\n",
    "6\n",
    "Explanation:\n",
    "24 has 2 prime factors \n",
    "3 and 2 where 3*2 = 6\n",
    "Given a number N find the product of all unique prime factors of that number."
   ]
  },
  {
   "cell_type": "code",
   "execution_count": 1,
   "id": "1f84be04",
   "metadata": {},
   "outputs": [
    {
     "name": "stdout",
     "output_type": "stream",
     "text": [
      "6\n"
     ]
    }
   ],
   "source": [
    "class Solution:\n",
    "    def primeproduct(N):\n",
    "        prod=1\n",
    "        for i in range(2,int(N**0.5)+1):\n",
    "            if N%i==0:\n",
    "                prod*=i\n",
    "            while N%i==0:\n",
    "                N//=i\n",
    "        if N>1:\n",
    "            prod*=N\n",
    "        return prod\n",
    "print(Solution.primeproduct(24))"
   ]
  }
 ],
 "metadata": {
  "kernelspec": {
   "display_name": "Python 3",
   "language": "python",
   "name": "python3"
  },
  "language_info": {
   "codemirror_mode": {
    "name": "ipython",
    "version": 3
   },
   "file_extension": ".py",
   "mimetype": "text/x-python",
   "name": "python",
   "nbconvert_exporter": "python",
   "pygments_lexer": "ipython3",
   "version": "3.11.8"
  }
 },
 "nbformat": 4,
 "nbformat_minor": 5
}
