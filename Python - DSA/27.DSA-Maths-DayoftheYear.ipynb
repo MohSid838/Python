{
 "cells": [
  {
   "cell_type": "markdown",
   "id": "a97733da",
   "metadata": {},
   "source": [
    "Day of the Year\n",
    "Problem Statement :\n",
    "\n",
    "Given a string date representing a Gregorian calendar date formatted as YYYY-MM-DD, return the day number of the year.\n",
    "\n",
    "Example 1:\n",
    "\n",
    "Input: date = \"2019-01-09\"\n",
    "Output: 9\n",
    "Explanation: Given date is the 9th day of the year in 2019.\n",
    " \n",
    "\n",
    "Example 2:\n",
    "\n",
    "Input: date = \"2019-02-10\"\n",
    "Output: 41."
   ]
  },
  {
   "cell_type": "code",
   "execution_count": 9,
   "id": "0c7feeda",
   "metadata": {},
   "outputs": [
    {
     "name": "stdout",
     "output_type": "stream",
     "text": [
      "41\n"
     ]
    }
   ],
   "source": [
    "class Solution:\n",
    "    def dayofYear(self,date:str)->int:\n",
    "        arr=[31,28,31,30,31,30,31,31,30,31,30,31]\n",
    "        parts=date.split(\"-\")\n",
    "        year=int(parts[0])\n",
    "        month=int(parts[1])\n",
    "        day=int(parts[2])\n",
    "        if (year%400==0) or (year%4==0 and year%100!=0):\n",
    "            arr[1]=29\n",
    "        totalDays=sum(arr[:month-1])+day\n",
    "        return totalDays\n",
    "print(Solution().dayofYear(\"2019-02-10\"))\n"
   ]
  }
 ],
 "metadata": {
  "kernelspec": {
   "display_name": "Python 3",
   "language": "python",
   "name": "python3"
  },
  "language_info": {
   "codemirror_mode": {
    "name": "ipython",
    "version": 3
   },
   "file_extension": ".py",
   "mimetype": "text/x-python",
   "name": "python",
   "nbconvert_exporter": "python",
   "pygments_lexer": "ipython3",
   "version": "3.11.8"
  }
 },
 "nbformat": 4,
 "nbformat_minor": 5
}
