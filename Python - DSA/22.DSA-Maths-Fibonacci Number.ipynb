{
 "cells": [
  {
   "cell_type": "markdown",
   "id": "6a000db2",
   "metadata": {},
   "source": [
    "#DSA- Fibonacci Number\n",
    "\n",
    "Problem Statement :\n",
    "\n",
    "The Fibonacci numbers, commonly denoted F(n) form a sequence, called the Fibonacci sequence, such that each number is the sum of the two preceding ones, starting from 0 and 1. That is,\n",
    "\n",
    "F(0) = 0, F(1) = 1 \n",
    "\n",
    "F(n) = F(n - 1) + F(n - 2), for n > 1.\n",
    "\n",
    "Given n, calculate F(n).\n",
    "\n",
    "\n",
    "\n",
    "Example 1:\n",
    "\n",
    "Input: n = 2\n",
    "\n",
    "Output: 1\n",
    "\n",
    "Explanation: F(2) = F(1) + F(0) = 1 + 0 = 1.\n",
    "\n",
    " \n",
    "\n",
    "Example 2:\n",
    "\n",
    "Input: n = 3\n",
    "\n",
    "Output: 2\n",
    "\n",
    "Explanation: F(3) = F(2) + F(1) = 1 + 1 = 2."
   ]
  },
  {
   "cell_type": "code",
   "execution_count": 6,
   "id": "06c153ad",
   "metadata": {},
   "outputs": [
    {
     "name": "stdout",
     "output_type": "stream",
     "text": [
      "1\n",
      "0\n"
     ]
    }
   ],
   "source": [
    "class Solution:\n",
    "    def fibonaci(self,x):\n",
    "        if x!=0:\n",
    "            x=x-1\n",
    "            return x\n",
    "        else:\n",
    "            return 0\n",
    "print(Solution().fibonaci(2))\n",
    "print(Solution().fibonaci(0))"
   ]
  }
 ],
 "metadata": {
  "kernelspec": {
   "display_name": "Python 3",
   "language": "python",
   "name": "python3"
  },
  "language_info": {
   "codemirror_mode": {
    "name": "ipython",
    "version": 3
   },
   "file_extension": ".py",
   "mimetype": "text/x-python",
   "name": "python",
   "nbconvert_exporter": "python",
   "pygments_lexer": "ipython3",
   "version": "3.11.8"
  }
 },
 "nbformat": 4,
 "nbformat_minor": 5
}
