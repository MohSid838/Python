{
 "cells": [
  {
   "cell_type": "code",
   "execution_count": null,
   "id": "25808c5b",
   "metadata": {},
   "outputs": [
    {
     "ename": "",
     "evalue": "",
     "output_type": "error",
     "traceback": [
      "\u001b[1;31mFailed to start the Kernel. \n",
      "\u001b[1;31mUnable to start Kernel 'Python 3.11.8' due to a timeout waiting for the ports to get used. \n",
      "\u001b[1;31mView Jupyter <a href='command:jupyter.viewOutput'>log</a> for further details."
     ]
    }
   ],
   "source": [
    "#Extended Euclidean Algorithm (general)\n",
    "def extended_gcd(a, b):\n",
    "    if a == 0:\n",
    "        return b, 0, 1\n",
    "    gcd, x1, y1 = extended_gcd(b % a, a)\n",
    "    x = y1 - (b // a) * x1\n",
    "    y = x1\n",
    "    return gcd, x, y\n",
    "##ter\n",
    "def mod_inverse(a, n):\n",
    "    gcd, x, _ = extended_gcd(a, n)\n",
    "    if gcd != 1:\n",
    "        raise ValueError(\"No modular inverse exists\")\n",
    "    return x % n\n",
    "\n",
    "print(\"Inverse of 3 mod 7:\", mod_inverse(3, 7))   # 5\n",
    "print(\"Inverse of 10 mod 17:\", mod_inverse(10, 17)) # 12"
   ]
  },
  {
   "cell_type": "code",
   "execution_count": null,
   "id": "e56ae56a",
   "metadata": {},
   "outputs": [],
   "source": [
    "#Fermat’s Little Theorem (when n is prime)\n",
    "from math import gcd\n",
    "\n",
    "def mod_inverse_fermat(a, p):\n",
    "    if gcd(a, p) != 1:\n",
    "        raise ValueError(\"No modular inverse exists\")\n",
    "    return pow(a, p - 2, p)\n",
    "\n",
    "print(\"Inverse of 3 mod 7:\", mod_inverse_fermat(3, 7))   # 5\n",
    "print(\"Inverse of 10 mod 17:\", mod_inverse_fermat(10, 17)) # 12"
   ]
  }
 ],
 "metadata": {
  "kernelspec": {
   "display_name": "Python 3",
   "language": "python",
   "name": "python3"
  },
  "language_info": {
   "codemirror_mode": {
    "name": "ipython",
    "version": 3
   },
   "file_extension": ".py",
   "mimetype": "text/x-python",
   "name": "python",
   "nbconvert_exporter": "python",
   "pygments_lexer": "ipython3",
   "version": "3.11.8"
  }
 },
 "nbformat": 4,
 "nbformat_minor": 5
}
