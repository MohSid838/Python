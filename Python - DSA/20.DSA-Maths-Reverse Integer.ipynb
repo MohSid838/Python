{
 "cells": [
  {
   "cell_type": "markdown",
   "id": "2babb53e",
   "metadata": {},
   "source": [
    "Reverse Integer\n",
    "\n",
    "Question Link\n",
    "\n",
    "Problem Statement :\n",
    "\n",
    "Given a signed 32-bit integer x, return x with its digits reversed. If reversing x causes the value to go outside the signed 32-bit integer range [-231, 231 - 1], then return 0.\n",
    "\n",
    "Assume the environment does not allow you to store 64-bit integers (signed or unsigned).\n",
    "\n",
    "\n",
    "Examples:\n",
    " \n",
    "\n",
    "Example 1:\n",
    "\n",
    "Input: x = 123\n",
    "Output: 321\n",
    "\n",
    "Example 2:\n",
    "Input: x = -123\n",
    "Output: -321"
   ]
  },
  {
   "cell_type": "code",
   "execution_count": 23,
   "id": "0cfe8b55",
   "metadata": {},
   "outputs": [
    {
     "name": "stdout",
     "output_type": "stream",
     "text": [
      "321\n"
     ]
    }
   ],
   "source": [
    "class Solution():\n",
    "    def reversenum(self,x):\n",
    "        rem=0\n",
    "        rev=0\n",
    "        sign = -1 if  x < 0 else 1\n",
    "        x=abs(x)\n",
    "        while x != 0:\n",
    "            rem=x % 10 \n",
    "            rev=rev * 10 + rem\n",
    "            x=x // 10\n",
    "\n",
    "        if rev < -2**31 or rev > 2**31 - 1:\n",
    "            return 0\n",
    "        return sign*rev\n",
    "print(Solution().reversenum(123))"
   ]
  },
  {
   "cell_type": "code",
   "execution_count": 8,
   "id": "e91e2c91",
   "metadata": {},
   "outputs": [
    {
     "name": "stdout",
     "output_type": "stream",
     "text": [
      "321\n"
     ]
    }
   ],
   "source": [
    "class Solution:\n",
    "    def reverse(self, x: int) -> int:\n",
    "        rem = 0\n",
    "        rev = 0\n",
    "        sign = -1 if x < 0 else 1\n",
    "        x = abs(x)\n",
    "        while x != 0:\n",
    "            rem = x % 10\n",
    "            rev = rev * 10 + rem\n",
    "            x = x // 10\n",
    "        if rev < -2**31 or rev > 2**31 - 1:\n",
    "            return 0\n",
    "        return sign * rev\n",
    "print(Solution().reverse(123))"
   ]
  }
 ],
 "metadata": {
  "kernelspec": {
   "display_name": "Python 3",
   "language": "python",
   "name": "python3"
  },
  "language_info": {
   "codemirror_mode": {
    "name": "ipython",
    "version": 3
   },
   "file_extension": ".py",
   "mimetype": "text/x-python",
   "name": "python",
   "nbconvert_exporter": "python",
   "pygments_lexer": "ipython3",
   "version": "3.11.8"
  }
 },
 "nbformat": 4,
 "nbformat_minor": 5
}
