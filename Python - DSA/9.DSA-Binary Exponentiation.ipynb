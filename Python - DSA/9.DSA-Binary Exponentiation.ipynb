def binary_recursive(a,b):
