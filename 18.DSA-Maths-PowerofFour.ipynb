{
 "cells": [
  {
   "cell_type": "code",
   "execution_count": null,
   "id": "f9abfc45",
   "metadata": {},
   "outputs": [],
   "source": [
    "Problem Statement :\n",
    "\n",
    "Given an integer n, return true if it is a power of four. Otherwise, return false.\n",
    "\n",
    "An integer n is a power of four, if there exists an integer x such that n == 4x."
   ]
  },
  {
   "cell_type": "markdown",
   "id": "848660ec",
   "metadata": {},
   "source": [
    "Example 1:\n",
    "\n",
    "Input: n = 16\n",
    "Output: true\n",
    " \n",
    "\n",
    "Example 2:\n",
    "\n",
    "Input: n = 5\n",
    "Output: false\n",
    "\n",
    "Constraints:\n",
    "2^31 <= n <= 2^31 - 1"
   ]
  },
  {
   "cell_type": "code",
   "execution_count": 2,
   "id": "eab1812d",
   "metadata": {},
   "outputs": [
    {
     "name": "stdout",
     "output_type": "stream",
     "text": [
      "True\n",
      "False\n"
     ]
    }
   ],
   "source": [
    "class Solution():\n",
    "    def poweroffour(x):\n",
    "        if x%4==0:\n",
    "            return True\n",
    "        else:\n",
    "            return False\n",
    "print(Solution.poweroffour(16))\n",
    "print(Solution.poweroffour(5))\n"
   ]
  },
  {
   "cell_type": "code",
   "execution_count": 4,
   "id": "0e2714a8",
   "metadata": {},
   "outputs": [
    {
     "name": "stdout",
     "output_type": "stream",
     "text": [
      "True\n",
      "False\n"
     ]
    }
   ],
   "source": [
    "class Solution():\n",
    "    def ispoweroffour(x):\n",
    "        return (x & (x-1))==0 and x%3==1\n",
    "print(Solution.ispoweroffour(16))\n",
    "print(Solution.ispoweroffour(5))"
   ]
  }
 ],
 "metadata": {
  "kernelspec": {
   "display_name": "Python 3",
   "language": "python",
   "name": "python3"
  },
  "language_info": {
   "codemirror_mode": {
    "name": "ipython",
    "version": 3
   },
   "file_extension": ".py",
   "mimetype": "text/x-python",
   "name": "python",
   "nbconvert_exporter": "python",
   "pygments_lexer": "ipython3",
   "version": "3.11.8"
  }
 },
 "nbformat": 4,
 "nbformat_minor": 5
}
