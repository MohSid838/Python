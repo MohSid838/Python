{
 "cells": [
  {
   "cell_type": "markdown",
   "id": "ae1b7147",
   "metadata": {},
   "source": [
    "Palindrome Number\n",
    "\n",
    "Question Link\n",
    "\n",
    "Problem Statement :\n",
    "\n",
    "Given an integer x, return true if x is a palindrome, and false otherwise.\n",
    "\n",
    "\n",
    "Examples:\n",
    "\n",
    "Example 1:\n",
    "\n",
    "Input: x = 121\n",
    "Output: true\n",
    "Explanation: 121 reads as 121 from left to right and from right to left.\n",
    " \n",
    "\n",
    "Example 2:\n",
    "\n",
    "Input: x = -121\n",
    "Output: false\n",
    "Explanation: From left to right, it reads -121. From right to left, it becomes 121-. Therefore it is not a palindrome.\n",
    "\n",
    "\n",
    "\n",
    "Constraints: \n",
    "-231 <= x <= 231 - 1\n"
   ]
  },
  {
   "cell_type": "code",
   "execution_count": null,
   "id": "f507dc88",
   "metadata": {},
   "outputs": [
    {
     "name": "stdout",
     "output_type": "stream",
     "text": [
      "True\n"
     ]
    }
   ],
   "source": [
    "class Solution:\n",
    "    def isPalindrome(self,x:int)->bool:\n",
    "        n=x\n",
    "        rev=0\n",
    "        while n!=0:\n",
    "            rem=n%10\n",
    "            rev=rev*10 + rem\n",
    "            n=n//10\n",
    "        return x>=0 and rev==x\n",
    "print(Solution().isPalindrome(121))\n",
    "\n"
   ]
  }
 ],
 "metadata": {
  "kernelspec": {
   "display_name": "Python 3",
   "language": "python",
   "name": "python3"
  },
  "language_info": {
   "codemirror_mode": {
    "name": "ipython",
    "version": 3
   },
   "file_extension": ".py",
   "mimetype": "text/x-python",
   "name": "python",
   "nbconvert_exporter": "python",
   "pygments_lexer": "ipython3",
   "version": "3.11.8"
  }
 },
 "nbformat": 4,
 "nbformat_minor": 5
}
