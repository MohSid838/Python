{
 "cells": [
  {
   "cell_type": "code",
   "execution_count": 16,
   "id": "e736f0a6",
   "metadata": {},
   "outputs": [
    {
     "name": "stderr",
     "output_type": "stream",
     "text": [
      "UsageError: Line magic function `%%timeit` not found.\n"
     ]
    }
   ],
   "source": [
    "list_a = ['Bulbasaur', 'Charmander', 'Squirtle'] \n",
    "list_b = ['Caterpie', 'Pidgey', 'Squirtle']\n",
    "%%timeit\n",
    "in_common=[]\n",
    "for pokemona in list_a:\n",
    "    for pokemonb in list_b:\n",
    "        if pokemona==pokemonb:\n",
    "            in_common.append(pokemona)\n",
    "print(in_common)"
   ]
  },
  {
   "cell_type": "code",
   "execution_count": 15,
   "id": "5cb3d5f1",
   "metadata": {},
   "outputs": [
    {
     "name": "stdout",
     "output_type": "stream",
     "text": [
      "{'Squirtle'}\n",
      "{'Charmander', 'Bulbasaur'}\n",
      "{'Caterpie', 'Charmander', 'Pidgey', 'Bulbasaur'}\n",
      "{'Caterpie', 'Pidgey', 'Bulbasaur', 'Squirtle', 'Charmander'}\n"
     ]
    }
   ],
   "source": [
    "seta=set(list_a)\n",
    "setb=set(list_b)\n",
    "\n",
    "print(seta.intersection(setb))\n",
    "print(seta.difference(setb))\n",
    "print(seta.symmetric_difference(setb))\n",
    "print(seta.union(setb))\n"
   ]
  }
 ],
 "metadata": {
  "kernelspec": {
   "display_name": "Python 3",
   "language": "python",
   "name": "python3"
  },
  "language_info": {
   "codemirror_mode": {
    "name": "ipython",
    "version": 3
   },
   "file_extension": ".py",
   "mimetype": "text/x-python",
   "name": "python",
   "nbconvert_exporter": "python",
   "pygments_lexer": "ipython3",
   "version": "3.11.8"
  }
 },
 "nbformat": 4,
 "nbformat_minor": 5
}
