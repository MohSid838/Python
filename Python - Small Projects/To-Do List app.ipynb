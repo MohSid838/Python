{
 "cells": [
  {
   "cell_type": "code",
   "execution_count": null,
   "id": "50114c62-b369-41e7-811b-43d508ee186c",
   "metadata": {},
   "outputs": [
    {
     "name": "stdout",
     "output_type": "stream",
     "text": [
      "\n",
      "-- TO-DO LIST ----\n",
      "1.View tasks\n",
      "2. Add task\n",
      "3. Mark task as done\n",
      "4. Delete task\n",
      "5. Exit\n"
     ]
    },
    {
     "name": "stdin",
     "output_type": "stream",
     "text": [
      "Choose an option:  1\n"
     ]
    },
    {
     "name": "stdout",
     "output_type": "stream",
     "text": [
      "No tasks yet.\n",
      "\n",
      "-- TO-DO LIST ----\n",
      "1.View tasks\n",
      "2. Add task\n",
      "3. Mark task as done\n",
      "4. Delete task\n",
      "5. Exit\n"
     ]
    },
    {
     "name": "stdin",
     "output_type": "stream",
     "text": [
      "Choose an option:  2\n"
     ]
    }
   ],
   "source": [
    "tasks=[]\n",
    "def show_menu():\n",
    "    print(\"\\n-- TO-DO LIST ----\")\n",
    "    print(\"1.View tasks\")\n",
    "    print(\"2. Add task\")\n",
    "    print(\"3. Mark task as done\")\n",
    "    print(\"4. Delete task\")\n",
    "    print(\"5. Exit\")\n",
    "while True:\n",
    "    show_menu()\n",
    "    choice=input(\"Choose an option: \")\n",
    "    \n",
    "    if choice==\"1\":\n",
    "       if not tasks:\n",
    "           print(\"No tasks yet.\")\n",
    "       else:\n",
    "           for i, (task,done) in enumerate(tasks,1):\n",
    "            status=\"✔️\" if done else \"❌\"\n",
    "            print(f\"{i}. {task} [{status}]\")\n",
    "    elif choice==\"2\":\n",
    "       task=input(\"Enter task:\")\n",
    "       tasks.append((task,False))\n",
    "    elif choice==\"3\":\n",
    "       index=int(input(\"Enter task number to mark done:\"))-1\n",
    "       task, _= tasks[index]\n",
    "       tasks[index]=(task,True)\n",
    "    elif choice==\"4\":\n",
    "       tast=int(input(\"Enter task number to delete:\"))-1\n",
    "       tasks.pop(index)\n",
    "    elif choice==\"5\":\n",
    "        print(\"Good bye\")\n",
    "        break\n",
    "    else:\n",
    "        print(\"Invalid choice, try again.\")"
   ]
  },
  {
   "cell_type": "code",
   "execution_count": null,
   "id": "1fc0df36-0241-4482-914a-5291457a0595",
   "metadata": {},
   "outputs": [],
   "source": []
  }
 ],
 "metadata": {
  "kernelspec": {
   "display_name": "Python 3 (ipykernel)",
   "language": "python",
   "name": "python3"
  },
  "language_info": {
   "codemirror_mode": {
    "name": "ipython",
    "version": 3
   },
   "file_extension": ".py",
   "mimetype": "text/x-python",
   "name": "python",
   "nbconvert_exporter": "python",
   "pygments_lexer": "ipython3",
   "version": "3.11.8"
  }
 },
 "nbformat": 4,
 "nbformat_minor": 5
}
