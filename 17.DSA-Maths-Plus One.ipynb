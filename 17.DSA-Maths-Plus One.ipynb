{
 "cells": [
  {
   "cell_type": "markdown",
   "id": "43ac3215",
   "metadata": {},
   "source": [
    "Plus One\n",
    "Problem Statement :\n",
    "You are given a large integer represented as an integer array digits, where each digits[i] is the ith digit of the integer. The digits are ordered from most significant to least significant in left-to-right order. The large integer does not contain any leading 0's.\n",
    "Increment the large integer by one and return the resulting array of digits.\n",
    "\n",
    "\n",
    "Constraints:\n",
    "1 <= digits.length <= 100\n",
    "0 <= digits[i] <= 9\n",
    "digits does not contain any leading 0‘s."
   ]
  },
  {
   "cell_type": "markdown",
   "id": "40c93323",
   "metadata": {},
   "source": [
    "Example 1: \n",
    "\n",
    "Input: digits = [1,2,3]\n",
    "Output: [1,2,4]\n",
    "Explanation: The array represents the integer 123.\n",
    "Incrementing by one gives 123 + 1 = 124.\n",
    "Thus, the result should be [1,2,4]."
   ]
  },
  {
   "cell_type": "code",
   "execution_count": 13,
   "id": "c9ba2aa1",
   "metadata": {},
   "outputs": [
    {
     "name": "stdout",
     "output_type": "stream",
     "text": [
      "[2, 3, 4, 6]\n",
      "[1, 0, 0, 0]\n",
      "[1, 0, 0]\n"
     ]
    }
   ],
   "source": [
    "from typing import List\n",
    "class Solution:\n",
    "    def Plusone(self, digits: List[int]) -> List[int]:\n",
    "        n = len(digits)\n",
    "        for i in range(n - 1, -1, -1):   # use i consistently\n",
    "            if digits[i] != 9:\n",
    "                digits[i] += 1\n",
    "                return digits\n",
    "            else:\n",
    "                digits[i] = 0\n",
    "        if digits[0] == 0:\n",
    "            return [1] + digits\n",
    "        return digits\n",
    "# test\n",
    "print(Solution().Plusone([2, 3, 4, 5]))  # [2, 3, 4, 6]\n",
    "print(Solution().Plusone([9, 9, 9]))     # [1, 0, 0, 0]\n",
    "print(Solution().Plusone([0, 9, 9])) "
   ]
  }
 ],
 "metadata": {
  "kernelspec": {
   "display_name": "Python 3",
   "language": "python",
   "name": "python3"
  },
  "language_info": {
   "codemirror_mode": {
    "name": "ipython",
    "version": 3
   },
   "file_extension": ".py",
   "mimetype": "text/x-python",
   "name": "python",
   "nbconvert_exporter": "python",
   "pygments_lexer": "ipython3",
   "version": "3.11.8"
  }
 },
 "nbformat": 4,
 "nbformat_minor": 5
}
