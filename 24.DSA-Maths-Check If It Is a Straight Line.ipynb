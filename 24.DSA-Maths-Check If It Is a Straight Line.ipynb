{
 "cells": [
  {
   "cell_type": "code",
   "execution_count": null,
   "id": "854acbc5",
   "metadata": {},
   "outputs": [],
   "source": [
    "Check If It Is a Straight Line\n",
    "\n",
    "Question Link\n",
    "\n",
    "\n",
    "Problem Statement :\n",
    "\n",
    "You are given an array coordinates, coordinates[i] = [x, y], where [x, y] represents the coordinate of a point. Check if these points make a straight line in the XY plane.\n",
    "\n",
    "Given n, calculate F(n).\n",
    "\n",
    "\n",
    "Examples:\n",
    "\n",
    "\n",
    "Example 1:\n",
    "Input: coordinates = [[1,2],[2,3],[3,4],[4,5],[5,6],[6,7]]\n",
    "Output: true\n",
    " \n",
    "\n",
    "Example 2:\n",
    "\n",
    "Input: coordinates = [[1,1],[2,2],[3,4],[4,5],[5,6],[7,7]]\n",
    "Output: false"
   ]
  },
  {
   "cell_type": "code",
   "execution_count": 8,
   "id": "21232b2e",
   "metadata": {},
   "outputs": [
    {
     "name": "stdout",
     "output_type": "stream",
     "text": [
      "True\n",
      "False\n",
      "True\n"
     ]
    }
   ],
   "source": [
    "from typing import List\n",
    "class Solution:\n",
    "    def checkStraightLine(self, coordinates: List[List[int]]) -> bool:\n",
    "        xMove=coordinates[1][0]-coordinates[0][0]\n",
    "        yMove=coordinates[1][1]-coordinates[0][1]\n",
    "\n",
    "        for i in range(1,len(coordinates)):\n",
    "            x=coordinates[i][0]-coordinates[i-1][0]\n",
    "            y=coordinates[i][1]-coordinates[i-1][1]\n",
    "            if xMove*y!=yMove*x:\n",
    "                return False\n",
    "        return True\n",
    "print(Solution().checkStraightLine([[1,2],[2,3],[3,4],[4,5],[5,6],[6,7]]))  # True (all points on y = x+1)\n",
    "print(Solution().checkStraightLine([[1,1],[2,2],[3,4],[4,5]]))              # False (point [3,4] breaks the line)\n",
    "print(Solution().checkStraightLine([[0,0],[0,1],[0,2],[0,3]]))              # True (vertical line)"
   ]
  }
 ],
 "metadata": {
  "kernelspec": {
   "display_name": "Python 3",
   "language": "python",
   "name": "python3"
  },
  "language_info": {
   "codemirror_mode": {
    "name": "ipython",
    "version": 3
   },
   "file_extension": ".py",
   "mimetype": "text/x-python",
   "name": "python",
   "nbconvert_exporter": "python",
   "pygments_lexer": "ipython3",
   "version": "3.11.8"
  }
 },
 "nbformat": 4,
 "nbformat_minor": 5
}
